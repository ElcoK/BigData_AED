{
 "cells": [
  {
   "cell_type": "markdown",
   "id": "717e7e02",
   "metadata": {},
   "source": [
    "# Lecture: Introduction to Random Forests\n",
    "\n",
    "This week we focus on the basics of data analysis and regression analysis. \n",
    "\n",
    "`````{admonition} Learning objectives week 2\n",
    ":class: important\n",
    "- Gain a basic understanding of using Pandas for data analysis.\n",
    "- Understand and know how you can perform a regression analysis. \n",
    "- Know how to interpret your results.\n",
    "`````\n",
    "\n",
    "## Data analysis\n",
    "\n",
    "\n",
    "\n",
    "## Regression analysis"
   ]
  }
 ],
 "metadata": {
  "jupytext": {
   "cell_metadata_filter": "-all",
   "formats": "md:myst",
   "text_representation": {
    "extension": ".md",
    "format_name": "myst",
    "format_version": 0.13,
    "jupytext_version": "1.11.5"
   }
  },
  "kernelspec": {
   "display_name": "Python 3",
   "language": "python",
   "name": "python3"
  },
  "source_map": [
   14
  ]
 },
 "nbformat": 4,
 "nbformat_minor": 5
}