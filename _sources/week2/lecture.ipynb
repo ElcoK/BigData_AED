{
 "cells": [
  {
   "cell_type": "markdown",
   "id": "b4df0b49",
   "metadata": {},
   "source": [
    "# Lecture: Introduction to Data Analysis\n",
    "\n",
    "This week we focus on the basics of data analysis and regression analysis. \n",
    "\n",
    "`````{admonition} Learning objectives week 2\n",
    ":class: important\n",
    "- Gain a basic understanding of using Pandas for data analysis.\n",
    "- Understand and know how you can perform a regression analysis. \n",
    "- Know how to interpret your results.\n",
    "`````\n",
    "\n",
    "## Data analysis\n",
    "\n",
    "\n",
    "\n",
    "## Regression analysis"
   ]
  }
 ],
 "metadata": {
  "jupytext": {
   "cell_metadata_filter": "-all",
   "formats": "md:myst",
   "text_representation": {
    "extension": ".md",
    "format_name": "myst",
    "format_version": 0.13,
    "jupytext_version": "1.11.5"
   }
  },
  "kernelspec": {
   "display_name": "Python 3",
   "language": "python",
   "name": "python3"
  },
  "language_info": {
   "codemirror_mode": {
    "name": "ipython",
    "version": 3
   },
   "file_extension": ".py",
   "mimetype": "text/x-python",
   "name": "python",
   "nbconvert_exporter": "python",
   "pygments_lexer": "ipython3",
   "version": "3.8.14"
  },
  "source_map": [
   14
  ]
 },
 "nbformat": 4,
 "nbformat_minor": 5
}