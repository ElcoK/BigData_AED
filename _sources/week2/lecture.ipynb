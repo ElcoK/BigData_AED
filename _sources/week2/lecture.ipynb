{
 "cells": [
  {
   "cell_type": "markdown",
   "id": "7ce5a18c",
   "metadata": {},
   "source": [
    "# Lecture: Introduction to Random Forests\n",
    "\n",
    "This week we focus on the basics of data analysis and regression analysis. \n",
    "\n",
    "`````{admonition} Learning objectives week 2\n",
    ":class: important\n",
    "- Gain a basic understanding of using Pandas for data analysis.\n",
    "- Understand and know how you can perform a regression analysis. \n",
    "- Know how to interpret your results.\n",
    "`````\n",
    "\n",
    "## Linear regression\n",
    "Linear regression is used to identify the relationship between a dependent variable and one or more independent variables and is typically leveraged to make predictions about future outcomes. When there is only one independent variable and one dependent variable, it is known as simple linear regression. As the number of independent variables increases, it is referred to as multiple linear regression. For each type of linear regression, it seeks to plot a line of best fit, which is calculated through the method of least squares. However, unlike other regression models, this line is straight when plotted on a graph.\n",
    "\n",
    "## Logistic regression\n",
    "While linear regression is leveraged when dependent variables are continuous, logistical regression is selected when the dependent variable is categorical, meaning they have binary outputs, such as \"true\" and \"false\" or \"yes\" and \"no.\" While both regression models seek to understand relationships between data inputs, logistic regression is mainly used to solve binary classification problems, such as spam identification.\n",
    "\n",
    "## Random Forests"
   ]
  }
 ],
 "metadata": {
  "jupytext": {
   "cell_metadata_filter": "-all",
   "formats": "md:myst",
   "text_representation": {
    "extension": ".md",
    "format_name": "myst",
    "format_version": 0.13,
    "jupytext_version": "1.11.5"
   }
  },
  "kernelspec": {
   "display_name": "Python 3",
   "language": "python",
   "name": "python3"
  },
  "source_map": [
   14
  ]
 },
 "nbformat": 4,
 "nbformat_minor": 5
}