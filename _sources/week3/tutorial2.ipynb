{
 "cells": [
  {
   "cell_type": "markdown",
   "metadata": {},
   "source": [
    "# Tutorial 4: Validation\n",
    "\n",
    "You can also create content with Jupyter Notebooks. This means that you can include\n",
    "code blocks and their outputs in your book."
   ]
  },
  {
   "cell_type": "markdown",
   "metadata": {},
   "source": [
    "<h2>Tutorial Outline<span class=\"tocSkip\"></span></h2>\n",
    "<hr>\n",
    "<div class=\"toc\"><ul class=\"toc-item\">\n",
    "<li><span><a href=\"#1.-Introducing the packages\" data-toc-modified-id=\"1.-Introducing-the-packages-2\">1. Introducing the packages</a></span></li>\n",
    "<li><span><a href=\"#2.-\" data-toc-modified-id=\"2.-Preparing-the-data-3\">2. Preparing the data</a></span></li>\n",
    "<li><span><a href=\"#3.-\" data-toc-modified-id=\"3.-Training-the-models-4\">3. Training the models </a></span></li>\n",
    "<li><span><a href=\"#4.-\" data-toc-modified-id=\"4.-Model-validation:-basic-methods-5\">4. Model validation: \"basic\" methods</a></span></li>\n",
    "<li><span><a href=\"#5.-\" data-toc-modified-id=\"5.-Model-validation:-complex-methods-6\">5. Model validation: \"complex\" methods</a></span></li>\n",
    "<li><span><a href=\"#6.-\" data-toc-modified-id=\"4.-Model-validation:-classification-models-5\">6. Model validation: classification models </a></span></li></ul></div>"
   ]
  },
  {
   "cell_type": "markdown",
   "metadata": {},
   "source": [
    "## Learning Objectives\n",
    "<hr>"
   ]
  },
  {
   "cell_type": "markdown",
   "metadata": {},
   "source": [
    "- Learn how to conduct model validation\n",
    "- Learn about popular validation methods\n",
    "- Learn how to interpret validation results"
   ]
  },
  {
   "cell_type": "markdown",
   "metadata": {},
   "source": [
    "## 1.Introducing the packages\n",
    "<hr>"
   ]
  },
  {
   "cell_type": "markdown",
   "metadata": {},
   "source": [
    "Within this tutorial, we are going to make use of the following packages: \n",
    "\n",
    "\n",
    "\n",
    "*We will first need to install these packages in the cell below. Uncomment them to make sure we can pip install them*"
   ]
  },
  {
   "cell_type": "code",
   "execution_count": 1,
   "metadata": {},
   "outputs": [
    {
     "name": "stdout",
     "output_type": "stream",
     "text": [
      "WARNING:tensorflow:From C:\\Users\\mtn308\\Anaconda3\\envs\\bigdata\\lib\\site-packages\\keras\\src\\losses.py:2976: The name tf.losses.sparse_softmax_cross_entropy is deprecated. Please use tf.compat.v1.losses.sparse_softmax_cross_entropy instead.\n",
      "\n"
     ]
    }
   ],
   "source": [
    "from sklearn.ensemble import RandomForestRegressor\n",
    "from sklearn.model_selection import train_test_split\n",
    "from sklearn.metrics import mean_squared_error, mean_absolute_error, r2_score\n",
    "from sklearn.tree import plot_tree\n",
    "import seaborn as sns\n",
    "sns.set_style(\"whitegrid\",{'axes.grid' : True})\n",
    "import matplotlib.pyplot as plt\n",
    "import numpy as np\n",
    "import pandas as pd\n",
    "import statsmodels.api as sm\n",
    "import tensorflow as tf\n",
    "from tensorflow import keras"
   ]
  },
  {
   "cell_type": "markdown",
   "metadata": {},
   "source": [
    "## 2.Preparing the data\n",
    "<hr>"
   ]
  },
  {
   "cell_type": "markdown",
   "metadata": {},
   "source": [
    "Read the data. We use the data that we also used to estimate the OLS model in the first tutorial of week 2. It includes the variables you created in the first tutorial of week 2 and it deals with missing values. "
   ]
  },
  {
   "cell_type": "code",
   "execution_count": 10,
   "metadata": {},
   "outputs": [],
   "source": [
    "data1 = pd.read_csv(r\"usadataforOLS_updatejan24.csv\", sep = ',', encoding = 'unicode_escape')"
   ]
  },
  {
   "cell_type": "code",
   "execution_count": 4,
   "metadata": {},
   "outputs": [
    {
     "data": {
      "text/html": [
       "<div>\n",
       "<style scoped>\n",
       "    .dataframe tbody tr th:only-of-type {\n",
       "        vertical-align: middle;\n",
       "    }\n",
       "\n",
       "    .dataframe tbody tr th {\n",
       "        vertical-align: top;\n",
       "    }\n",
       "\n",
       "    .dataframe thead th {\n",
       "        text-align: right;\n",
       "    }\n",
       "</style>\n",
       "<table border=\"1\" class=\"dataframe\">\n",
       "  <thead>\n",
       "    <tr style=\"text-align: right;\">\n",
       "      <th></th>\n",
       "      <th>YEAR</th>\n",
       "      <th>SAMPLE</th>\n",
       "      <th>SERIAL</th>\n",
       "      <th>HHWT</th>\n",
       "      <th>REGION</th>\n",
       "      <th>STATEFIP</th>\n",
       "      <th>COUNTYFIP</th>\n",
       "      <th>DENSITY</th>\n",
       "      <th>METRO</th>\n",
       "      <th>FARM</th>\n",
       "      <th>...</th>\n",
       "      <th>LABFORCE</th>\n",
       "      <th>OCC</th>\n",
       "      <th>IND</th>\n",
       "      <th>INCTOT</th>\n",
       "      <th>POVERTY</th>\n",
       "      <th>HHSIZE</th>\n",
       "      <th>OLDEST</th>\n",
       "      <th>YOUNGEST</th>\n",
       "      <th>NR_OF_WOMEN</th>\n",
       "      <th>COSTENERGY</th>\n",
       "    </tr>\n",
       "  </thead>\n",
       "  <tbody>\n",
       "    <tr>\n",
       "      <th>0</th>\n",
       "      <td>2019</td>\n",
       "      <td>201901</td>\n",
       "      <td>2391</td>\n",
       "      <td>559.44</td>\n",
       "      <td>32</td>\n",
       "      <td>1</td>\n",
       "      <td>55</td>\n",
       "      <td>357.1</td>\n",
       "      <td>4</td>\n",
       "      <td>1</td>\n",
       "      <td>...</td>\n",
       "      <td>2</td>\n",
       "      <td>5860.0</td>\n",
       "      <td>9370.0</td>\n",
       "      <td>48000.0</td>\n",
       "      <td>363.0</td>\n",
       "      <td>1</td>\n",
       "      <td>59</td>\n",
       "      <td>59</td>\n",
       "      <td>1.0</td>\n",
       "      <td>6052.416707</td>\n",
       "    </tr>\n",
       "    <tr>\n",
       "      <th>1</th>\n",
       "      <td>2019</td>\n",
       "      <td>201901</td>\n",
       "      <td>2401</td>\n",
       "      <td>649.35</td>\n",
       "      <td>32</td>\n",
       "      <td>1</td>\n",
       "      <td>0</td>\n",
       "      <td>112.8</td>\n",
       "      <td>1</td>\n",
       "      <td>1</td>\n",
       "      <td>...</td>\n",
       "      <td>1</td>\n",
       "      <td>8030.0</td>\n",
       "      <td>3580.0</td>\n",
       "      <td>42000.0</td>\n",
       "      <td>391.0</td>\n",
       "      <td>2</td>\n",
       "      <td>59</td>\n",
       "      <td>53</td>\n",
       "      <td>1.0</td>\n",
       "      <td>4977.987135</td>\n",
       "    </tr>\n",
       "    <tr>\n",
       "      <th>2</th>\n",
       "      <td>2019</td>\n",
       "      <td>201901</td>\n",
       "      <td>2411</td>\n",
       "      <td>499.50</td>\n",
       "      <td>32</td>\n",
       "      <td>1</td>\n",
       "      <td>117</td>\n",
       "      <td>549.3</td>\n",
       "      <td>4</td>\n",
       "      <td>1</td>\n",
       "      <td>...</td>\n",
       "      <td>2</td>\n",
       "      <td>1106.0</td>\n",
       "      <td>6991.0</td>\n",
       "      <td>112000.0</td>\n",
       "      <td>501.0</td>\n",
       "      <td>3</td>\n",
       "      <td>35</td>\n",
       "      <td>2</td>\n",
       "      <td>2.0</td>\n",
       "      <td>5275.912624</td>\n",
       "    </tr>\n",
       "    <tr>\n",
       "      <th>3</th>\n",
       "      <td>2019</td>\n",
       "      <td>201901</td>\n",
       "      <td>2421</td>\n",
       "      <td>2137.86</td>\n",
       "      <td>32</td>\n",
       "      <td>1</td>\n",
       "      <td>97</td>\n",
       "      <td>326.0</td>\n",
       "      <td>4</td>\n",
       "      <td>1</td>\n",
       "      <td>...</td>\n",
       "      <td>1</td>\n",
       "      <td>NaN</td>\n",
       "      <td>NaN</td>\n",
       "      <td>0.0</td>\n",
       "      <td>1.0</td>\n",
       "      <td>3</td>\n",
       "      <td>48</td>\n",
       "      <td>1</td>\n",
       "      <td>1.0</td>\n",
       "      <td>2661.776617</td>\n",
       "    </tr>\n",
       "    <tr>\n",
       "      <th>4</th>\n",
       "      <td>2019</td>\n",
       "      <td>201901</td>\n",
       "      <td>2431</td>\n",
       "      <td>449.55</td>\n",
       "      <td>32</td>\n",
       "      <td>1</td>\n",
       "      <td>0</td>\n",
       "      <td>112.8</td>\n",
       "      <td>1</td>\n",
       "      <td>1</td>\n",
       "      <td>...</td>\n",
       "      <td>2</td>\n",
       "      <td>6260.0</td>\n",
       "      <td>570.0</td>\n",
       "      <td>28500.0</td>\n",
       "      <td>202.0</td>\n",
       "      <td>5</td>\n",
       "      <td>35</td>\n",
       "      <td>3</td>\n",
       "      <td>2.0</td>\n",
       "      <td>3717.696826</td>\n",
       "    </tr>\n",
       "  </tbody>\n",
       "</table>\n",
       "<p>5 rows × 46 columns</p>\n",
       "</div>"
      ],
      "text/plain": [
       "   YEAR  SAMPLE  SERIAL     HHWT  REGION  STATEFIP  COUNTYFIP  DENSITY  METRO  \\\n",
       "0  2019  201901    2391   559.44      32         1         55    357.1      4   \n",
       "1  2019  201901    2401   649.35      32         1          0    112.8      1   \n",
       "2  2019  201901    2411   499.50      32         1        117    549.3      4   \n",
       "3  2019  201901    2421  2137.86      32         1         97    326.0      4   \n",
       "4  2019  201901    2431   449.55      32         1          0    112.8      1   \n",
       "\n",
       "   FARM  ...  LABFORCE     OCC     IND    INCTOT  POVERTY  HHSIZE  OLDEST  \\\n",
       "0     1  ...         2  5860.0  9370.0   48000.0    363.0       1      59   \n",
       "1     1  ...         1  8030.0  3580.0   42000.0    391.0       2      59   \n",
       "2     1  ...         2  1106.0  6991.0  112000.0    501.0       3      35   \n",
       "3     1  ...         1     NaN     NaN       0.0      1.0       3      48   \n",
       "4     1  ...         2  6260.0   570.0   28500.0    202.0       5      35   \n",
       "\n",
       "   YOUNGEST  NR_OF_WOMEN   COSTENERGY  \n",
       "0        59          1.0  6052.416707  \n",
       "1        53          1.0  4977.987135  \n",
       "2         2          2.0  5275.912624  \n",
       "3         1          1.0  2661.776617  \n",
       "4         3          2.0  3717.696826  \n",
       "\n",
       "[5 rows x 46 columns]"
      ]
     },
     "execution_count": 4,
     "metadata": {},
     "output_type": "execute_result"
    }
   ],
   "source": [
    "data1.head()"
   ]
  },
  {
   "cell_type": "markdown",
   "metadata": {},
   "source": [
    "Like we did in the last tutorial, we will drop duplicates based on the variable SERIAL. (Remember that persons from the same household have the same SERIAL number.)"
   ]
  },
  {
   "cell_type": "code",
   "execution_count": 11,
   "metadata": {},
   "outputs": [],
   "source": [
    "data1 = data1.drop_duplicates(subset='SERIAL', keep=\"first\")"
   ]
  },
  {
   "cell_type": "markdown",
   "metadata": {},
   "source": [
    "And we drop some irrelevant variables: "
   ]
  },
  {
   "cell_type": "code",
   "execution_count": 12,
   "metadata": {},
   "outputs": [],
   "source": [
    "data1 = data1.drop(['YEAR', 'SAMPLE', 'HHWT', 'SERIAL','PERWT', 'RELATE', 'RELATED', 'COUNTYFIP','SEX', 'AGE', 'RACE', 'RACED', 'STATEFIP', 'EDUC', 'EDUCD', 'EMPSTATD', 'OCC', 'IND', 'EMPSTAT', 'LABFORCE', 'DEGFIELD', 'INCTOT'], axis = 1)"
   ]
  },
  {
   "cell_type": "markdown",
   "metadata": {},
   "source": [
    "As in the neural network tutorial, we transform the column REGION into dummy variables. "
   ]
  },
  {
   "cell_type": "code",
   "execution_count": 13,
   "metadata": {},
   "outputs": [
    {
     "name": "stdout",
     "output_type": "stream",
     "text": [
      "   REGION_11  REGION_12  REGION_21  REGION_22  REGION_31  REGION_32  \\\n",
      "0          0          0          0          0          0          1   \n",
      "1          0          0          0          0          0          1   \n",
      "2          0          0          0          0          0          1   \n",
      "3          0          0          0          0          0          1   \n",
      "4          0          0          0          0          0          1   \n",
      "\n",
      "   REGION_33  REGION_41  REGION_42  \n",
      "0          0          0          0  \n",
      "1          0          0          0  \n",
      "2          0          0          0  \n",
      "3          0          0          0  \n",
      "4          0          0          0  \n"
     ]
    }
   ],
   "source": [
    "one_hot = pd.get_dummies(data1['REGION'], prefix = 'REGION').astype(int)\n",
    "print(one_hot.head())\n",
    "data1 = pd.concat([data1, one_hot], axis = 1) \n",
    "data1 = data1.drop(['REGION'], axis = 1)"
   ]
  },
  {
   "cell_type": "markdown",
   "metadata": {},
   "source": [
    "Let's check if it has worked out by printing the column names of the dataframe: "
   ]
  },
  {
   "cell_type": "code",
   "execution_count": 14,
   "metadata": {},
   "outputs": [
    {
     "data": {
      "text/plain": [
       "Index(['DENSITY', 'METRO', 'FARM', 'OWNERSHP', 'OWNERSHPD', 'MORTGAGE',\n",
       "       'MORTGAG2', 'PROPINSR', 'RENT', 'HHINCOME', 'ROOMS', 'BUILTYR2',\n",
       "       'UNITSSTR', 'BEDROOMS', 'FUELHEAT', 'VEHICLES', 'MARST', 'POVERTY',\n",
       "       'HHSIZE', 'OLDEST', 'YOUNGEST', 'NR_OF_WOMEN', 'COSTENERGY',\n",
       "       'REGION_11', 'REGION_12', 'REGION_21', 'REGION_22', 'REGION_31',\n",
       "       'REGION_32', 'REGION_33', 'REGION_41', 'REGION_42'],\n",
       "      dtype='object')"
      ]
     },
     "execution_count": 14,
     "metadata": {},
     "output_type": "execute_result"
    }
   ],
   "source": [
    "data1.columns"
   ]
  },
  {
   "cell_type": "markdown",
   "metadata": {},
   "source": [
    "Before we can perform some model validations, we need to estimate a few models to validate (isn't that surprising?) We will fit three different models: an **Ordinary Least Squared (OLS) regression** (linear model), a **Random Forests (RF) model**, and an **Artificial Neural Networks (ANN) model**. First we scale all the data using min-max normalization. We can apply min-max normalization to the entire dataframe. "
   ]
  },
  {
   "cell_type": "code",
   "execution_count": 15,
   "metadata": {},
   "outputs": [],
   "source": [
    "data1 = (data1 - data1.min()) / (data1.max() - data1.min())"
   ]
  },
  {
   "cell_type": "markdown",
   "metadata": {},
   "source": [
    "## 3.Training the models\n",
    "<hr>"
   ]
  },
  {
   "cell_type": "markdown",
   "metadata": {},
   "source": [
    "Now we separate the data into *training* and *testing* datasets and start running the models and making some predictions (just like we did in the past). We will select four variables as explanantory variables in the models. "
   ]
  },
  {
   "cell_type": "code",
   "execution_count": 18,
   "metadata": {},
   "outputs": [],
   "source": [
    "training_data, testing_data = train_test_split(data1, test_size=0.3, random_state=25) \n",
    "\n",
    "x_train = training_data[['OWNERSHP', 'OLDEST', 'ROOMS', 'BUILTYR2']]\n",
    "y_train = training_data[['COSTENERGY']]\n",
    "\n",
    "x_test = testing_data[['OWNERSHP', 'OLDEST', 'ROOMS', 'BUILTYR2']]\n",
    "y_test = testing_data[['COSTENERGY']]"
   ]
  },
  {
   "cell_type": "markdown",
   "metadata": {},
   "source": [
    "First we estimate a simple linear regression model using the scikit learn library: "
   ]
  },
  {
   "cell_type": "code",
   "execution_count": 56,
   "metadata": {},
   "outputs": [
    {
     "name": "stdout",
     "output_type": "stream",
     "text": [
      "Coefficients: [[-0.05495371  0.03233407  0.11059658 -0.17173328]]\n",
      "Intercept: [0.38580261]\n"
     ]
    }
   ],
   "source": [
    "from sklearn.linear_model import LinearRegression\n",
    "OLSregression = LinearRegression()\n",
    "\n",
    "# Fit the model\n",
    "OLSresults = OLSregression.fit(x_train, y_train)\n",
    "\n",
    "# Inspect the results\n",
    "print(\"Coefficients:\", OLSresults.coef_)\n",
    "print(\"Intercept:\", OLSresults.intercept_)"
   ]
  },
  {
   "cell_type": "markdown",
   "metadata": {},
   "source": [
    "Then we estimate a Random Forest model using the scikit learn library (takes a few seconds): "
   ]
  },
  {
   "cell_type": "code",
   "execution_count": 61,
   "metadata": {},
   "outputs": [
    {
     "name": "stderr",
     "output_type": "stream",
     "text": [
      "C:\\Users\\mtn308\\Anaconda3\\envs\\bigdata\\lib\\site-packages\\sklearn\\base.py:1152: DataConversionWarning: A column-vector y was passed when a 1d array was expected. Please change the shape of y to (n_samples,), for example using ravel().\n",
      "  return fit_method(estimator, *args, **kwargs)\n"
     ]
    }
   ],
   "source": [
    "RFmodel = RandomForestRegressor(n_estimators = 100, max_features = 'sqrt', max_depth = 6, random_state = 18).fit(x_train, y_train)"
   ]
  },
  {
   "cell_type": "markdown",
   "metadata": {},
   "source": [
    "Then we build and compile a neural network model using the tensorflow library: "
   ]
  },
  {
   "cell_type": "code",
   "execution_count": 37,
   "metadata": {},
   "outputs": [
    {
     "name": "stdout",
     "output_type": "stream",
     "text": [
      "Model: \"sequential_8\"\n",
      "_________________________________________________________________\n",
      " Layer (type)                Output Shape              Param #   \n",
      "=================================================================\n",
      " dense_24 (Dense)            (None, 16)                80        \n",
      "                                                                 \n",
      " dense_25 (Dense)            (None, 8)                 136       \n",
      "                                                                 \n",
      " dense_26 (Dense)            (None, 1)                 9         \n",
      "                                                                 \n",
      "=================================================================\n",
      "Total params: 225 (900.00 Byte)\n",
      "Trainable params: 225 (900.00 Byte)\n",
      "Non-trainable params: 0 (0.00 Byte)\n",
      "_________________________________________________________________\n"
     ]
    }
   ],
   "source": [
    "ANNmodel = keras.Sequential([\n",
    "      keras.layers.Dense(16, activation='relu', input_shape = (x_train.shape[1],)),\n",
    "      keras.layers.Dense(8, activation='relu'),\n",
    "      keras.layers.Dense(1)\n",
    "  ])\n",
    "\n",
    "\n",
    "ANNmodel.summary()\n",
    "\n",
    "ANNmodel.compile(loss='mean_squared_error',\n",
    "              optimizer=tf.keras.optimizers.Adam(learning_rate=0.000005),\n",
    "              metrics=['mean_absolute_error'])"
   ]
  },
  {
   "cell_type": "markdown",
   "metadata": {},
   "source": [
    "Next we fit the ANN model: "
   ]
  },
  {
   "cell_type": "code",
   "execution_count": 38,
   "metadata": {},
   "outputs": [
    {
     "name": "stdout",
     "output_type": "stream",
     "text": [
      "Epoch 1/20\n",
      "2237/2237 [==============================] - 5s 2ms/step - loss: 0.0379 - mean_absolute_error: 0.1480 - val_loss: 0.0289 - val_mean_absolute_error: 0.1302\n",
      "Epoch 2/20\n",
      "2237/2237 [==============================] - 4s 2ms/step - loss: 0.0245 - mean_absolute_error: 0.1202 - val_loss: 0.0210 - val_mean_absolute_error: 0.1129\n",
      "Epoch 3/20\n",
      "2237/2237 [==============================] - 4s 2ms/step - loss: 0.0194 - mean_absolute_error: 0.1087 - val_loss: 0.0176 - val_mean_absolute_error: 0.1041\n",
      "Epoch 4/20\n",
      "2237/2237 [==============================] - 4s 2ms/step - loss: 0.0167 - mean_absolute_error: 0.1012 - val_loss: 0.0155 - val_mean_absolute_error: 0.0975\n",
      "Epoch 5/20\n",
      "2237/2237 [==============================] - 4s 2ms/step - loss: 0.0148 - mean_absolute_error: 0.0952 - val_loss: 0.0139 - val_mean_absolute_error: 0.0923\n",
      "Epoch 6/20\n",
      "2237/2237 [==============================] - 4s 2ms/step - loss: 0.0135 - mean_absolute_error: 0.0906 - val_loss: 0.0128 - val_mean_absolute_error: 0.0883\n",
      "Epoch 7/20\n",
      "2237/2237 [==============================] - 4s 2ms/step - loss: 0.0125 - mean_absolute_error: 0.0870 - val_loss: 0.0120 - val_mean_absolute_error: 0.0852\n",
      "Epoch 8/20\n",
      "2237/2237 [==============================] - 4s 2ms/step - loss: 0.0117 - mean_absolute_error: 0.0841 - val_loss: 0.0113 - val_mean_absolute_error: 0.0827\n",
      "Epoch 9/20\n",
      "2237/2237 [==============================] - 4s 2ms/step - loss: 0.0111 - mean_absolute_error: 0.0817 - val_loss: 0.0108 - val_mean_absolute_error: 0.0806\n",
      "Epoch 10/20\n",
      "2237/2237 [==============================] - 4s 2ms/step - loss: 0.0106 - mean_absolute_error: 0.0797 - val_loss: 0.0104 - val_mean_absolute_error: 0.0788\n",
      "Epoch 11/20\n",
      "2237/2237 [==============================] - 4s 2ms/step - loss: 0.0102 - mean_absolute_error: 0.0779 - val_loss: 0.0100 - val_mean_absolute_error: 0.0772\n",
      "Epoch 12/20\n",
      "2237/2237 [==============================] - 4s 2ms/step - loss: 0.0099 - mean_absolute_error: 0.0766 - val_loss: 0.0097 - val_mean_absolute_error: 0.0759\n",
      "Epoch 13/20\n",
      "2237/2237 [==============================] - 4s 2ms/step - loss: 0.0096 - mean_absolute_error: 0.0754 - val_loss: 0.0095 - val_mean_absolute_error: 0.0749\n",
      "Epoch 14/20\n",
      "2237/2237 [==============================] - 4s 2ms/step - loss: 0.0094 - mean_absolute_error: 0.0744 - val_loss: 0.0093 - val_mean_absolute_error: 0.0739\n",
      "Epoch 15/20\n",
      "2237/2237 [==============================] - 4s 2ms/step - loss: 0.0092 - mean_absolute_error: 0.0735 - val_loss: 0.0091 - val_mean_absolute_error: 0.0730\n",
      "Epoch 16/20\n",
      "2237/2237 [==============================] - 4s 2ms/step - loss: 0.0090 - mean_absolute_error: 0.0727 - val_loss: 0.0089 - val_mean_absolute_error: 0.0723\n",
      "Epoch 17/20\n",
      "2237/2237 [==============================] - 4s 2ms/step - loss: 0.0088 - mean_absolute_error: 0.0720 - val_loss: 0.0087 - val_mean_absolute_error: 0.0716\n",
      "Epoch 18/20\n",
      "2237/2237 [==============================] - 4s 2ms/step - loss: 0.0087 - mean_absolute_error: 0.0713 - val_loss: 0.0086 - val_mean_absolute_error: 0.0710\n",
      "Epoch 19/20\n",
      "2237/2237 [==============================] - 4s 2ms/step - loss: 0.0086 - mean_absolute_error: 0.0707 - val_loss: 0.0085 - val_mean_absolute_error: 0.0705\n",
      "Epoch 20/20\n",
      "2237/2237 [==============================] - 4s 2ms/step - loss: 0.0084 - mean_absolute_error: 0.0702 - val_loss: 0.0084 - val_mean_absolute_error: 0.0700\n"
     ]
    }
   ],
   "source": [
    "history = ANNmodel.fit(x_train, y_train['COSTENERGY'], epochs=20, validation_split=0.2)\n"
   ]
  },
  {
   "cell_type": "markdown",
   "metadata": {},
   "source": [
    "**(Multiple choice) QUESTION 1**: Based on the learning progress printed above, what do you think of the number of epochs? \n",
    "\n",
    "    A. I would decrease the number of epochs to 10\n",
    "    -> B. The number of epochs is fine\n",
    "    C. I would increase the number of epochs to 20"
   ]
  },
  {
   "cell_type": "markdown",
   "metadata": {},
   "source": [
    "## 4.Model validation: \"basic\" methods\n",
    "<hr>"
   ]
  },
  {
   "cell_type": "markdown",
   "metadata": {},
   "source": [
    "Using the three models, we are going to predict ENERGYCOST in the testing dataset. We print out the first 10 values of ENERGYCOST in the test set. "
   ]
  },
  {
   "cell_type": "code",
   "execution_count": 62,
   "metadata": {},
   "outputs": [
    {
     "name": "stdout",
     "output_type": "stream",
     "text": [
      "1199/1199 [==============================] - 1s 1ms/step\n",
      "[[0.42358155 0.40315565 0.40472727 0.39897734]\n",
      " [0.2222506  0.26319551 0.27278647 0.23546365]\n",
      " [0.36705701 0.36738782 0.36328512 0.36921376]\n",
      " [0.24004265 0.29562505 0.30104101 0.31940746]\n",
      " [0.35988222 0.44035332 0.42668409 0.39632827]\n",
      " [0.23132455 0.25352758 0.25950512 0.22417171]\n",
      " [0.28675992 0.23518714 0.22877912 0.26022834]\n",
      " [0.30687566 0.36236532 0.36160335 0.34634531]\n",
      " [0.32207616 0.37850769 0.36983204 0.2991932 ]\n",
      " [0.46955851 0.43270343 0.43540462 0.40078527]]\n"
     ]
    }
   ],
   "source": [
    "OLS_pred = OLSresults.predict(x_test)\n",
    "RF_pred = RFmodel.predict(x_test)\n",
    "ANN_pred = ANNmodel.predict(x_test)\n",
    "\n",
    "test = np.column_stack((y_test[0:10], OLS_pred[0:10], RF_pred[0:10], ANN_pred[0:10]))\n",
    "print(np.column_stack((y_test[0:10], OLS_pred[0:10], RF_pred[0:10], ANN_pred[0:10])))\n"
   ]
  },
  {
   "cell_type": "markdown",
   "metadata": {},
   "source": [
    "There are several metrics that can be used for model validation. For now, we are going to focus on some of the most straightforward of them:\n",
    "\n",
    "1.  **Root Mean Squared Error (RMSE):** As the name suggests it is the square root of the averaged squared difference between the actual value and the predicted value of the target variable. It returns the average prediction error made by the model, thus the *lower* the RMSE value is, the better the model performed.\n",
    "\n",
    "2.  **Mean Absolute Error (MAE):** This metric gives the absolute difference between the actual values and the values predicted by the model for the target variable. If outliers are not a significant issue, the MAE can be used to evaluate the performance of the model. Again, the *lower* MAE value is, the better the model performed.\n",
    "\n",
    "3.  **R^2^ Error:** You may be already familiar with this metric. It indicates how much percentage of variance in the dependent variable is explained collectively by the independent variables. In other words, it reflects the relationship strength between the target variable and the model on a scale of 0 to 1 (or 0% to 100%). In this case, the *higher* the R-squared Error value is, the better the model performed."
   ]
  },
  {
   "cell_type": "markdown",
   "metadata": {},
   "source": [
    "**QUESTION 2:** Provide an example of another validation method that can be used to evaluate model performance and explain how it works, in your own words."
   ]
  },
  {
   "cell_type": "markdown",
   "metadata": {},
   "source": [
    "We use the scikit learn library to compute the three metrics on the predicted ENERGYCOST. "
   ]
  },
  {
   "cell_type": "code",
   "execution_count": 63,
   "metadata": {},
   "outputs": [
    {
     "name": "stdout",
     "output_type": "stream",
     "text": [
      "0.08221897653420697 0.08178928696095854 0.09202939230810665\n"
     ]
    }
   ],
   "source": [
    "ols_rmse = np.sqrt(mean_squared_error(OLS_pred, y_test['COSTENERGY']))\n",
    "rf_rmse = np.sqrt(mean_squared_error(RF_pred, y_test['COSTENERGY']))\n",
    "ann_rmse = np.sqrt(mean_squared_error(ANN_pred, y_test['COSTENERGY']))\n",
    "print(ols_rmse, rf_rmse, ann_rmse)"
   ]
  },
  {
   "cell_type": "code",
   "execution_count": 64,
   "metadata": {},
   "outputs": [
    {
     "name": "stdout",
     "output_type": "stream",
     "text": [
      "0.06324047341239077 0.06291712430192435 0.07048609416817116\n"
     ]
    }
   ],
   "source": [
    "ols_mae = mean_absolute_error(OLS_pred, y_test['COSTENERGY'])\n",
    "rf_mae = mean_absolute_error(RF_pred, y_test['COSTENERGY'])\n",
    "ann_mae = mean_absolute_error(ANN_pred, y_test['COSTENERGY'])\n",
    "print(ols_mae, rf_mae, ann_mae)"
   ]
  },
  {
   "cell_type": "code",
   "execution_count": 65,
   "metadata": {},
   "outputs": [
    {
     "name": "stdout",
     "output_type": "stream",
     "text": [
      "0.3353618223726479 0.342290680947539 0.16728908004953547\n"
     ]
    }
   ],
   "source": [
    "from sklearn.metrics import r2_score\n",
    "ols_r2 = r2_score(y_test['COSTENERGY'], OLS_pred)\n",
    "rf_r2 = r2_score(y_test['COSTENERGY'], RF_pred)\n",
    "ann_r2 = r2_score(y_test['COSTENERGY'], ANN_pred)\n",
    "print(ols_r2, rf_r2, ann_r2)"
   ]
  },
  {
   "cell_type": "markdown",
   "metadata": {},
   "source": [
    "**QUESTION 3:** (1) Which model performed the better based on the validation metrics discussed above? (2) Search for an additional validation method available in Python and use it to evaluate the models. Add the results you get from the new metric on *Canvas* and identify which model was the most accurate according to that metric.\n"
   ]
  },
  {
   "cell_type": "markdown",
   "metadata": {},
   "source": [
    "Now we would like to see if you can create better models than the ones you have used so far in this tutorial. Use a different combination of variables, model settings, etc., and construct at least one new OLS, RF, and ANN model (one of each). (Note that the more complex your model is, and the more data it uses for training, the more time the training will take. Also note that you will be asked to submit a PDF version of your *notebook* with your new models on *Canvas.*)"
   ]
  },
  {
   "cell_type": "code",
   "execution_count": 88,
   "metadata": {},
   "outputs": [
    {
     "name": "stdout",
     "output_type": "stream",
     "text": [
      "90716     0.356436\n",
      "27618     0.191419\n",
      "53415     0.396040\n",
      "126296    0.019802\n",
      "126234    0.079208\n",
      "114953    0.079208\n",
      "24532     0.099010\n",
      "68386     0.105611\n",
      "107268    0.171617\n",
      "94415     0.072607\n",
      "Name: COSTENERGY, dtype: float64\n"
     ]
    },
    {
     "name": "stderr",
     "output_type": "stream",
     "text": [
      "C:\\Users\\mtn308\\AppData\\Local\\Temp\\ipykernel_3036\\3089459006.py:1: FutureWarning: The behavior of `series[i:j]` with an integer-dtype index is deprecated. In a future version, this will be treated as *label-based* indexing, consistent with e.g. `series[i]` lookups. To retain the old behavior, use `series.iloc[i:j]`. To get the future behavior, use `series.loc[i:j]`.\n",
      "  print(y_test['COSTENERGY'][0:10])\n"
     ]
    }
   ],
   "source": []
  },
  {
   "cell_type": "markdown",
   "metadata": {},
   "source": [
    "There is a lot more that you can do with outputs (such as including interactive outputs)\n",
    "with your book. For more information about this, see [the Jupyter Book documentation](https://jupyterbook.org)"
   ]
  },
  {
   "cell_type": "markdown",
   "metadata": {},
   "source": [
    "**QUESTION 4:** (1) Which of your new models performed better based on the validation metrics? (2) Did your new models performed better than the ones is this tutorial? (3) Why do you think that was the case?"
   ]
  },
  {
   "cell_type": "markdown",
   "metadata": {},
   "source": [
    "Note that there are a few advantages, as well as disadvantages, of using methods like the RMSE, MAE, and R^2^ Error to evaluate model performance:\n",
    "\n",
    "**Advantages:**\n",
    "\n",
    "-   Some most basic and simple techniques for model validation;\n",
    "\n",
    "-   Do not require complex programming steps for implementation (and can be quickly computed).\n",
    "\n",
    "**Disadvantages:**\n",
    "\n",
    "-   Model predictions (and thus accuracy) are highly dependent on the subset of observations used for *training* and *testing*.\n",
    "\n",
    "-   Not necessarily robust/consistent across different training/testing datasets [e.g., for some reason the model may achieve a good or bad validation score not because the model is necessary good or bad in general, but because it simply happens to be good (\"luckly\") or bad (\"unlucky\") given a particular set of training/testing datasets]."
   ]
  },
  {
   "cell_type": "markdown",
   "metadata": {},
   "source": [
    "## 5. Model validation: \"complex\" methods"
   ]
  },
  {
   "cell_type": "markdown",
   "metadata": {},
   "source": [
    "Now we will cover a couple of more-complex, and still very popular, validation methods, namely: **Leave One Out Cross-Validation (LOOCV)** and **K-fold Cross-Validation**.\n",
    "\n",
    "Let's start with **LOOCV**.The idea behind this method is not too complicated: the dataset is also randomly split between *training* and *testing* sets, but there is now also a validation set. Validation with LOOCV is performed in the following way: \n",
    "\n",
    "1.  The model is trained based on N-1 data points in the training dataset;\n",
    "\n",
    "2.  The model is then validated against that one data point that was left out;\n",
    "\n",
    "3.  A prediction error is calculated based on the difference between the predicted point value and its actual value;\n",
    "\n",
    "4.  Steps 1-3 are repetead until the model is *trained* and *validated* based on all data points (one at a time);\n",
    "\n",
    "5.  An overall prediction error is computed based on the average of the prediction errors that were computed each time a data point was left out of the training.\n",
    "\n",
    "6. In steps 1-5 you can try different model settings and model parameters, and the best performing model is tested on the testing dataset. \n",
    "\n",
    "Let's see an example of how to implement the LOOCV method. Note that because this procedure can take some time to completed, we will only look at a subset of our data (i.e., the first 1000 rows), and we will only use the OLS (or \"linear model\") method (because OLS models can be quickly computed):\n",
    "\n",
    "Note that we use the Linear Regression from the scikit-learn library: \n",
    "We use the same four explanantory variables as before. \n",
    "\n"
   ]
  },
  {
   "cell_type": "code",
   "execution_count": 67,
   "metadata": {},
   "outputs": [
    {
     "name": "stdout",
     "output_type": "stream",
     "text": [
      "Mean Squared Error:  0.006440455752996069\n"
     ]
    }
   ],
   "source": [
    "from sklearn.model_selection import LeaveOneOut\n",
    "from sklearn.linear_model import LinearRegression\n",
    "\n",
    "# Select data\n",
    "x_train = training_data[['OWNERSHP', 'OLDEST', 'ROOMS', 'BUILTYR2']]\n",
    "y_train = training_data[['COSTENERGY']]\n",
    "\n",
    "x_test = testing_data[['OWNERSHP', 'OLDEST', 'ROOMS', 'BUILTYR2']]\n",
    "y_test = testing_data[['COSTENERGY']]\n",
    "\n",
    "\n",
    "X = x_train.iloc[:1000, :]\n",
    "Y = y_train.iloc[:1000, :]\n",
    "\n",
    "# Create a linear regression object\n",
    "loocv = LeaveOneOut()\n",
    "regressor = LinearRegression()\n",
    "\n",
    "# Train the model using leave-one-out cross-validation\n",
    "errors = []\n",
    "for train_index, val_index in loocv.split(X):\n",
    "    X_train, X_val = X.iloc[train_index], X.iloc[val_index]\n",
    "    Y_train, Y_val = Y.iloc[train_index], Y.iloc[val_index]\n",
    "    regressor.fit(X_train, Y_train)\n",
    "    Y_pred = regressor.predict(X_val)\n",
    "    errors.append(mean_squared_error(Y_val, Y_pred))\n",
    "\n",
    "# Print the mean squared error\n",
    "print(\"Mean Squared Error: \", sum(errors) / len(errors))"
   ]
  },
  {
   "cell_type": "markdown",
   "metadata": {},
   "source": [
    "Here are some advantages and disadvantages of using the LOOCV method:\n",
    "\n",
    "**Advantages:**\n",
    "\n",
    "-   High accuracy: LOOCV provides a high level of accuracy in evaluating model performance since each data point is used once as the validation set, effectively reducing the chances of error.\n",
    "\n",
    "-   Low Bias: LOOCV helps reduce the bias in the model evaluation since each data point gets to be the validation set at least once.\n",
    "\n",
    "-   Suitable for small sample size: LOOCV is a suitable method for evaluating models when the sample size is small, as it ensures that each data point is used as a validation set.\n",
    "\n",
    "**Disadvantages:**\n",
    "\n",
    "-   LOOCV is computationally expensive, especially when the sample size is large or models are complex.\n",
    "\n",
    "-   It can lead to high variance in the evaluation of model performance in the presence of outliers. This is because the validation set consists of only one data point, leading to a high variance in the estimated performance metrics.\n",
    "\n"
   ]
  },
  {
   "cell_type": "markdown",
   "metadata": {},
   "source": [
    "In practice, **K-fold Cross-Validation** is more often used than **LOOCV**, because **K-fold Cross-Validation** is computationally much faster than **LOOCV**.  **K-fold Cross-Validation** works by dividing the training dataset into K subsets (or *folds*) of (almost) equal size. Out of these K folds, one subset at a time is used as a *validation* set, while the rest are used to *train* the model. The computational steps are the following:\n",
    "\n",
    "1.  The training dataset is randomly splitted into K subsets;\n",
    "\n",
    "2.  K-1 subsets is used to *train* the model;\n",
    "\n",
    "3.  The trained model is *validated* against the subset that was left out and an prediction error is calculated;\n",
    "\n",
    "4.  Steps 1-3 are repetead K times, i.e., until the model has been *validated* against all subsets;\n",
    "\n",
    "5.  An overall prediction error is computed based on the average of the prediction errors that were computed each time a subset was left out of the model training.\n",
    "\n",
    "6.   In steps 1-5 you can try different model settings and model parameters, and the best performing model is tested on the testing dataset. \n"
   ]
  },
  {
   "cell_type": "markdown",
   "metadata": {},
   "source": [
    "In the next lines of code we will search for the optimal parameters of a random forest model using K-fold cross validation. Note that this will take 1 or 2 minutes to run. We use GridSearchCV to try different parameter settings. "
   ]
  },
  {
   "cell_type": "code",
   "execution_count": 68,
   "metadata": {},
   "outputs": [
    {
     "data": {
      "text/html": [
       "<style>#sk-container-id-1 {color: black;}#sk-container-id-1 pre{padding: 0;}#sk-container-id-1 div.sk-toggleable {background-color: white;}#sk-container-id-1 label.sk-toggleable__label {cursor: pointer;display: block;width: 100%;margin-bottom: 0;padding: 0.3em;box-sizing: border-box;text-align: center;}#sk-container-id-1 label.sk-toggleable__label-arrow:before {content: \"▸\";float: left;margin-right: 0.25em;color: #696969;}#sk-container-id-1 label.sk-toggleable__label-arrow:hover:before {color: black;}#sk-container-id-1 div.sk-estimator:hover label.sk-toggleable__label-arrow:before {color: black;}#sk-container-id-1 div.sk-toggleable__content {max-height: 0;max-width: 0;overflow: hidden;text-align: left;background-color: #f0f8ff;}#sk-container-id-1 div.sk-toggleable__content pre {margin: 0.2em;color: black;border-radius: 0.25em;background-color: #f0f8ff;}#sk-container-id-1 input.sk-toggleable__control:checked~div.sk-toggleable__content {max-height: 200px;max-width: 100%;overflow: auto;}#sk-container-id-1 input.sk-toggleable__control:checked~label.sk-toggleable__label-arrow:before {content: \"▾\";}#sk-container-id-1 div.sk-estimator input.sk-toggleable__control:checked~label.sk-toggleable__label {background-color: #d4ebff;}#sk-container-id-1 div.sk-label input.sk-toggleable__control:checked~label.sk-toggleable__label {background-color: #d4ebff;}#sk-container-id-1 input.sk-hidden--visually {border: 0;clip: rect(1px 1px 1px 1px);clip: rect(1px, 1px, 1px, 1px);height: 1px;margin: -1px;overflow: hidden;padding: 0;position: absolute;width: 1px;}#sk-container-id-1 div.sk-estimator {font-family: monospace;background-color: #f0f8ff;border: 1px dotted black;border-radius: 0.25em;box-sizing: border-box;margin-bottom: 0.5em;}#sk-container-id-1 div.sk-estimator:hover {background-color: #d4ebff;}#sk-container-id-1 div.sk-parallel-item::after {content: \"\";width: 100%;border-bottom: 1px solid gray;flex-grow: 1;}#sk-container-id-1 div.sk-label:hover label.sk-toggleable__label {background-color: #d4ebff;}#sk-container-id-1 div.sk-serial::before {content: \"\";position: absolute;border-left: 1px solid gray;box-sizing: border-box;top: 0;bottom: 0;left: 50%;z-index: 0;}#sk-container-id-1 div.sk-serial {display: flex;flex-direction: column;align-items: center;background-color: white;padding-right: 0.2em;padding-left: 0.2em;position: relative;}#sk-container-id-1 div.sk-item {position: relative;z-index: 1;}#sk-container-id-1 div.sk-parallel {display: flex;align-items: stretch;justify-content: center;background-color: white;position: relative;}#sk-container-id-1 div.sk-item::before, #sk-container-id-1 div.sk-parallel-item::before {content: \"\";position: absolute;border-left: 1px solid gray;box-sizing: border-box;top: 0;bottom: 0;left: 50%;z-index: -1;}#sk-container-id-1 div.sk-parallel-item {display: flex;flex-direction: column;z-index: 1;position: relative;background-color: white;}#sk-container-id-1 div.sk-parallel-item:first-child::after {align-self: flex-end;width: 50%;}#sk-container-id-1 div.sk-parallel-item:last-child::after {align-self: flex-start;width: 50%;}#sk-container-id-1 div.sk-parallel-item:only-child::after {width: 0;}#sk-container-id-1 div.sk-dashed-wrapped {border: 1px dashed gray;margin: 0 0.4em 0.5em 0.4em;box-sizing: border-box;padding-bottom: 0.4em;background-color: white;}#sk-container-id-1 div.sk-label label {font-family: monospace;font-weight: bold;display: inline-block;line-height: 1.2em;}#sk-container-id-1 div.sk-label-container {text-align: center;}#sk-container-id-1 div.sk-container {/* jupyter's `normalize.less` sets `[hidden] { display: none; }` but bootstrap.min.css set `[hidden] { display: none !important; }` so we also need the `!important` here to be able to override the default hidden behavior on the sphinx rendered scikit-learn.org. See: https://github.com/scikit-learn/scikit-learn/issues/21755 */display: inline-block !important;position: relative;}#sk-container-id-1 div.sk-text-repr-fallback {display: none;}</style><div id=\"sk-container-id-1\" class=\"sk-top-container\"><div class=\"sk-text-repr-fallback\"><pre>GridSearchCV(cv=4, estimator=RandomForestRegressor(),\n",
       "             param_grid={&#x27;max_depth&#x27;: [5, 8], &#x27;max_features&#x27;: [&#x27;sqrt&#x27;],\n",
       "                         &#x27;n_estimators&#x27;: [75, 150], &#x27;random_state&#x27;: [18]},\n",
       "             scoring=&#x27;neg_mean_squared_error&#x27;)</pre><b>In a Jupyter environment, please rerun this cell to show the HTML representation or trust the notebook. <br />On GitHub, the HTML representation is unable to render, please try loading this page with nbviewer.org.</b></div><div class=\"sk-container\" hidden><div class=\"sk-item sk-dashed-wrapped\"><div class=\"sk-label-container\"><div class=\"sk-label sk-toggleable\"><input class=\"sk-toggleable__control sk-hidden--visually\" id=\"sk-estimator-id-1\" type=\"checkbox\" ><label for=\"sk-estimator-id-1\" class=\"sk-toggleable__label sk-toggleable__label-arrow\">GridSearchCV</label><div class=\"sk-toggleable__content\"><pre>GridSearchCV(cv=4, estimator=RandomForestRegressor(),\n",
       "             param_grid={&#x27;max_depth&#x27;: [5, 8], &#x27;max_features&#x27;: [&#x27;sqrt&#x27;],\n",
       "                         &#x27;n_estimators&#x27;: [75, 150], &#x27;random_state&#x27;: [18]},\n",
       "             scoring=&#x27;neg_mean_squared_error&#x27;)</pre></div></div></div><div class=\"sk-parallel\"><div class=\"sk-parallel-item\"><div class=\"sk-item\"><div class=\"sk-label-container\"><div class=\"sk-label sk-toggleable\"><input class=\"sk-toggleable__control sk-hidden--visually\" id=\"sk-estimator-id-2\" type=\"checkbox\" ><label for=\"sk-estimator-id-2\" class=\"sk-toggleable__label sk-toggleable__label-arrow\">estimator: RandomForestRegressor</label><div class=\"sk-toggleable__content\"><pre>RandomForestRegressor()</pre></div></div></div><div class=\"sk-serial\"><div class=\"sk-item\"><div class=\"sk-estimator sk-toggleable\"><input class=\"sk-toggleable__control sk-hidden--visually\" id=\"sk-estimator-id-3\" type=\"checkbox\" ><label for=\"sk-estimator-id-3\" class=\"sk-toggleable__label sk-toggleable__label-arrow\">RandomForestRegressor</label><div class=\"sk-toggleable__content\"><pre>RandomForestRegressor()</pre></div></div></div></div></div></div></div></div></div></div>"
      ],
      "text/plain": [
       "GridSearchCV(cv=4, estimator=RandomForestRegressor(),\n",
       "             param_grid={'max_depth': [5, 8], 'max_features': ['sqrt'],\n",
       "                         'n_estimators': [75, 150], 'random_state': [18]},\n",
       "             scoring='neg_mean_squared_error')"
      ]
     },
     "execution_count": 68,
     "metadata": {},
     "output_type": "execute_result"
    }
   ],
   "source": [
    "from sklearn.model_selection import GridSearchCV\n",
    "import warnings\n",
    "warnings.filterwarnings(\"ignore\") #ignore all warnings in this cell\n",
    "\n",
    "parametergrid = { \n",
    "    'n_estimators': [50, 100],\n",
    "    'max_features': ['sqrt'],\n",
    "    'max_depth' : [5,8],\n",
    "    'random_state' : [18]\n",
    "}\n",
    "\n",
    "## Grid Search function\n",
    "CV_rf = GridSearchCV(estimator=RandomForestRegressor(), param_grid=parametergrid, cv= 4, scoring = 'neg_mean_squared_error')\n",
    "CV_rf.fit(x_train, y_train)"
   ]
  },
  {
   "cell_type": "markdown",
   "metadata": {},
   "source": [
    "**QUESTION 5**: How many models are estimated with the parameter grid given above? "
   ]
  },
  {
   "cell_type": "markdown",
   "metadata": {},
   "source": [
    "Below we print the results of the grid search: "
   ]
  },
  {
   "cell_type": "code",
   "execution_count": 69,
   "metadata": {},
   "outputs": [
    {
     "name": "stdout",
     "output_type": "stream",
     "text": [
      "[0.00674233 0.00674948 0.00664199 0.00664128]\n",
      "RandomForestRegressor(max_depth=8, max_features='sqrt', n_estimators=150,\n",
      "                      random_state=18)\n",
      "0.006641277383187233\n",
      "{'max_depth': 8, 'max_features': 'sqrt', 'n_estimators': 150, 'random_state': 18}\n"
     ]
    }
   ],
   "source": [
    "print(np.abs(CV_rf.cv_results_['mean_test_score'])) \n",
    "# we take the absolute value of the mean test score, \n",
    "# because the scoring function is specified as the negative mean squared error. \n",
    "\n",
    "\n",
    "print(CV_rf.best_estimator_)\n",
    "print(np.abs(CV_rf.best_score_)) \n",
    "print(CV_rf.best_params_)"
   ]
  },
  {
   "cell_type": "markdown",
   "metadata": {},
   "source": [
    "**QUESTION 6**: Over how many test scores is the mean test score calculated?   "
   ]
  },
  {
   "cell_type": "markdown",
   "metadata": {},
   "source": [
    "**QUESTION 7**: According to the results of the grid search with cross validation, which model parameters do you want to use in your final model that you test on the testing dataset? Do you think it is a good idea to use another parameter grid in the grid search? Explain. "
   ]
  },
  {
   "cell_type": "markdown",
   "metadata": {},
   "source": [
    "Now test the model with the most optimal parameters on the testing dataset: "
   ]
  },
  {
   "cell_type": "code",
   "execution_count": 70,
   "metadata": {},
   "outputs": [
    {
     "name": "stdout",
     "output_type": "stream",
     "text": [
      "0.006652110101899746\n"
     ]
    }
   ],
   "source": [
    "best_model = RandomForestRegressor(n_estimators=CV_rf.best_params_['n_estimators'],  \n",
    "                                   max_features=CV_rf.best_params_['max_features'],\n",
    "                                   max_depth=CV_rf.best_params_['max_depth'],\n",
    "                                   random_state = 18)\n",
    "\n",
    "# Fit the best model on the training data\n",
    "best_model.fit(x_train, y_train)\n",
    "\n",
    "# Predict on the test data\n",
    "y_pred = best_model.predict(x_test)\n",
    "\n",
    "print(mean_squared_error(y_pred, y_test))"
   ]
  },
  {
   "cell_type": "markdown",
   "metadata": {},
   "source": [
    "**Advantages:**\n",
    "\n",
    "-   By dividing the data into K folds and training the model on K-1 folds and evaluating it on the remaining fold, K-fold cross-validation provides a better estimate of the model's performance compared to training the model once on the full training dataset. \n",
    "\n",
    "-   K-fold cross-validation can be useful in handling imbalanced training/testing samples, as it allows the model to be trained and evaluated on different subsets of training data, reducing the impact of imbalanced samples in the training and evaluation process.\n",
    "\n",
    "**Disadvantages:**\n",
    "\n",
    "-   It can be computationally expensive, especially when the sample size is large or models are complex (but not as expensive as the LOOCV method).\n",
    "\n",
    "-   Dependent on a sensible selection of the number of folds."
   ]
  },
  {
   "cell_type": "markdown",
   "metadata": {},
   "source": [
    "## 6. Model validation: classification models"
   ]
  },
  {
   "cell_type": "markdown",
   "metadata": {},
   "source": [
    "You already learnt that some machine learning models are used for classification. In this final part of the tutorial, we will focus on popular validation metrics that are often used to evaluate the performance of classifiers. First we will create a binary variable that we will predict with a classifier. We will divide the households in two groups: the 50% households that have the highest energy costs are given a 1 and the other 50% of the households are given a 0. \n",
    "\n"
   ]
  },
  {
   "cell_type": "code",
   "execution_count": 71,
   "metadata": {},
   "outputs": [],
   "source": [
    "data1['group'] = (data1['COSTENERGY'] >= data1['COSTENERGY'].median()).astype(int)"
   ]
  },
  {
   "cell_type": "markdown",
   "metadata": {},
   "source": [
    "The most simple evaluation metric is the accuracy of the classifier, i.e. the number of instances the classifier has correctly predicted divided by the total number of instances. Two other well-known metrics are precision and recall, which are based on the number of true positives, true negatives, false positives and false negatives. True positives are the number of 1's correctly predicted, true negatives are the number of 0's correctly predicted, false positives are the number 1's wrongly predicted (they should be 0) and false negatives are the number of 0's wrongly predicted (they should be 1). \n",
    "The precision is given by the number of true positives / (the number of true positives + the number of false positives). So when the model predicts a 1, how many of the instances are actually 1. \n",
    "Recall is given by the number of true positives / (the number of true positives + the number of false negatives). Recall is a measure of how many of the 1's is the model able to predict. \n",
    "\n"
   ]
  },
  {
   "cell_type": "markdown",
   "metadata": {},
   "source": [
    "**QUESTION 8**: Let's say you have a stupid classifier that predicts all instances 1. What is your precision and recall of this model? "
   ]
  },
  {
   "cell_type": "markdown",
   "metadata": {},
   "source": [
    "Now, let's estimate some models using a *training* dataset and use the models to classify the households in a *testing* dataset. This time, let's use a logistic regression model and an RF model to perform the classification. Let's start with the logistic regression. "
   ]
  },
  {
   "cell_type": "code",
   "execution_count": 72,
   "metadata": {
    "scrolled": true
   },
   "outputs": [
    {
     "name": "stdout",
     "output_type": "stream",
     "text": [
      "Logit Accuracy: 0.7150048251219321\n",
      "Logit Precision: 0.7180579216354344\n",
      "Logit Recall: 0.7054762278361839\n",
      "RF Accuracy: 0.7193604757309408\n",
      "RF Precision: 0.7516406767415257\n",
      "RF Recall: 0.6529630210785083\n"
     ]
    }
   ],
   "source": [
    "from sklearn.ensemble import RandomForestClassifier\n",
    "from sklearn.linear_model import LogisticRegression\n",
    "from sklearn.metrics import accuracy_score, precision_score, recall_score\n",
    "\n",
    "training_data, testing_data = train_test_split(data1, test_size=0.3, random_state=25) \n",
    "\n",
    "x_train = training_data[['OWNERSHP', 'OLDEST', 'ROOMS', 'BUILTYR2']]\n",
    "y_train = training_data[['group']]\n",
    "\n",
    "x_test = testing_data[['OWNERSHP', 'OLDEST', 'ROOMS', 'BUILTYR2']]\n",
    "y_test = testing_data[['group']]\n",
    "\n",
    "regressionLogit = LogisticRegression()\n",
    "resultsLogit = regressionLogit.fit(x_train, y_train)\n",
    "\n",
    "y_pred = resultsLogit.predict(x_test)\n",
    "\n",
    "# Evaluate the model\n",
    "accuracy = accuracy_score(y_test, y_pred)\n",
    "precision = precision_score(y_test, y_pred)\n",
    "recall = recall_score(y_test, y_pred)\n",
    "\n",
    "print(\"Logit Accuracy:\", accuracy)\n",
    "print(\"Logit Precision:\", precision)\n",
    "print(\"Logit Recall:\", recall)\n",
    "\n",
    "RFclassifier = RandomForestClassifier(n_estimators=100,  \n",
    "                                   max_features='sqrt',\n",
    "                                   max_depth=8,\n",
    "                                   random_state = 18)\n",
    "\n",
    "resultsRF = RFclassifier.fit(x_train, y_train)\n",
    "\n",
    "y_pred = resultsRF.predict(x_test)\n",
    "\n",
    "# Evaluate the model\n",
    "accuracy = accuracy_score(y_test, y_pred)\n",
    "precision = precision_score(y_test, y_pred)\n",
    "recall = recall_score(y_test, y_pred)\n",
    "\n",
    "print(\"RF Accuracy:\", accuracy)\n",
    "print(\"RF Precision:\", precision)\n",
    "print(\"RF Recall:\", recall)\n",
    "\n"
   ]
  },
  {
   "cell_type": "markdown",
   "metadata": {},
   "source": [
    "**QUESTION 9**: What do you think of the model performance of the two models? In most cases you want to have a high precision score and a high recall score, but can you think of a classifier problem where you specifically want to have a high recall score and where a high precision score is less important? "
   ]
  },
  {
   "cell_type": "markdown",
   "metadata": {},
   "source": [
    "**QUESTION 10**: Can you build one Logistic model and one Random Forest classifier that perform better than the two models above? (Use a different combination of variables, model settings, etc.). You will be asked to submit a PDF version of your *notebook* with your new models on *Canvas*, along with your answers."
   ]
  },
  {
   "cell_type": "code",
   "execution_count": null,
   "metadata": {},
   "outputs": [],
   "source": []
  }
 ],
 "metadata": {
  "kernelspec": {
   "display_name": "Python 3 (ipykernel)",
   "language": "python",
   "name": "python3"
  },
  "language_info": {
   "codemirror_mode": {
    "name": "ipython",
    "version": 3
   },
   "file_extension": ".py",
   "mimetype": "text/x-python",
   "name": "python",
   "nbconvert_exporter": "python",
   "pygments_lexer": "ipython3",
   "version": "3.9.18"
  },
  "vscode": {
   "interpreter": {
    "hash": "f323064ae63d54ed8d769390a968e914fbf7abacffc63e116cd2e04a08ed2d24"
   }
  },
  "widgets": {
   "application/vnd.jupyter.widget-state+json": {
    "state": {},
    "version_major": 2,
    "version_minor": 0
   }
  }
 },
 "nbformat": 4,
 "nbformat_minor": 4
}
