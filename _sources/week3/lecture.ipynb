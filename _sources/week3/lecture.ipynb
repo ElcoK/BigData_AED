{
 "cells": [
  {
   "cell_type": "markdown",
   "id": "5d75c728",
   "metadata": {},
   "source": [
    "# Lecture: Introduction to Artificial Neural Networks\n",
    "\n",
    "This week we will focus on the basic concepts of machine learning and how we can develop a simply machine learning model.\n",
    "\n",
    "`````{admonition} Learning objectives week 3\n",
    ":class: important\n",
    "- Understand the concept of Artificial neural networks.\n",
    "- Understand and know how you can apply an artificial neural network model in Python. \n",
    "- Know how to validate and interpret your results.\n",
    "`````\n",
    "\n",
    "## Artificial neural networks\n",
    "\n",
    "\n",
    "## Model validation"
   ]
  }
 ],
 "metadata": {
  "jupytext": {
   "cell_metadata_filter": "-all",
   "formats": "md:myst",
   "text_representation": {
    "extension": ".md",
    "format_name": "myst",
    "format_version": 0.13,
    "jupytext_version": "1.11.5"
   }
  },
  "kernelspec": {
   "display_name": "Python 3",
   "language": "python",
   "name": "python3"
  },
  "source_map": [
   14
  ]
 },
 "nbformat": 4,
 "nbformat_minor": 5
}