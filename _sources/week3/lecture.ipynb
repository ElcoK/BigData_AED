{
 "cells": [
  {
   "cell_type": "markdown",
   "id": "64aff1ec",
   "metadata": {},
   "source": [
    "# Lecture: Introduction to Artificial Neural Networks\n",
    "\n",
    "This week we will focus on the basic concepts of machine learning and how we can develop a simply machine learning model.\n",
    "\n",
    "`````{admonition} Learning objectives week 3\n",
    ":class: important\n",
    "- Gain a basic understanding of machine learning and its most important concepts.\n",
    "- Understand the difference between supervised and unsupervised learning.\n",
    "- Understand and know how you can apply a machine learning model in Python. \n",
    "- Know how to validate and interpret your results.\n",
    "`````\n",
    "\n",
    "## What is machine learning?\n",
    "\n",
    "\n",
    "## Random forest regressions\n",
    "\n",
    "\n",
    "## Artificial neural networks\n",
    "\n",
    "\n",
    "## Model validation"
   ]
  }
 ],
 "metadata": {
  "jupytext": {
   "cell_metadata_filter": "-all",
   "formats": "md:myst",
   "text_representation": {
    "extension": ".md",
    "format_name": "myst",
    "format_version": 0.13,
    "jupytext_version": "1.11.5"
   }
  },
  "kernelspec": {
   "display_name": "Python 3",
   "language": "python",
   "name": "python3"
  },
  "language_info": {
   "codemirror_mode": {
    "name": "ipython",
    "version": 3
   },
   "file_extension": ".py",
   "mimetype": "text/x-python",
   "name": "python",
   "nbconvert_exporter": "python",
   "pygments_lexer": "ipython3",
   "version": "3.8.15"
  },
  "source_map": [
   14
  ]
 },
 "nbformat": 4,
 "nbformat_minor": 5
}