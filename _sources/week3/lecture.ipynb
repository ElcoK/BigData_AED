{
 "cells": [
  {
   "cell_type": "markdown",
   "id": "260d5828",
   "metadata": {},
   "source": [
    "# Lecture: Introduction to Artificial Neural Networks\n",
    "\n",
    "This week we will focus on the basic concepts of machine learning and how we can develop a simply machine learning model.\n",
    "\n",
    "`````{admonition} Learning objectives week 3\n",
    ":class: important\n",
    "- Understand the concept of Artificial neural networks.\n",
    "- Understand and know how you can apply an artificial neural network model in Python. \n",
    "- Know how to validate and interpret your results.\n",
    "`````\n",
    "\n",
    "## Artificial neural networks\n",
    "Neural networks are a commonly used, specific class of machine learning algorithms. Artificial neural networks are modeled on the human brain, in which thousands or millions of processing nodes are interconnected and organized into layers.\n",
    "\n",
    "Artificial neural networks (ANNs) are comprised of a node layers, containing an input layer, one or more hidden layers, and an output layer. Each node, or artificial neuron, connects to another and has an associated weight and threshold. If the output of any individual node is above the specified threshold value, that node is activated, sending data to the next layer of the network. Otherwise, no data is passed along to the next layer of the network.\n",
    "\n",
    "\n",
    "\n",
    "\n",
    "## Model validation"
   ]
  }
 ],
 "metadata": {
  "jupytext": {
   "cell_metadata_filter": "-all",
   "formats": "md:myst",
   "text_representation": {
    "extension": ".md",
    "format_name": "myst",
    "format_version": 0.13,
    "jupytext_version": "1.11.5"
   }
  },
  "kernelspec": {
   "display_name": "Python 3",
   "language": "python",
   "name": "python3"
  },
  "source_map": [
   14
  ]
 },
 "nbformat": 4,
 "nbformat_minor": 5
}