{
 "cells": [
  {
   "cell_type": "markdown",
   "id": "025ab753",
   "metadata": {},
   "source": [
    "# Lecture: A guide to visualisation\n",
    "\n",
    "This week we will focus on data visualisation. Data visualization is a graphical representation of data or information—for example, taking raw numbers from a spreadsheet and transforming that into a bar or line chart. Using data visualizations helps you to easily understand and analyze trends and outcomes within your data.\n",
    "\n",
    "Selecting the right graphical representation depends on the story you are trying to tell. You can choose any visualization and assume it’ll do the trick, but it’s worth the time and effort to select and customize the right visualization for long-lasting impact.\n",
    "\n",
    "`````{warning}\n",
    "This week is not exam material and is optional. \n",
    "`````\n",
    "\n",
    "`````{admonition} Learning objectives week 6\n",
    ":class: important\n",
    "- What are best practises in data visualisation\n",
    "- How can we use python to visualise our data\n",
    "`````"
   ]
  }
 ],
 "metadata": {
  "jupytext": {
   "cell_metadata_filter": "-all",
   "formats": "md:myst",
   "text_representation": {
    "extension": ".md",
    "format_name": "myst",
    "format_version": 0.13,
    "jupytext_version": "1.11.5"
   }
  },
  "kernelspec": {
   "display_name": "Python 3",
   "language": "python",
   "name": "python3"
  },
  "source_map": [
   14
  ]
 },
 "nbformat": 4,
 "nbformat_minor": 5
}