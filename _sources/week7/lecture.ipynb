{
 "cells": [
  {
   "cell_type": "markdown",
   "id": "66e744d3",
   "metadata": {},
   "source": [
    "# Lecture: A guide to visualisation\n",
    "\n",
    "This week we will focus on data visualisation.\n",
    "\n",
    "`````{admonition}\n",
    ":class: warning\n",
    "This week is not exam material and is optional. \n",
    "`````\n",
    "\n",
    "`````{admonition} Learning objectives week 6\n",
    ":class: important\n",
    "- What are best practises in data visualisation\n",
    "- How can we use python to visualise our data\n",
    "`````"
   ]
  }
 ],
 "metadata": {
  "jupytext": {
   "cell_metadata_filter": "-all",
   "formats": "md:myst",
   "text_representation": {
    "extension": ".md",
    "format_name": "myst",
    "format_version": 0.13,
    "jupytext_version": "1.11.5"
   }
  },
  "kernelspec": {
   "display_name": "Python 3",
   "language": "python",
   "name": "python3"
  },
  "language_info": {
   "codemirror_mode": {
    "name": "ipython",
    "version": 3
   },
   "file_extension": ".py",
   "mimetype": "text/x-python",
   "name": "python",
   "nbconvert_exporter": "python",
   "pygments_lexer": "ipython3",
   "version": "3.8.14"
  },
  "source_map": [
   14
  ]
 },
 "nbformat": 4,
 "nbformat_minor": 5
}