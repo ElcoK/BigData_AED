{
 "cells": [
  {
   "cell_type": "markdown",
   "id": "601e18bf",
   "metadata": {},
   "source": [
    "# Lecture: Big Data in the public domain\n",
    "\n",
    "This week we will focus on the large amount of data available in the public domain that we can utilize within our research in sustainability sciences.\n",
    "\n",
    "`````{admonition} Learning objectives week 5\n",
    ":class: important\n",
    "- Understand what type of data is available.\n",
    "- Understand how licensing works.\n",
    "- Know how to access OpenStreetMap and perform basic spatial analysis on this data.\n",
    "- Know how to combine different open-access spatial datasets to perform a natural hazards risk assessment. \n",
    "`````\n",
    "\n",
    "## Overview of data sources\n",
    "There are many places on online where we can find large amounts of public data to be used within our discipline. Below we highlight a few of the most used data sources.\n",
    "\n",
    "- [**Google Earth Engine Data Catalogue**](https://developers.google.com/earth-engine/datasets).Earth Engine's public data archive includes more than forty years of historical imagery and scientific datasets, updated and expanded daily. \n",
    "- [**Copernicus Climate Data Store**](https://cds.climate.copernicus.eu/#!/home). CDS datasets include observations, historical climate data records, estimates of Essential Climate Variables (ECVs) derived from Earth observations, global and regional climate reanalyses of past observations, seasonal forecasts and climate projections. Access to data is open, free and unrestricted.\n",
    "- [**Our World in Data**](https://ourworldindata.org/). Our World in Data (OWID) is a scientific online publication that focuses on large global problems such as poverty, disease, hunger, climate change, war, existential risks, and inequality.\n",
    "- [**Worldpop**](https://www.worldpop.org/). Open access spatial demographic datasets built using transparent approaches.\n",
    "- [**CMIP6**](https://www.wcrp-climate.org/about-wcrp/wcrp-overview). Coupled Model Intercomparison Project Phase 6. The objective of CMIP is to better understand past, present and future climate changes arising from natural, unforced variability or in response to changes in radiative forcing in a multi-model context. This understanding includes assessments of model performance during the historical period and quantifications of the causes of the spread in future projections. An important goal of CMIP is to make the multi-model output publicly available in a standardized format.\n",
    "- [**OpenStreetMap**](https://www.openstreetmap.org/). A  free, editable map of the whole world that is being built by volunteers largely from scratch and released with an open-content license.\n",
    "- [**ThinkHazard**](https://thinkhazard.org/en/). ThinkHazard! provides a general view of the hazards, for a given location. The hazard levels provided are based on published hazard data, provided by a range of private, academic and public organizations.\n",
    "- [**Eurostat**](https://ec.europa.eu/eurostat). Statistics and data on Europe. Both tabular and spatially explicit.\n",
    "- [**EM-DAT**](https://www.emdat.be/).EM-DAT contains essential core data on the occurrence and effects of over 22,000 mass disasters in the world from 1900 to the present day. \n",
    "- [**IPUMS**](https://www.ipums.org/). IPUMS provides census and survey data from around the world integrated across time and space.\n",
    "- [**GADM**](https://gadm.org/). GADM provides maps and spatial data for all countries and their sub-divisions. \n",
    "- [**Global Flood Database**](https://global-flood-database.cloudtostreet.ai/). The Global Flood Database contains maps of the extent and temporal distribution of 913 flood events occurring between 2000-2018.\n",
    "\n",
    "## Licensing of data in the public domain\n",
    "The most common license for public data is the Creative Commons license. Creative Commons licenses give everyone from individual creators to large institutions a standardized way to grant the public permission to use their creative work under copyright law. From the reuser’s perspective, the presence of a Creative Commons license on a copyrighted work answers the question, “What can I do with this work?” \n",
    "\n",
    "You can find all the information about the Creative Commons license [here](https://creativecommons.org/about/cclicenses/)."
   ]
  }
 ],
 "metadata": {
  "jupytext": {
   "cell_metadata_filter": "-all",
   "formats": "md:myst",
   "text_representation": {
    "extension": ".md",
    "format_name": "myst",
    "format_version": 0.13,
    "jupytext_version": "1.11.5"
   }
  },
  "kernelspec": {
   "display_name": "Python 3",
   "language": "python",
   "name": "python3"
  },
  "source_map": [
   14
  ]
 },
 "nbformat": 4,
 "nbformat_minor": 5
}