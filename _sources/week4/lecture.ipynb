{
 "cells": [
  {
   "cell_type": "markdown",
   "id": "a23bc0d5",
   "metadata": {},
   "source": [
    "# Lecture: Big Data in the public domain\n",
    "\n",
    "This week we will focus on how we can use the various techniques we have learned over the past couple of weeks (e.g. data analysis and machine learning) to explore how the future may change.\n",
    "\n",
    "`````{admonition} Learning objectives week 5\n",
    ":class: important\n",
    "- Understand the different drivers of future changes.\n",
    "- Gain a basic understanding of climate forecasting.\n",
    "- know how to translate future socioeconomic scenarios into spatially-explicit future changes of land-use\n",
    "`````"
   ]
  }
 ],
 "metadata": {
  "jupytext": {
   "cell_metadata_filter": "-all",
   "formats": "md:myst",
   "text_representation": {
    "extension": ".md",
    "format_name": "myst",
    "format_version": 0.13,
    "jupytext_version": "1.11.5"
   }
  },
  "kernelspec": {
   "display_name": "Python 3",
   "language": "python",
   "name": "python3"
  },
  "source_map": [
   14
  ]
 },
 "nbformat": 4,
 "nbformat_minor": 5
}