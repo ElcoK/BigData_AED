{
 "cells": [
  {
   "cell_type": "markdown",
   "id": "39ab972e",
   "metadata": {},
   "source": [
    "# Lecture: Big Data in the public domain\n",
    "\n",
    "This week we will focus on the large amount of data available in the public domain that we can utilize within our research in sustainability sciences.\n",
    "\n",
    "`````{admonition} Learning objectives week 5\n",
    ":class: important\n",
    "- Understand what type of data is available.\n",
    "- Understand how licensing works.\n",
    "- Know how to access OpenStreetMap and perform basic spatial analysis on this data.\n",
    "- Know how to combine different open-access spatial datasets to perform a natural hazards risk assessment. \n",
    "`````\n",
    "\n",
    "## Overview of data sources\n",
    "\n",
    "\n",
    "## Licencing of data in the public domain"
   ]
  }
 ],
 "metadata": {
  "jupytext": {
   "cell_metadata_filter": "-all",
   "formats": "md:myst",
   "text_representation": {
    "extension": ".md",
    "format_name": "myst",
    "format_version": 0.13,
    "jupytext_version": "1.11.5"
   }
  },
  "kernelspec": {
   "display_name": "Python 3",
   "language": "python",
   "name": "python3"
  },
  "source_map": [
   14
  ]
 },
 "nbformat": 4,
 "nbformat_minor": 5
}