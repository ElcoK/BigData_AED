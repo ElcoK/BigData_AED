{
 "cells": [
  {
   "cell_type": "markdown",
   "id": "94618c01",
   "metadata": {},
   "source": [
    "# Lecture: Social Media and Natural Language Processing (NLP)\n",
    "\n",
    "This week we will focus on how we can use Twitter data to map the impacts of natural hazards. We will do so by applying the concept of natural language processing.\n",
    "\n",
    "`````{admonition} Learning objectives week 6\n",
    ":class: important\n",
    "- Understand the concept of Nature Language Processing\n",
    "- Gain a basic understand of how social media data can be explored and used.\n",
    "`````\n",
    "\n",
    "## Natural Language Processing\n",
    "\n",
    "\n",
    "## Social Media data"
   ]
  }
 ],
 "metadata": {
  "jupytext": {
   "cell_metadata_filter": "-all",
   "formats": "md:myst",
   "text_representation": {
    "extension": ".md",
    "format_name": "myst",
    "format_version": 0.13,
    "jupytext_version": "1.11.5"
   }
  },
  "kernelspec": {
   "display_name": "Python 3",
   "language": "python",
   "name": "python3"
  },
  "language_info": {
   "codemirror_mode": {
    "name": "ipython",
    "version": 3
   },
   "file_extension": ".py",
   "mimetype": "text/x-python",
   "name": "python",
   "nbconvert_exporter": "python",
   "pygments_lexer": "ipython3",
   "version": "3.8.14"
  },
  "source_map": [
   14
  ]
 },
 "nbformat": 4,
 "nbformat_minor": 5
}