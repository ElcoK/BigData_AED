{
 "cells": [
  {
   "cell_type": "markdown",
   "id": "4ce02e96",
   "metadata": {},
   "source": [
    "# Lecture: Course Introduction\n",
    "\n",
    "This week we will kick-off the course. \n",
    "\n",
    "`````{admonition} Learning objectives week 1\n",
    ":class: important\n",
    "- Understand the concept of Big Data and how it can be used in sustainability sciences\n",
    "- Know how this course is structured \n",
    "- Gain a basic understanding of Python and Jupyter Notebooks\n",
    "`````\n",
    "\n",
    "## Big data\n",
    "\n",
    "`````{admonition} Definition of Big Data\n",
    ":class: tip\n",
    "Big data is a collection of massive and complex data sets and data volume that include the huge quantities of data, data management capabilities, social media analytics and real-time data. \n",
    "`````\n",
    "\n",
    "## Python\n",
    "Python is a programming language which allows us to give instructions to the computer. These instructions can be as simple as \"add together these two numbers\" or as complex as \"give me the average CO2 concentration for 2020\". For the former we will be able to complete the task using only a single instruction but for the latter, we may have to write a larger program containing hundreds or thousands of instructions.\n",
    "\n",
    "This course is going to start from the beginning, showing you to talk to the computer to perform simple tasks and as you become more confident and follow the later courses, you will find that you are able to write much more complex programmes. Within this course, we assume no prior knowledge of Python. Experience with programming concepts or another programming language will help, but is not required to understand the material.\n",
    "\n",
    "Python is a well-established language, with the current version (version 3) released in 2008 and it is installed by default on nearly all modern Linux systems. Python is also available for OS X and Windows.\n",
    "\n",
    "```{seealso} \n",
    "You can find much more info about Python [here](https://docs.python.org/3/faq/general.html#what-is-python)\n",
    "```"
   ]
  }
 ],
 "metadata": {
  "jupytext": {
   "cell_metadata_filter": "-all",
   "formats": "md:myst",
   "text_representation": {
    "extension": ".md",
    "format_name": "myst",
    "format_version": 0.13,
    "jupytext_version": "1.11.5"
   }
  },
  "kernelspec": {
   "display_name": "Python 3",
   "language": "python",
   "name": "python3"
  },
  "language_info": {
   "codemirror_mode": {
    "name": "ipython",
    "version": 3
   },
   "file_extension": ".py",
   "mimetype": "text/x-python",
   "name": "python",
   "nbconvert_exporter": "python",
   "pygments_lexer": "ipython3",
   "version": "3.8.14"
  },
  "source_map": [
   14
  ]
 },
 "nbformat": 4,
 "nbformat_minor": 5
}