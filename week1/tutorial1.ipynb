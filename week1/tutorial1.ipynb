{
 "cells": [
  {
   "cell_type": "markdown",
   "metadata": {},
   "source": [
    "# Tutorial 1: Introduction to Python (i)\n",
    "\n",
    "This first tutorial will deal with the basics of Python and Jupyter Notebooks.   \n",
    "\n",
    "\n"
   ]
  },
  {
   "cell_type": "markdown",
   "metadata": {},
   "source": [
    "### The Zen Of Python"
   ]
  },
  {
   "cell_type": "code",
   "execution_count": null,
   "metadata": {},
   "outputs": [],
   "source": [
    "import this"
   ]
  },
  {
   "cell_type": "markdown",
   "metadata": {},
   "source": [
    "## Jupyter notebooks\n",
    "Jupyter notebooks combine the ability to make nice documentation in combination with python code, which is perfect for our needs in these tutorials and practicums.\n",
    "\n",
    "Jupyter notebooks work with cells, each cell can be used to type either Python language or Markdown (text editing language). \n",
    "\n",
    "### Shortcuts\n",
    "- Shift + Enter run the current cell, select below\n",
    "- Ctrl/Cmd + Enter run selected cells\n",
    "- Ctrl/Cmd + S save and checkpoint\n",
    "- Enter take you into edit mode\n",
    "- A insert cell above\n",
    "- B insert cell below\n",
    "- C copy selected cells\n",
    "- V paste cells below\n",
    "- Z undo cell deletion\n",
    "- M change the cell type to Markdown\n",
    "- Y change the cell type to Code\n",
    "- H show all shortcuts"
   ]
  },
  {
   "cell_type": "markdown",
   "metadata": {},
   "source": [
    "## Object types and variables\n",
    "\n",
    "The Python language follows certain syntax rules and provides some basic functions (e.g. for loops, while loops, if statements, abs(), max(), etc..) and different object types (str, list, function, integer, float, class, dictionary, etc..) to write a code. \n",
    "You can view what object type you are dealing with by type( your_variable ):\n"
   ]
  },
  {
   "cell_type": "code",
   "execution_count": null,
   "metadata": {},
   "outputs": [],
   "source": [
    "type('this is a string')"
   ]
  },
  {
   "cell_type": "markdown",
   "metadata": {},
   "source": [
    "## 1. Numbers\n",
    "\n",
    "Commonly used number datatypes are: \n",
    "- integers (0, 1, 2, 3, .., 99)\n",
    "- floats   (0.5, 1.9, 1E-9)\n",
    "- boolean  (True, False)"
   ]
  },
  {
   "cell_type": "code",
   "execution_count": null,
   "metadata": {},
   "outputs": [],
   "source": [
    "print('integer number datatype (dtype):', type(10))\n",
    "print('float number datatype (dtype):', type(10.0))\n",
    "print('boolean datatype (dtype):', type(True))"
   ]
  },
  {
   "cell_type": "markdown",
   "metadata": {},
   "source": [
    "In programming, we can point to a value with a certain variable name. \n",
    "Assigning an object (the integer 10) to a variable name called 'variable_name_pointing_to'"
   ]
  },
  {
   "cell_type": "code",
   "execution_count": null,
   "metadata": {},
   "outputs": [],
   "source": [
    "variable_name_pointing_to = 10"
   ]
  },
  {
   "cell_type": "code",
   "execution_count": null,
   "metadata": {},
   "outputs": [],
   "source": [
    "type(variable_name_pointing_to)"
   ]
  },
  {
   "cell_type": "markdown",
   "metadata": {},
   "source": [
    "### 1.1. Arithmetic Operators\n",
    "\n",
    "| Symbol | Task Performed |\n",
    "|----|---|\n",
    "| +  | Addition |\n",
    "| -  | Subtraction |\n",
    "| /  | division |\n",
    "| %  | mod |\n",
    "| *  | multiplication |\n",
    "| //  | floor division |\n",
    "| **  | to the power of |"
   ]
  },
  {
   "cell_type": "markdown",
   "metadata": {},
   "source": [
    "1+2"
   ]
  },
  {
   "cell_type": "code",
   "execution_count": null,
   "metadata": {},
   "outputs": [],
   "source": [
    "2-1"
   ]
  },
  {
   "cell_type": "code",
   "execution_count": null,
   "metadata": {},
   "outputs": [],
   "source": [
    "1*2"
   ]
  },
  {
   "cell_type": "code",
   "execution_count": null,
   "metadata": {},
   "outputs": [],
   "source": [
    "15%10"
   ]
  },
  {
   "cell_type": "markdown",
   "metadata": {},
   "source": [
    "### 1.2. Relational Operators\n",
    "\n",
    "| Symbol | Task Performed |\n",
    "|----|---|\n",
    "| == | True, if it is equal |\n",
    "| !=  | True, if not equal to |\n",
    "| < | less than |\n",
    "| > | greater than |\n",
    "| <=  | less than or equal to |\n",
    "| >=  | greater than or equal to |"
   ]
  },
  {
   "cell_type": "code",
   "execution_count": null,
   "metadata": {},
   "outputs": [],
   "source": [
    "z = 1"
   ]
  },
  {
   "cell_type": "code",
   "execution_count": null,
   "metadata": {},
   "outputs": [],
   "source": [
    "z == 1"
   ]
  },
  {
   "cell_type": "code",
   "execution_count": null,
   "metadata": {},
   "outputs": [],
   "source": [
    "z > 1"
   ]
  },
  {
   "cell_type": "markdown",
   "metadata": {},
   "source": [
    "### 1.3. Simplifying Arithmetic Operations\n",
    "\n",
    "**round( )** function rounds the input value to a specified number of places or to the nearest integer. "
   ]
  },
  {
   "cell_type": "code",
   "execution_count": null,
   "metadata": {},
   "outputs": [],
   "source": [
    "print(round(5.6231) )\n",
    "print(round(4.55892, 2))"
   ]
  },
  {
   "cell_type": "markdown",
   "metadata": {},
   "source": [
    "**isinstance( )** returns True, if the first argument is an instance of that class. Multiple classes can also be checked at once."
   ]
  },
  {
   "cell_type": "code",
   "execution_count": null,
   "metadata": {},
   "outputs": [],
   "source": [
    "print(isinstance(1, int))\n",
    "print(isinstance(1.0,int))\n",
    "print(isinstance(1.0,(int,float)))"
   ]
  },
  {
   "cell_type": "markdown",
   "metadata": {},
   "source": [
    "**range( )** function outputs the integers of the specified range. It can also be used to generate a series by specifying the difference between the two numbers within a particular range. The elements are returned in a list (will be discussing in detail later.)"
   ]
  },
  {
   "cell_type": "code",
   "execution_count": null,
   "metadata": {},
   "outputs": [],
   "source": [
    "print(range(3))\n",
    "print(range(2,9))\n",
    "print(range(2,27,8))"
   ]
  },
  {
   "cell_type": "markdown",
   "metadata": {},
   "source": [
    "## 2. Strings \n",
    "Many of the datasets that we use are often a combination of strings and numbers. "
   ]
  },
  {
   "cell_type": "code",
   "execution_count": 164,
   "metadata": {},
   "outputs": [
    {
     "name": "stdout",
     "output_type": "stream",
     "text": [
      "hello world\n"
     ]
    }
   ],
   "source": [
    "print(\"hello world\")"
   ]
  },
  {
   "cell_type": "markdown",
   "metadata": {},
   "source": [
    "## Data Structures\n",
    "\n",
    "In simple terms, It is the the collection or group of data in a particular structure."
   ]
  },
  {
   "cell_type": "markdown",
   "metadata": {},
   "source": [
    "### Lists\n",
    "\n",
    "Simply put, a list is a sequence of data that is enclosed in square brackets and data are separated by a comma. Each of the data objects can be accessed by using the index, which refers to its positional location.\n",
    "\n",
    "Lists are declared by just equating a variable to '[ ]' or list."
   ]
  },
  {
   "cell_type": "code",
   "execution_count": null,
   "metadata": {},
   "outputs": [],
   "source": [
    "a = []"
   ]
  },
  {
   "cell_type": "code",
   "execution_count": null,
   "metadata": {},
   "outputs": [],
   "source": [
    "print(type(a))"
   ]
  },
  {
   "cell_type": "markdown",
   "metadata": {},
   "source": [
    "One can directly assign the sequence of data to a list x as shown."
   ]
  },
  {
   "cell_type": "code",
   "execution_count": null,
   "metadata": {},
   "outputs": [],
   "source": [
    "x = ['apple', 'orange']"
   ]
  },
  {
   "cell_type": "markdown",
   "metadata": {},
   "source": [
    "#### List indexing"
   ]
  },
  {
   "cell_type": "code",
   "execution_count": null,
   "metadata": {},
   "outputs": [],
   "source": [
    "x[0]"
   ]
  },
  {
   "cell_type": "markdown",
   "metadata": {},
   "source": [
    "Indexing can also be done in reverse order. That is the last element can be accessed first. Here, indexing starts from -1. Thus index value -1 will be orange and index -2 will be apple."
   ]
  },
  {
   "cell_type": "code",
   "execution_count": null,
   "metadata": {},
   "outputs": [],
   "source": [
    "x[-1]"
   ]
  },
  {
   "cell_type": "markdown",
   "metadata": {},
   "source": [
    "As you might have already guessed, x[0] = x[-2], x[1] = x[-1]. This concept can be extended towards lists with more many elements."
   ]
  },
  {
   "cell_type": "code",
   "execution_count": null,
   "metadata": {},
   "outputs": [],
   "source": [
    "y = ['carrot','potato']"
   ]
  },
  {
   "cell_type": "markdown",
   "metadata": {},
   "source": [
    "Here we have declared two lists x and y each containing its own data. Now, these two lists can again be put into another list say z which will have it's data as two lists. This list inside a list is called as nested lists and is how an array would be declared which we will see later."
   ]
  },
  {
   "cell_type": "code",
   "execution_count": null,
   "metadata": {},
   "outputs": [],
   "source": [
    "z  = [x,y]\n",
    "print(z)"
   ]
  },
  {
   "cell_type": "markdown",
   "metadata": {},
   "source": [
    "Indexing in nested lists can be quite confusing if you do not understand how indexing works in python. So let us break it down and then arrive at a conclusion.\n",
    "\n",
    "Let us access the data 'apple' in the above nested list.\n",
    "First, at index 0 there is a list ['apple','orange'] and at index 1 there is another list ['carrot','potato']. Hence z[0] should give us the first list which contains 'apple'."
   ]
  },
  {
   "cell_type": "code",
   "execution_count": null,
   "metadata": {},
   "outputs": [],
   "source": [
    "z1 = z[0]\n",
    "print(z1)"
   ]
  },
  {
   "cell_type": "markdown",
   "metadata": {},
   "source": [
    "Now observe that z1 is not at all a nested list thus to access 'apple', z1 should be indexed at 0."
   ]
  },
  {
   "cell_type": "code",
   "execution_count": null,
   "metadata": {
    "colab": {
     "base_uri": "https://localhost:8080/",
     "height": 57
    },
    "executionInfo": {
     "elapsed": 274,
     "status": "ok",
     "timestamp": 1636461591328,
     "user": {
      "displayName": "Sem Vijverberg",
      "photoUrl": "https://lh3.googleusercontent.com/a-/AOh14GgP3ekzXBWjWxtQi_zniAyCcTS_7t_IAIO3tTUdRw=s64",
      "userId": "13865882758081973772"
     },
     "user_tz": -60
    },
    "id": "0Z2DOJgQsl8o",
    "jupyter": {
     "outputs_hidden": false
    },
    "outputId": "eee840cb-14d2-43cd-815a-89546b5382e3"
   },
   "outputs": [],
   "source": [
    "z1[0]"
   ]
  },
  {
   "cell_type": "markdown",
   "metadata": {
    "id": "dmDOwuZisl8q"
   },
   "source": [
    "Instead of doing the above, In python, you can access 'apple' by just writing the index values each time side by side."
   ]
  },
  {
   "cell_type": "code",
   "execution_count": null,
   "metadata": {
    "colab": {
     "base_uri": "https://localhost:8080/",
     "height": 57
    },
    "executionInfo": {
     "elapsed": 351,
     "status": "ok",
     "timestamp": 1636461593924,
     "user": {
      "displayName": "Sem Vijverberg",
      "photoUrl": "https://lh3.googleusercontent.com/a-/AOh14GgP3ekzXBWjWxtQi_zniAyCcTS_7t_IAIO3tTUdRw=s64",
      "userId": "13865882758081973772"
     },
     "user_tz": -60
    },
    "id": "bqZ0NeQwsl8q",
    "jupyter": {
     "outputs_hidden": false
    },
    "outputId": "d20191c9-4dfb-4ea1-fae8-5f159b233f30"
   },
   "outputs": [],
   "source": [
    "z[0][0]"
   ]
  },
  {
   "cell_type": "markdown",
   "metadata": {
    "id": "qXpKGhsvsl8r"
   },
   "source": [
    "If there was a list inside a list inside a list then you can access the innermost value by executing z[ ][ ][ ]."
   ]
  },
  {
   "cell_type": "markdown",
   "metadata": {
    "id": "QajpmDuesl8s"
   },
   "source": [
    "### Slicing\n",
    "\n",
    "Indexing was only limited to accessing a single element, Slicing on the other hand is accessing a sequence of data inside the list. In other words \"slicing\" the list.\n",
    "\n",
    "Slicing is done by defining the index values of the first element and the last element from the parent list that is required in the sliced list. It is written as parentlist[ a : b ] where a,b are the index values from the parent list. If a or b is not defined then the index value is considered to be the first value for a if a is not defined and the last value for b when b is not defined."
   ]
  },
  {
   "cell_type": "code",
   "execution_count": null,
   "metadata": {
    "executionInfo": {
     "elapsed": 304,
     "status": "ok",
     "timestamp": 1636461599594,
     "user": {
      "displayName": "Sem Vijverberg",
      "photoUrl": "https://lh3.googleusercontent.com/a-/AOh14GgP3ekzXBWjWxtQi_zniAyCcTS_7t_IAIO3tTUdRw=s64",
      "userId": "13865882758081973772"
     },
     "user_tz": -60
    },
    "id": "7Bur5ZbXsl8v"
   },
   "outputs": [],
   "source": [
    "num = [0,1,2,3,4,5,6,7,8,9]"
   ]
  },
  {
   "cell_type": "code",
   "execution_count": null,
   "metadata": {
    "colab": {
     "base_uri": "https://localhost:8080/"
    },
    "executionInfo": {
     "elapsed": 4,
     "status": "ok",
     "timestamp": 1636461599826,
     "user": {
      "displayName": "Sem Vijverberg",
      "photoUrl": "https://lh3.googleusercontent.com/a-/AOh14GgP3ekzXBWjWxtQi_zniAyCcTS_7t_IAIO3tTUdRw=s64",
      "userId": "13865882758081973772"
     },
     "user_tz": -60
    },
    "id": "KxmxFUpusl8x",
    "jupyter": {
     "outputs_hidden": false
    },
    "outputId": "076e2583-c137-4e57-888d-555265bd704a"
   },
   "outputs": [],
   "source": [
    "print(num[0:4])\n",
    "print(num[4:])"
   ]
  },
  {
   "cell_type": "markdown",
   "metadata": {
    "id": "rKu_FJnasl8z"
   },
   "source": [
    "You can also slice a parent list with a fixed length or step length."
   ]
  },
  {
   "cell_type": "code",
   "execution_count": null,
   "metadata": {
    "colab": {
     "base_uri": "https://localhost:8080/"
    },
    "executionInfo": {
     "elapsed": 6,
     "status": "ok",
     "timestamp": 1636461602621,
     "user": {
      "displayName": "Sem Vijverberg",
      "photoUrl": "https://lh3.googleusercontent.com/a-/AOh14GgP3ekzXBWjWxtQi_zniAyCcTS_7t_IAIO3tTUdRw=s64",
      "userId": "13865882758081973772"
     },
     "user_tz": -60
    },
    "id": "LZUbEbbpsl80",
    "jupyter": {
     "outputs_hidden": false
    },
    "outputId": "b9b01052-db43-4851-b5c7-b3797fc50684"
   },
   "outputs": [],
   "source": [
    "num[:9:3]"
   ]
  },
  {
   "cell_type": "markdown",
   "metadata": {
    "id": "x_pn4zb6sl81"
   },
   "source": [
    "### Built in List Functions"
   ]
  },
  {
   "cell_type": "markdown",
   "metadata": {
    "id": "HECjlTqIsl82"
   },
   "source": [
    "To find the length of the list or the number of elements in a list, **len( )** is used."
   ]
  },
  {
   "cell_type": "code",
   "execution_count": null,
   "metadata": {
    "colab": {
     "base_uri": "https://localhost:8080/"
    },
    "executionInfo": {
     "elapsed": 402,
     "status": "ok",
     "timestamp": 1636461604203,
     "user": {
      "displayName": "Sem Vijverberg",
      "photoUrl": "https://lh3.googleusercontent.com/a-/AOh14GgP3ekzXBWjWxtQi_zniAyCcTS_7t_IAIO3tTUdRw=s64",
      "userId": "13865882758081973772"
     },
     "user_tz": -60
    },
    "id": "d6Bw5W0Zsl82",
    "jupyter": {
     "outputs_hidden": false
    },
    "outputId": "5bc5885c-49f4-4eee-9ad7-36fc936b2b8d"
   },
   "outputs": [],
   "source": [
    "len(num)"
   ]
  },
  {
   "cell_type": "markdown",
   "metadata": {
    "id": "c52cpMgIsl83"
   },
   "source": [
    "If the list consists of all integer elements then **min( )** and **max( )** gives the minimum and maximum value in the list."
   ]
  },
  {
   "cell_type": "code",
   "execution_count": null,
   "metadata": {
    "colab": {
     "base_uri": "https://localhost:8080/"
    },
    "executionInfo": {
     "elapsed": 4,
     "status": "ok",
     "timestamp": 1636461604606,
     "user": {
      "displayName": "Sem Vijverberg",
      "photoUrl": "https://lh3.googleusercontent.com/a-/AOh14GgP3ekzXBWjWxtQi_zniAyCcTS_7t_IAIO3tTUdRw=s64",
      "userId": "13865882758081973772"
     },
     "user_tz": -60
    },
    "id": "XDSGb6jksl83",
    "jupyter": {
     "outputs_hidden": false
    },
    "outputId": "45adaef5-4b28-40ef-fdc7-a19a39230847"
   },
   "outputs": [],
   "source": [
    "min(num)"
   ]
  },
  {
   "cell_type": "code",
   "execution_count": null,
   "metadata": {
    "colab": {
     "base_uri": "https://localhost:8080/"
    },
    "executionInfo": {
     "elapsed": 3,
     "status": "ok",
     "timestamp": 1636461605341,
     "user": {
      "displayName": "Sem Vijverberg",
      "photoUrl": "https://lh3.googleusercontent.com/a-/AOh14GgP3ekzXBWjWxtQi_zniAyCcTS_7t_IAIO3tTUdRw=s64",
      "userId": "13865882758081973772"
     },
     "user_tz": -60
    },
    "id": "ddHAFDFcsl85",
    "jupyter": {
     "outputs_hidden": false
    },
    "outputId": "d3b5968b-f5cf-488d-99e5-a9d37d203ed7"
   },
   "outputs": [],
   "source": [
    "max(num)"
   ]
  },
  {
   "cell_type": "markdown",
   "metadata": {
    "id": "OOHuf3yusl87"
   },
   "source": [
    "Lists can be concatenated by adding, '+' them. The resultant list will contain all the elements of the lists that were added. The resultant list will not be a nested list."
   ]
  },
  {
   "cell_type": "code",
   "execution_count": null,
   "metadata": {
    "colab": {
     "base_uri": "https://localhost:8080/"
    },
    "executionInfo": {
     "elapsed": 306,
     "status": "ok",
     "timestamp": 1636461608322,
     "user": {
      "displayName": "Sem Vijverberg",
      "photoUrl": "https://lh3.googleusercontent.com/a-/AOh14GgP3ekzXBWjWxtQi_zniAyCcTS_7t_IAIO3tTUdRw=s64",
      "userId": "13865882758081973772"
     },
     "user_tz": -60
    },
    "id": "zv5J0QwRsl88",
    "jupyter": {
     "outputs_hidden": false
    },
    "outputId": "f5f8b00a-c996-4866-a182-f81645c4277a"
   },
   "outputs": [],
   "source": [
    "[1,2,3] + [5,4,7]"
   ]
  },
  {
   "cell_type": "markdown",
   "metadata": {
    "id": "TljbrFxysl89"
   },
   "source": [
    "There might arise a requirement where you might need to check if a particular element is there in a predefined list. Consider the below list."
   ]
  },
  {
   "cell_type": "code",
   "execution_count": null,
   "metadata": {
    "executionInfo": {
     "elapsed": 391,
     "status": "ok",
     "timestamp": 1636461610890,
     "user": {
      "displayName": "Sem Vijverberg",
      "photoUrl": "https://lh3.googleusercontent.com/a-/AOh14GgP3ekzXBWjWxtQi_zniAyCcTS_7t_IAIO3tTUdRw=s64",
      "userId": "13865882758081973772"
     },
     "user_tz": -60
    },
    "id": "6pbXeIOYsl89",
    "jupyter": {
     "outputs_hidden": false
    }
   },
   "outputs": [],
   "source": [
    "names = ['Earth','Air','Fire','Water']"
   ]
  },
  {
   "cell_type": "markdown",
   "metadata": {
    "id": "9nD-lYl7sl8_"
   },
   "source": [
    "To check if 'Fire' and 'Rajath' is present in the list names. A conventional approach would be to use a for loop and iterate over the list and use the if condition. But in python you can use 'a in b' concept which would return 'True' if a is present in b and 'False' if not."
   ]
  },
  {
   "cell_type": "code",
   "execution_count": null,
   "metadata": {
    "colab": {
     "base_uri": "https://localhost:8080/"
    },
    "executionInfo": {
     "elapsed": 5,
     "status": "ok",
     "timestamp": 1636461611110,
     "user": {
      "displayName": "Sem Vijverberg",
      "photoUrl": "https://lh3.googleusercontent.com/a-/AOh14GgP3ekzXBWjWxtQi_zniAyCcTS_7t_IAIO3tTUdRw=s64",
      "userId": "13865882758081973772"
     },
     "user_tz": -60
    },
    "id": "VlkSntCCsl9A",
    "jupyter": {
     "outputs_hidden": false
    },
    "outputId": "734eba6e-b7eb-4fbf-f374-db6dd4c10ee8"
   },
   "outputs": [],
   "source": [
    "'Fire' in names"
   ]
  },
  {
   "cell_type": "code",
   "execution_count": null,
   "metadata": {
    "colab": {
     "base_uri": "https://localhost:8080/"
    },
    "executionInfo": {
     "elapsed": 317,
     "status": "ok",
     "timestamp": 1636461613767,
     "user": {
      "displayName": "Sem Vijverberg",
      "photoUrl": "https://lh3.googleusercontent.com/a-/AOh14GgP3ekzXBWjWxtQi_zniAyCcTS_7t_IAIO3tTUdRw=s64",
      "userId": "13865882758081973772"
     },
     "user_tz": -60
    },
    "id": "qm8qdkXMsl9B",
    "jupyter": {
     "outputs_hidden": false
    },
    "outputId": "c8d5ccc1-d4a0-4b2a-e67d-1d9020905a56"
   },
   "outputs": [],
   "source": [
    "'Rajath' in names"
   ]
  },
  {
   "cell_type": "markdown",
   "metadata": {
    "id": "rK7raZ8bsl9B"
   },
   "source": [
    "In a list with elements as string, **max( )** and **min( )** is applicable. **max( )** would return a string element whose ASCII value is the highest and the lowest when **min( )** is used. Note that only the first index of each element is considered each time and if they value is the same then second index considered so on and so forth."
   ]
  },
  {
   "cell_type": "code",
   "execution_count": null,
   "metadata": {
    "executionInfo": {
     "elapsed": 3,
     "status": "ok",
     "timestamp": 1636461614455,
     "user": {
      "displayName": "Sem Vijverberg",
      "photoUrl": "https://lh3.googleusercontent.com/a-/AOh14GgP3ekzXBWjWxtQi_zniAyCcTS_7t_IAIO3tTUdRw=s64",
      "userId": "13865882758081973772"
     },
     "user_tz": -60
    },
    "id": "boNxEkE8sl9C"
   },
   "outputs": [],
   "source": [
    "mlist = ['bzaa','ds','nc','az','z','klm']"
   ]
  },
  {
   "cell_type": "code",
   "execution_count": null,
   "metadata": {
    "colab": {
     "base_uri": "https://localhost:8080/"
    },
    "executionInfo": {
     "elapsed": 240,
     "status": "ok",
     "timestamp": 1636461616141,
     "user": {
      "displayName": "Sem Vijverberg",
      "photoUrl": "https://lh3.googleusercontent.com/a-/AOh14GgP3ekzXBWjWxtQi_zniAyCcTS_7t_IAIO3tTUdRw=s64",
      "userId": "13865882758081973772"
     },
     "user_tz": -60
    },
    "id": "gkRIU33Isl9C",
    "jupyter": {
     "outputs_hidden": false
    },
    "outputId": "9459c814-4558-463b-de45-09bf3cdcc106"
   },
   "outputs": [],
   "source": [
    "print(max(mlist))\n",
    "print(min(mlist))"
   ]
  },
  {
   "cell_type": "markdown",
   "metadata": {
    "id": "1PGSiSP7sl9D"
   },
   "source": [
    "Here the first index of each element is considered and thus z has the highest ASCII value thus it is returned and minimum ASCII is a. But what if numbers are declared as strings?"
   ]
  },
  {
   "cell_type": "code",
   "execution_count": null,
   "metadata": {
    "executionInfo": {
     "elapsed": 4,
     "status": "ok",
     "timestamp": 1636461617102,
     "user": {
      "displayName": "Sem Vijverberg",
      "photoUrl": "https://lh3.googleusercontent.com/a-/AOh14GgP3ekzXBWjWxtQi_zniAyCcTS_7t_IAIO3tTUdRw=s64",
      "userId": "13865882758081973772"
     },
     "user_tz": -60
    },
    "id": "M5XE9YRvsl9D"
   },
   "outputs": [],
   "source": [
    "nlist = ['1','94','93','1000']"
   ]
  },
  {
   "cell_type": "code",
   "execution_count": null,
   "metadata": {
    "colab": {
     "base_uri": "https://localhost:8080/"
    },
    "executionInfo": {
     "elapsed": 7,
     "status": "ok",
     "timestamp": 1636461617348,
     "user": {
      "displayName": "Sem Vijverberg",
      "photoUrl": "https://lh3.googleusercontent.com/a-/AOh14GgP3ekzXBWjWxtQi_zniAyCcTS_7t_IAIO3tTUdRw=s64",
      "userId": "13865882758081973772"
     },
     "user_tz": -60
    },
    "id": "zl8ANXLZsl9D",
    "jupyter": {
     "outputs_hidden": false
    },
    "outputId": "07fbf9c3-2237-48d2-9119-1ca8b749798b"
   },
   "outputs": [],
   "source": [
    "print(max(nlist))\n",
    "print(min(nlist))"
   ]
  },
  {
   "cell_type": "markdown",
   "metadata": {
    "id": "LTsvzHzlsl9D"
   },
   "source": [
    "Even if the numbers are declared in a string the first index of each element is considered and the maximum and minimum values are returned accordingly."
   ]
  },
  {
   "cell_type": "markdown",
   "metadata": {
    "id": "xQs8kOFfsl9E"
   },
   "source": [
    "But if you want to find the **max( )** string element based on the length of the string then another parameter 'key=len' is declared inside the **max( )** and **min( )** function."
   ]
  },
  {
   "cell_type": "code",
   "execution_count": null,
   "metadata": {
    "colab": {
     "base_uri": "https://localhost:8080/"
    },
    "executionInfo": {
     "elapsed": 248,
     "status": "ok",
     "timestamp": 1636461620106,
     "user": {
      "displayName": "Sem Vijverberg",
      "photoUrl": "https://lh3.googleusercontent.com/a-/AOh14GgP3ekzXBWjWxtQi_zniAyCcTS_7t_IAIO3tTUdRw=s64",
      "userId": "13865882758081973772"
     },
     "user_tz": -60
    },
    "id": "Eg2XB-0ssl9E",
    "jupyter": {
     "outputs_hidden": false
    },
    "outputId": "a21e798e-4557-459f-df78-78b4974d7d5b"
   },
   "outputs": [],
   "source": [
    "print(max(names, key=len))\n",
    "print(min(names, key=len))"
   ]
  },
  {
   "cell_type": "markdown",
   "metadata": {
    "id": "XprBU5DDsl9E"
   },
   "source": [
    "But even 'Water' has length 5. **max()** or **min()** function returns the first element when there are two or more elements with the same length.\n",
    "\n",
    "Any other built in function can be used or lambda function (will be discussed later) in place of len.\n",
    "\n",
    "A string can be converted into a list by using the **list()** function."
   ]
  },
  {
   "cell_type": "code",
   "execution_count": null,
   "metadata": {
    "colab": {
     "base_uri": "https://localhost:8080/"
    },
    "executionInfo": {
     "elapsed": 383,
     "status": "ok",
     "timestamp": 1636461622443,
     "user": {
      "displayName": "Sem Vijverberg",
      "photoUrl": "https://lh3.googleusercontent.com/a-/AOh14GgP3ekzXBWjWxtQi_zniAyCcTS_7t_IAIO3tTUdRw=s64",
      "userId": "13865882758081973772"
     },
     "user_tz": -60
    },
    "id": "XT1egHeAsl9G",
    "jupyter": {
     "outputs_hidden": false
    },
    "outputId": "99139f27-0e93-4bb7-8791-8be7d1fd5414"
   },
   "outputs": [],
   "source": [
    "list('hello')"
   ]
  },
  {
   "cell_type": "markdown",
   "metadata": {
    "id": "mN0SIlwisl9G"
   },
   "source": [
    "**append( )** is used to add a element at the end of the list."
   ]
  },
  {
   "cell_type": "code",
   "execution_count": null,
   "metadata": {
    "executionInfo": {
     "elapsed": 9,
     "status": "ok",
     "timestamp": 1636461622774,
     "user": {
      "displayName": "Sem Vijverberg",
      "photoUrl": "https://lh3.googleusercontent.com/a-/AOh14GgP3ekzXBWjWxtQi_zniAyCcTS_7t_IAIO3tTUdRw=s64",
      "userId": "13865882758081973772"
     },
     "user_tz": -60
    },
    "id": "xzsYIMyEsl9H",
    "jupyter": {
     "outputs_hidden": false
    }
   },
   "outputs": [],
   "source": [
    "lst = [1,1,4,8,7]"
   ]
  },
  {
   "cell_type": "code",
   "execution_count": null,
   "metadata": {
    "colab": {
     "base_uri": "https://localhost:8080/"
    },
    "executionInfo": {
     "elapsed": 354,
     "status": "ok",
     "timestamp": 1636461624824,
     "user": {
      "displayName": "Sem Vijverberg",
      "photoUrl": "https://lh3.googleusercontent.com/a-/AOh14GgP3ekzXBWjWxtQi_zniAyCcTS_7t_IAIO3tTUdRw=s64",
      "userId": "13865882758081973772"
     },
     "user_tz": -60
    },
    "id": "qcQnu-1esl9H",
    "jupyter": {
     "outputs_hidden": false
    },
    "outputId": "bcfbef1c-7197-4762-a30d-036eb6469589"
   },
   "outputs": [],
   "source": [
    "lst.append(1)\n",
    "print(lst)"
   ]
  },
  {
   "cell_type": "markdown",
   "metadata": {
    "id": "BVoWZeDTsl9H"
   },
   "source": [
    "**count( )** is used to count the number of a particular element that is present in the list. "
   ]
  },
  {
   "cell_type": "code",
   "execution_count": null,
   "metadata": {
    "colab": {
     "base_uri": "https://localhost:8080/"
    },
    "executionInfo": {
     "elapsed": 7,
     "status": "ok",
     "timestamp": 1636461625176,
     "user": {
      "displayName": "Sem Vijverberg",
      "photoUrl": "https://lh3.googleusercontent.com/a-/AOh14GgP3ekzXBWjWxtQi_zniAyCcTS_7t_IAIO3tTUdRw=s64",
      "userId": "13865882758081973772"
     },
     "user_tz": -60
    },
    "id": "6mvbirTMsl9I",
    "jupyter": {
     "outputs_hidden": false
    },
    "outputId": "80e6b530-c941-4049-e6d5-82081c301be2"
   },
   "outputs": [],
   "source": [
    "lst.count(1)"
   ]
  },
  {
   "cell_type": "markdown",
   "metadata": {
    "id": "MQOVnN-Rsl9I"
   },
   "source": [
    "**append( )** function can also be used to add a entire list at the end. Observe that the resultant list becomes a nested list."
   ]
  },
  {
   "cell_type": "code",
   "execution_count": null,
   "metadata": {
    "id": "e51Y0WvOsl9I"
   },
   "outputs": [],
   "source": [
    "lst1 = [5,4,2,8]"
   ]
  },
  {
   "cell_type": "code",
   "execution_count": null,
   "metadata": {
    "id": "btRg6MQvsl9I",
    "jupyter": {
     "outputs_hidden": false
    },
    "outputId": "116f7895-240a-45d2-a09a-e813c22a7dbf"
   },
   "outputs": [],
   "source": [
    "lst.append(lst1)\n",
    "print(lst)"
   ]
  },
  {
   "cell_type": "markdown",
   "metadata": {
    "id": "NxhcpfNesl9J"
   },
   "source": [
    "But if nested list is not what is desired then **extend( )** function can be used."
   ]
  },
  {
   "cell_type": "code",
   "execution_count": null,
   "metadata": {
    "id": "PrgyudFDsl9K",
    "jupyter": {
     "outputs_hidden": false
    },
    "outputId": "73a0037d-ef9b-4b11-a606-7ae1e8983203"
   },
   "outputs": [],
   "source": [
    "lst.extend(lst1)\n",
    "print(lst)"
   ]
  },
  {
   "cell_type": "markdown",
   "metadata": {
    "id": "P1jG1LDbsl9K"
   },
   "source": [
    "**index( )** is used to find the index value of a particular element. Note that if there are multiple elements of the same value then the first index value of that element is returned."
   ]
  },
  {
   "cell_type": "code",
   "execution_count": null,
   "metadata": {
    "id": "Hu_ISsu6sl9L",
    "jupyter": {
     "outputs_hidden": false
    },
    "outputId": "534e224b-436c-4d59-cc5a-2a820e088b68"
   },
   "outputs": [],
   "source": [
    "lst.index(1)"
   ]
  },
  {
   "cell_type": "markdown",
   "metadata": {
    "id": "dbs15SHWsl9L"
   },
   "source": [
    "**insert(x,y)** is used to insert a element y at a specified index value x. **append( )** function made it only possible to insert at the end. "
   ]
  },
  {
   "cell_type": "code",
   "execution_count": null,
   "metadata": {
    "id": "hQ5aunrNsl9L",
    "jupyter": {
     "outputs_hidden": false
    },
    "outputId": "91c9225c-5a02-4426-c28a-19049ed7f59e"
   },
   "outputs": [],
   "source": [
    "lst.insert(5, 'name')\n",
    "print(lst)"
   ]
  },
  {
   "cell_type": "markdown",
   "metadata": {
    "id": "RuqKwiuWsl9L"
   },
   "source": [
    "**insert(x,y)** inserts but does not replace element. If you want to replace the element with another element you simply assign the value to that particular index."
   ]
  },
  {
   "cell_type": "code",
   "execution_count": null,
   "metadata": {
    "id": "Qx8c1Mgasl9M",
    "jupyter": {
     "outputs_hidden": false
    },
    "outputId": "13dc1dc4-08f6-4695-b029-dea9c2e5296e"
   },
   "outputs": [],
   "source": [
    "lst[5] = 'Python'\n",
    "print(lst)"
   ]
  },
  {
   "cell_type": "markdown",
   "metadata": {
    "id": "o9s22yLjsl9M"
   },
   "source": [
    "**pop( )** function return the last element in the list. This is similar to the operation of a stack. Hence it wouldn't be wrong to tell that lists can be used as a stack."
   ]
  },
  {
   "cell_type": "code",
   "execution_count": null,
   "metadata": {
    "id": "3vSE9kE5sl9M",
    "jupyter": {
     "outputs_hidden": false
    },
    "outputId": "7f35c95f-37de-4d14-933f-59dd7ee4aa27"
   },
   "outputs": [],
   "source": [
    "lst.pop()"
   ]
  },
  {
   "cell_type": "markdown",
   "metadata": {
    "id": "IRVBroGcsl9N"
   },
   "source": [
    "Index value can be specified to pop a ceratin element corresponding to that index value."
   ]
  },
  {
   "cell_type": "code",
   "execution_count": null,
   "metadata": {
    "id": "_NbUtBkfsl9N",
    "jupyter": {
     "outputs_hidden": false
    },
    "outputId": "85dd53ff-a65f-47bc-e15a-fdea364c4384"
   },
   "outputs": [],
   "source": [
    "lst.pop(0)"
   ]
  },
  {
   "cell_type": "markdown",
   "metadata": {
    "id": "3xkO4cw1sl9N"
   },
   "source": [
    "**pop( )** is used to remove element based on it's index value which can be assigned to a variable. One can also remove element by specifying the element itself using the **remove( )** function."
   ]
  },
  {
   "cell_type": "code",
   "execution_count": null,
   "metadata": {
    "id": "K30b8eU-sl9O",
    "jupyter": {
     "outputs_hidden": false
    },
    "outputId": "66527875-a473-44d7-d544-c5960b0cc0a8"
   },
   "outputs": [],
   "source": [
    "lst.remove('Python')\n",
    "print(lst)"
   ]
  },
  {
   "cell_type": "markdown",
   "metadata": {
    "id": "eZJzzwSJsl9O"
   },
   "source": [
    "Alternative to **remove** function but with using index value is **del**"
   ]
  },
  {
   "cell_type": "code",
   "execution_count": null,
   "metadata": {
    "id": "bDBcYajYsl9O",
    "jupyter": {
     "outputs_hidden": false
    },
    "outputId": "142c11e2-5ef6-4623-f409-43325c9b23e7"
   },
   "outputs": [],
   "source": [
    "del lst[1]\n",
    "print(lst)"
   ]
  },
  {
   "cell_type": "markdown",
   "metadata": {
    "id": "YL_F5NIEsl9P"
   },
   "source": [
    "The entire elements present in the list can be reversed by using the **reverse()** function."
   ]
  },
  {
   "cell_type": "code",
   "execution_count": null,
   "metadata": {
    "id": "MyJtV0PCsl9P",
    "jupyter": {
     "outputs_hidden": false
    },
    "outputId": "d2ef51b0-47ef-4452-86d8-be7b346daa29"
   },
   "outputs": [],
   "source": [
    "lst.reverse()\n",
    "print(lst)"
   ]
  },
  {
   "cell_type": "markdown",
   "metadata": {
    "id": "ZmH1YPh3sl9P"
   },
   "source": [
    "Note that the nested list [5,4,2,8] is treated as a single element of the parent list lst. Thus the elements inside the nested list is not reversed.\n",
    "\n"
   ]
  },
  {
   "cell_type": "markdown",
   "metadata": {
    "id": "Iw1wvuU8sl9P"
   },
   "source": [
    "### Copying a list"
   ]
  },
  {
   "cell_type": "markdown",
   "metadata": {
    "id": "EpZjtIy6sl9Q"
   },
   "source": [
    "Most of the new python programmers commit this mistake. Consider the following,"
   ]
  },
  {
   "cell_type": "code",
   "execution_count": null,
   "metadata": {
    "id": "rr2dDf83sl9Q",
    "jupyter": {
     "outputs_hidden": false
    }
   },
   "outputs": [],
   "source": [
    "lista= [2,1,4,3]"
   ]
  },
  {
   "cell_type": "code",
   "execution_count": null,
   "metadata": {
    "id": "UpOffUZFsl9Q",
    "jupyter": {
     "outputs_hidden": false
    },
    "outputId": "485e1efe-fc6d-4742-dbf3-1b2542b22433"
   },
   "outputs": [],
   "source": [
    "listb = lista\n",
    "print(listb)"
   ]
  },
  {
   "cell_type": "markdown",
   "metadata": {
    "id": "zSObwNfisl9Q"
   },
   "source": [
    "Here, We have declared a list, lista = [2,1,4,3]. This list is copied to listb by assigning it's value and it get's copied as seen. Now we perform some random operations on lista."
   ]
  },
  {
   "cell_type": "code",
   "execution_count": null,
   "metadata": {
    "id": "7ECQoQc1sl9R",
    "jupyter": {
     "outputs_hidden": false
    },
    "outputId": "d5635e22-59bf-4c70-acbc-d3e247d0fe58"
   },
   "outputs": [],
   "source": [
    "lista.pop()\n",
    "print(lista)\n",
    "lista.append(9)\n",
    "print(lista)"
   ]
  },
  {
   "cell_type": "code",
   "execution_count": null,
   "metadata": {
    "id": "87EN47wYsl9R",
    "jupyter": {
     "outputs_hidden": false
    },
    "outputId": "27d899c2-ecbd-4c4d-c730-b9cac1e4a3be"
   },
   "outputs": [],
   "source": [
    "print(listb)"
   ]
  },
  {
   "cell_type": "markdown",
   "metadata": {
    "id": "Hx0CcaHlsl9R"
   },
   "source": [
    "listb has also changed though no operation has been performed on it. This is because you have assigned the same memory space of lista to listb. So how do fix this?\n",
    "\n",
    "If you recall, in slicing we had seen that parentlist[a:b] returns a list from parent list with start index a and end index b and if a and b is not mentioned then by default it considers the first and last element. We use the same concept here. By doing so, we are assigning the data of lista to listb as a variable."
   ]
  },
  {
   "cell_type": "code",
   "execution_count": null,
   "metadata": {
    "id": "8sIXTQmSsl9R"
   },
   "outputs": [],
   "source": [
    "lista = [2,1,4,3]"
   ]
  },
  {
   "cell_type": "code",
   "execution_count": null,
   "metadata": {
    "id": "7SPlTHs5sl9S",
    "jupyter": {
     "outputs_hidden": false
    },
    "outputId": "fe4b4da9-98eb-4b67-d9b4-e941dc5fd302"
   },
   "outputs": [],
   "source": [
    "listb = lista[:]\n",
    "print(listb)"
   ]
  },
  {
   "cell_type": "code",
   "execution_count": null,
   "metadata": {
    "id": "-2D8iiS4sl9S",
    "jupyter": {
     "outputs_hidden": false
    },
    "outputId": "54494eea-f3ae-441f-f9f3-cbb449463e70"
   },
   "outputs": [],
   "source": [
    "lista.pop()\n",
    "print(lista)\n",
    "lista.append(9)\n",
    "print(lista)"
   ]
  },
  {
   "cell_type": "code",
   "execution_count": null,
   "metadata": {
    "id": "mrfmmbjxsl9S",
    "jupyter": {
     "outputs_hidden": false
    },
    "outputId": "ad08859c-7d5e-4f05-94b9-6d2c9fd544ed"
   },
   "outputs": [],
   "source": [
    "print(listb)"
   ]
  },
  {
   "cell_type": "markdown",
   "metadata": {
    "id": "tqP868Uxsl9T"
   },
   "source": [
    "## Tuples"
   ]
  },
  {
   "cell_type": "markdown",
   "metadata": {
    "id": "LDwszEVNsl9T"
   },
   "source": [
    "Tuples are similar to lists but only big difference is the elements inside a list can be changed but in tuple it cannot be changed. Think of tuples as something which has to be True for a particular something and cannot be True for no other values. "
   ]
  },
  {
   "cell_type": "code",
   "execution_count": null,
   "metadata": {
    "id": "AYTythvTsl9T",
    "jupyter": {
     "outputs_hidden": false
    },
    "outputId": "b2a13f7e-2b17-44af-d6fc-d8be513de6bd"
   },
   "outputs": [],
   "source": [
    "xyz = (10,3)\n",
    "print(xyz)\n",
    "print(type(xyz))"
   ]
  },
  {
   "cell_type": "markdown",
   "metadata": {
    "id": "1ujTJyhKsl9U"
   },
   "source": [
    "To define a tuple, A variable is assigned to paranthesis ( ) or tuple( )."
   ]
  },
  {
   "cell_type": "code",
   "execution_count": null,
   "metadata": {
    "id": "wq4zCKZKsl9U",
    "jupyter": {
     "outputs_hidden": false
    }
   },
   "outputs": [],
   "source": [
    "tup = ()\n",
    "tup2 = tuple()"
   ]
  },
  {
   "cell_type": "markdown",
   "metadata": {
    "id": "BqLZsoyosl9U"
   },
   "source": [
    "If you want to directly declare a tuple it can be done by using a comma at the end of the data."
   ]
  },
  {
   "cell_type": "code",
   "execution_count": null,
   "metadata": {
    "id": "HISTGkgGsl9X",
    "jupyter": {
     "outputs_hidden": false
    },
    "outputId": "e4ac1d1a-8038-4796-bd20-dfa574414122"
   },
   "outputs": [],
   "source": [
    "27,"
   ]
  },
  {
   "cell_type": "markdown",
   "metadata": {
    "id": "B27r2n3gsl9Y"
   },
   "source": [
    "27 when multiplied by 2 yields 54, But when multiplied with a tuple the data is repeated twice."
   ]
  },
  {
   "cell_type": "code",
   "execution_count": null,
   "metadata": {
    "id": "scsHmXLcsl9Y",
    "jupyter": {
     "outputs_hidden": false
    },
    "outputId": "72630c36-d5ae-4534-d29a-566fe2d19316"
   },
   "outputs": [],
   "source": [
    "2*(27,)"
   ]
  },
  {
   "cell_type": "markdown",
   "metadata": {
    "id": "BlfHYejbsl9a"
   },
   "source": [
    "Values can be assigned while declaring a tuple. It takes a list as input and converts it into a tuple or it takes a string and converts it into a tuple."
   ]
  },
  {
   "cell_type": "code",
   "execution_count": null,
   "metadata": {
    "id": "BtISCPOWsl9a",
    "jupyter": {
     "outputs_hidden": false
    },
    "outputId": "93613af0-cf5f-4305-9719-7c8691c90ba9",
    "scrolled": true
   },
   "outputs": [],
   "source": [
    "tup3 = tuple([1,2,3])\n",
    "print(tup3)\n",
    "tup4 = tuple('Hello')\n",
    "print(tup4)"
   ]
  },
  {
   "cell_type": "markdown",
   "metadata": {
    "id": "g6EzFwd5sl9b"
   },
   "source": [
    "It follows the same indexing and slicing as Lists."
   ]
  },
  {
   "cell_type": "code",
   "execution_count": null,
   "metadata": {
    "id": "26RaU8Cksl9b",
    "jupyter": {
     "outputs_hidden": false
    },
    "outputId": "5936432b-8f88-474e-9256-c116923a3199"
   },
   "outputs": [],
   "source": [
    "print(tup3[1])\n",
    "tup5 = tup4[:3]\n",
    "print(tup5)"
   ]
  },
  {
   "cell_type": "markdown",
   "metadata": {
    "id": "Ch4VzWstsl9e"
   },
   "source": [
    "### Built In Tuple functions"
   ]
  },
  {
   "cell_type": "markdown",
   "metadata": {
    "id": "eFrqD5Aesl9e"
   },
   "source": [
    "**count()** function counts the number of specified element that is present in the tuple."
   ]
  },
  {
   "cell_type": "code",
   "execution_count": null,
   "metadata": {
    "id": "XsjDnzGNsl9f",
    "jupyter": {
     "outputs_hidden": false
    },
    "outputId": "449c9c30-2fc1-48d9-fbec-9c0a06612878"
   },
   "outputs": [],
   "source": [
    "d = tuple('BigDataForSustainabilitySciences')\n",
    "d.count('a')"
   ]
  },
  {
   "cell_type": "markdown",
   "metadata": {
    "id": "9kZ7QTKhsl9f"
   },
   "source": [
    "**index()** function returns the index of the specified element. If the elements are more than one then the index of the first element of that specified element is returned"
   ]
  },
  {
   "cell_type": "code",
   "execution_count": null,
   "metadata": {
    "id": "MlXSZfz8sl9f",
    "jupyter": {
     "outputs_hidden": false
    },
    "outputId": "a99dd2af-957b-4e8d-a9c8-4fbb4fc542af"
   },
   "outputs": [],
   "source": [
    "d.index('a')"
   ]
  },
  {
   "cell_type": "markdown",
   "metadata": {
    "id": "mdFtu8THsl9g"
   },
   "source": [
    "## Sets"
   ]
  },
  {
   "cell_type": "markdown",
   "metadata": {
    "id": "ccKG2UiWsl9g"
   },
   "source": [
    "Sets are mainly used to eliminate repeated numbers in a sequence/list. It is also used to perform some standard set operations.\n",
    "\n",
    "Sets are declared as set() which will initialize a empty set. Also set([sequence]) can be executed to declare a set with elements"
   ]
  },
  {
   "cell_type": "code",
   "execution_count": null,
   "metadata": {
    "id": "7dLkagprsl9g",
    "jupyter": {
     "outputs_hidden": false
    },
    "outputId": "743bd7e0-4101-4c5c-e521-350b80f587b6"
   },
   "outputs": [],
   "source": [
    "set1 = set()\n",
    "print(type(set1))"
   ]
  },
  {
   "cell_type": "code",
   "execution_count": null,
   "metadata": {
    "id": "lIN0IgjIsl9h",
    "jupyter": {
     "outputs_hidden": false
    },
    "outputId": "a1d90ade-910a-40ac-c8d4-231cf306645f"
   },
   "outputs": [],
   "source": [
    "set0 = set([1,2,2,3,3,4])\n",
    "print(set0)"
   ]
  },
  {
   "cell_type": "markdown",
   "metadata": {
    "id": "2j60LNTIsl9h"
   },
   "source": [
    "elements 2,3 which are repeated twice are seen only once. Thus in a set each element is distinct."
   ]
  },
  {
   "cell_type": "markdown",
   "metadata": {
    "id": "5k-0n2vLsl9i"
   },
   "source": [
    "###Built-in Functions"
   ]
  },
  {
   "cell_type": "code",
   "execution_count": null,
   "metadata": {
    "id": "Hazk-EcMsl9i",
    "jupyter": {
     "outputs_hidden": false
    }
   },
   "outputs": [],
   "source": [
    "set1 = set([1,2,3])"
   ]
  },
  {
   "cell_type": "code",
   "execution_count": null,
   "metadata": {
    "id": "FrbSB59Csl9i",
    "jupyter": {
     "outputs_hidden": false
    }
   },
   "outputs": [],
   "source": [
    "set2 = set([2,3,4,5])"
   ]
  },
  {
   "cell_type": "markdown",
   "metadata": {
    "id": "qcfhDirBsl9j"
   },
   "source": [
    "**union( )** function returns a set which contains all the elements of both the sets without repition."
   ]
  },
  {
   "cell_type": "code",
   "execution_count": null,
   "metadata": {
    "id": "X06Tp7JFsl9j",
    "jupyter": {
     "outputs_hidden": false
    },
    "outputId": "ab45dc29-c056-41d8-b8d0-8e86c84b2e45"
   },
   "outputs": [],
   "source": [
    "set1.union(set2)"
   ]
  },
  {
   "cell_type": "markdown",
   "metadata": {
    "id": "ON3WyXIMsl9k"
   },
   "source": [
    "**add( )** will add a particular element into the set. Note that the index of the newly added element is arbitrary and can be placed anywhere not neccessarily in the end."
   ]
  },
  {
   "cell_type": "code",
   "execution_count": null,
   "metadata": {
    "id": "iadHHlFBsl9l",
    "jupyter": {
     "outputs_hidden": false
    },
    "outputId": "8a0bb581-4154-4056-934a-7257a8005e88"
   },
   "outputs": [],
   "source": [
    "set1.add(0)\n",
    "set1"
   ]
  },
  {
   "cell_type": "markdown",
   "metadata": {
    "id": "b3-zJ0fAsl9n"
   },
   "source": [
    "**intersection( )** function outputs a set which contains all the elements that are in both sets."
   ]
  },
  {
   "cell_type": "code",
   "execution_count": null,
   "metadata": {
    "id": "FUlbbwqosl9o",
    "jupyter": {
     "outputs_hidden": false
    },
    "outputId": "2b559ecf-e08b-41e4-f1bf-690ef5b4215d"
   },
   "outputs": [],
   "source": [
    "set1.intersection(set2)"
   ]
  },
  {
   "cell_type": "markdown",
   "metadata": {
    "id": "EaDj2j2Asl9p"
   },
   "source": [
    "**difference( )** function ouptuts a set which contains elements that are in set1 and not in set2."
   ]
  },
  {
   "cell_type": "code",
   "execution_count": null,
   "metadata": {
    "id": "GbKzx9e0sl9s",
    "jupyter": {
     "outputs_hidden": false
    },
    "outputId": "bc28fe26-9317-4362-b539-bc768c10b2a3"
   },
   "outputs": [],
   "source": [
    "set1.difference(set2)"
   ]
  },
  {
   "cell_type": "markdown",
   "metadata": {
    "id": "8GKIYrZ4sl9u"
   },
   "source": [
    "**symmetric_difference( )** function ouputs a function which contains elements that are in one of the sets."
   ]
  },
  {
   "cell_type": "code",
   "execution_count": null,
   "metadata": {
    "id": "7Ps6iGI3sl9v",
    "jupyter": {
     "outputs_hidden": false
    },
    "outputId": "25a95fc2-c3fe-45bb-85c2-47641345033d"
   },
   "outputs": [],
   "source": [
    "set2.symmetric_difference(set1)"
   ]
  },
  {
   "cell_type": "markdown",
   "metadata": {
    "id": "uynOQu1psl9z"
   },
   "source": [
    "**pop( )** is used to remove an arbitrary element in the set"
   ]
  },
  {
   "cell_type": "code",
   "execution_count": null,
   "metadata": {
    "id": "JvVJ9slPsl90",
    "jupyter": {
     "outputs_hidden": false
    },
    "outputId": "ff6b05c1-5252-4d1b-bdcc-7d3243404b53"
   },
   "outputs": [],
   "source": [
    "set1.pop()\n",
    "print(set1)"
   ]
  },
  {
   "cell_type": "markdown",
   "metadata": {
    "id": "4jzCaQk9sl90"
   },
   "source": [
    "**remove( )** function deletes the specified element from the set."
   ]
  },
  {
   "cell_type": "code",
   "execution_count": null,
   "metadata": {
    "id": "PnxKOT5asl92",
    "jupyter": {
     "outputs_hidden": false
    },
    "outputId": "5fde4dd5-6fa4-4515-9828-3c7d21be9290"
   },
   "outputs": [],
   "source": [
    "set1.remove(2)\n",
    "set1"
   ]
  },
  {
   "cell_type": "markdown",
   "metadata": {
    "id": "ACxeQ0G3sl93"
   },
   "source": [
    "**clear( )** is used to clear all the elements and make that set an empty set."
   ]
  },
  {
   "cell_type": "code",
   "execution_count": null,
   "metadata": {
    "id": "je-LjNq2sl93",
    "jupyter": {
     "outputs_hidden": false
    },
    "outputId": "5b7887be-38c2-4d18-f6e2-9019d98c79b9"
   },
   "outputs": [],
   "source": [
    "set1.clear()\n",
    "set1"
   ]
  },
  {
   "cell_type": "code",
   "execution_count": null,
   "metadata": {},
   "outputs": [],
   "source": []
  }
 ],
 "metadata": {
  "kernelspec": {
   "display_name": "Python 3.10.6 ('py310')",
   "language": "python",
   "name": "python3"
  },
  "language_info": {
   "codemirror_mode": {
    "name": "ipython",
    "version": 3
   },
   "file_extension": ".py",
   "mimetype": "text/x-python",
   "name": "python",
   "nbconvert_exporter": "python",
   "pygments_lexer": "ipython3",
   "version": "3.10.6"
  },
  "vscode": {
   "interpreter": {
    "hash": "9aa67eedecbb1544f55b95cced32a93bf08cf46b6b214074d43890cbd05ea300"
   }
  },
  "widgets": {
   "application/vnd.jupyter.widget-state+json": {
    "state": {},
    "version_major": 2,
    "version_minor": 0
   }
  }
 },
 "nbformat": 4,
 "nbformat_minor": 4
}
