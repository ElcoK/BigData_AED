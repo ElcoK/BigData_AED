{
 "cells": [
  {
   "cell_type": "markdown",
   "metadata": {},
   "source": [
    "# Tutorial 1: Neural Networks\n",
    "\n",
    "Will be updated as soon as finished. Cool stuff incoming"
   ]
  },
  {
   "cell_type": "markdown",
   "metadata": {},
   "source": [
    "<h2>Tutorial Outline<span class=\"tocSkip\"></span></h2>\n",
    "<hr>\n",
    "<div class=\"toc\"><ul class=\"toc-item\">\n",
    "<li><span><a href=\"#1.-Introducing the packages\" data-toc-modified-id=\"1.-Introducing-the-packages-2\">1. Introducing the packages</a></span></li>\n",
    "<li><span><a href=\"#2.-\" data-toc-modified-id=\"2.-Extracting-landuse-information-3\">2. </a></span></li>\n",
    "<li><span><a href=\"#3.-\" data-toc-modified-id=\"3.-Visualize-Rasterize-4\">3. </a></span></li>\n",
    "<li><span><a href=\"#4.-\" data-toc-modified-id=\"4.-Extracting-buildings-5\">4. </a></span></li>\n",
    "<li><span><a href=\"#5.-\" data-toc-modified-id=\"5.-Analyze-buildings-6\">5. </a></span></li>\n",
    "<li><span><a href=\"#6.-\" data-toc-modified-id=\"4.-Extracting-roads-5\">6. </a></span></li>\n",
    "<li><span><a href=\"#7.-\" data-toc-modified-id=\"5.-Plot-routes-6\">7. </a></span></li></ul></div>"
   ]
  },
  {
   "cell_type": "markdown",
   "metadata": {},
   "source": [
    "## Learning Objectives\n",
    "<hr>"
   ]
  },
  {
   "cell_type": "markdown",
   "metadata": {},
   "source": [
    "- .\n",
    "- .\n",
    "- .\n",
    "- .\n",
    "- .\n",
    "- ."
   ]
  },
  {
   "cell_type": "markdown",
   "metadata": {},
   "source": [
    "## 1.Introducing the packages\n",
    "<hr>"
   ]
  }
 ],
 "metadata": {
  "kernelspec": {
   "display_name": "Python 3 (ipykernel)",
   "language": "python",
   "name": "python3"
  },
  "language_info": {
   "codemirror_mode": {
    "name": "ipython",
    "version": 3
   },
   "file_extension": ".py",
   "mimetype": "text/x-python",
   "name": "python",
   "nbconvert_exporter": "python",
   "pygments_lexer": "ipython3",
   "version": "3.10.6"
  },
  "widgets": {
   "application/vnd.jupyter.widget-state+json": {
    "state": {},
    "version_major": 2,
    "version_minor": 0
   }
  }
 },
 "nbformat": 4,
 "nbformat_minor": 4
}
