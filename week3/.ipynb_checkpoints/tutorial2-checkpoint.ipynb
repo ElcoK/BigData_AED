{
 "cells": [
  {
   "cell_type": "markdown",
   "metadata": {},
   "source": [
    "# Tutorial 2: Model Validation\n",
    "\n",
    "The second tutorial of this week will focus on model validation. We will re-run several of the models we have developed over the past three tutorials and try to understand together how each of these models perform and should be interpreted."
   ]
  },
  {
   "cell_type": "markdown",
   "metadata": {},
   "source": [
    "<h2>Tutorial Outline<span class=\"tocSkip\"></span></h2>\n",
    "<hr>\n",
    "<div class=\"toc\"><ul class=\"toc-item\">\n",
    "<li><span><a href=\"#1.-Introducing the packages\" data-toc-modified-id=\"1.-Introducing-the-packages-2\">1. Introducing the packages</a></span></li>\n",
    "<li><span><a href=\"#2.-\" data-toc-modified-id=\"2.-Preparing-the-data-3\">2. Preparing the data</a></span></li>\n",
    "<li><span><a href=\"#3.-\" data-toc-modified-id=\"3.-Training-the-models-4\">3. Training the models </a></span></li>\n",
    "<li><span><a href=\"#4.-\" data-toc-modified-id=\"4.-Model-validation:-basic-methods-5\">4. Model validation: \"basic\" methods</a></span></li>\n",
    "<li><span><a href=\"#5.-\" data-toc-modified-id=\"5.-Model-validation:-complex-methods-6\">5. Model validation: \"complex\" methods</a></span></li>\n",
    "<li><span><a href=\"#6.-\" data-toc-modified-id=\"4.-Model-validation:-classification-models-5\">6. Model validation: classification models </a></span></li></ul></div>"
   ]
  },
  {
   "cell_type": "markdown",
   "metadata": {},
   "source": [
    "## Learning Objectives\n",
    "<hr>"
   ]
  },
  {
   "cell_type": "markdown",
   "metadata": {},
   "source": [
    "- Learn how to conduct model validation.\n",
    "- Learn about popular validation methods.\n",
    "- Learn how to interpret validation results."
   ]
  },
  {
   "cell_type": "markdown",
   "metadata": {},
   "source": [
    "## 1. Introducing the packages\n",
    "<hr>"
   ]
  },
  {
   "cell_type": "markdown",
   "metadata": {},
   "source": [
    "Within this tutorial, we are going to make use of the following packages: \n",
    "\n",
    "[**tensorflow**](https://scikit-learn.org/stable/index.html) is an open-source machine learing library which makes it easy for beginners and experts to create machine learning models.\n",
    "\n",
    "[**sklearn**](https://scikit-learn.org/stable/index.html) is an open source machine learning library that supports supervised and unsupervised learning. It also provides various tools for model fitting, data preprocessing, model selection, model evaluation, and many other utilities.\n",
    "\n",
    "[**seaborn**](https://seaborn.pydata.org/index.html) is a Python data visualization library based on matplotlib. It provides a high-level interface for drawing attractive and informative statistical graphics.\n",
    "\n",
    "[**NumPy**](https://numpy.org/doc/stable/) is a Python library that provides a multidimensional array object, various derived objects, and an assortment of routines for fast operations on arrays.\n",
    "\n",
    "[**Pandas**](https://pandas.pydata.org/docs/) is an open source, BSD-licensed library providing high-performance, easy-to-use data structures and data analysis tools for the Python programming language.\n",
    "\n",
    "[**Matplotlib**](https://matplotlib.org/) is a comprehensive Python package for creating static, animated, and interactive visualizations in Python. Matplotlib makes easy things easy and hard things possible.\n",
    "\n",
    "Now we will import these packages in the cell below:"
   ]
  },
  {
   "cell_type": "code",
   "execution_count": null,
   "metadata": {},
   "outputs": [],
   "source": [
    "from sklearn.ensemble import RandomForestRegressor\n",
    "from sklearn.model_selection import train_test_split\n",
    "from sklearn.metrics import mean_squared_error, mean_absolute_error, r2_score\n",
    "from sklearn.tree import plot_tree\n",
    "import seaborn as sns\n",
    "sns.set_style(\"whitegrid\",{'axes.grid' : True})\n",
    "import matplotlib.pyplot as plt\n",
    "import numpy as np\n",
    "import pandas as pd\n",
    "import statsmodels.api as sm\n",
    "import tensorflow as tf\n",
    "from tensorflow import keras"
   ]
  },
  {
   "cell_type": "markdown",
   "metadata": {},
   "source": [
    "## 2. Preparing the data\n",
    "<hr>"
   ]
  },
  {
   "cell_type": "markdown",
   "metadata": {},
   "source": [
    "Read the data. We use the data that we also used to estimate the OLS model in the first tutorial of week 2. It includes the variables you created in the first tutorial of week 2 and it deals with missing values. "
   ]
  },
  {
   "cell_type": "code",
   "execution_count": null,
   "metadata": {},
   "outputs": [],
   "source": [
    "data1 = pd.read_csv(r\"https://github.com/ElcoK/BigData_AED/raw/main/week2/usadataforOLS.csv\", sep = ',', encoding = 'unicode_escape')"
   ]
  },
  {
   "cell_type": "code",
   "execution_count": null,
   "metadata": {},
   "outputs": [],
   "source": [
    "data1.head()"
   ]
  },
  {
   "cell_type": "markdown",
   "metadata": {},
   "source": [
    "Like we did in the last tutorial, we will drop duplicates based on the variable SERIAL. (Remember that persons from the same household have the same SERIAL number.)"
   ]
  },
  {
   "cell_type": "code",
   "execution_count": null,
   "metadata": {},
   "outputs": [],
   "source": [
    "data1 = data1.drop_duplicates(subset='SERIAL', keep=\"first\")"
   ]
  },
  {
   "cell_type": "markdown",
   "metadata": {},
   "source": [
    "And we drop some irrelevant variables: "
   ]
  },
  {
   "cell_type": "code",
   "execution_count": null,
   "metadata": {},
   "outputs": [],
   "source": [
    "data1 = data1.drop(['Unnamed: 0', 'YEAR', 'SAMPLE', 'HHWT', 'SERIAL','PERWT', 'RELATE', 'RELATED', 'COUNTYFIP','SEX', 'AGE', 'RACE', 'RACED', 'STATEFIP', 'EDUC', 'EDUCD', 'EMPSTATD', 'OCC', 'IND', 'EMPSTAT', 'LABFORCE', 'DEGFIELD', 'INCTOT'], axis = 1)"
   ]
  },
  {
   "cell_type": "markdown",
   "metadata": {},
   "source": [
    "As in the previous tutorial, we transform the column REGION into dummy variables. "
   ]
  },
  {
   "cell_type": "code",
   "execution_count": null,
   "metadata": {},
   "outputs": [],
   "source": [
    "one_hot = pd.get_dummies(data1['REGION'], prefix = 'REGION_')\n",
    "print(one_hot.head())\n",
    "data1 = pd.concat([data1, one_hot], axis = 1) \n",
    "data1 = data1.drop(['REGION'], axis = 1)"
   ]
  },
  {
   "cell_type": "markdown",
   "metadata": {},
   "source": [
    "Let's check if it has worked out by printing the column names of the dataframe: "
   ]
  },
  {
   "cell_type": "code",
   "execution_count": null,
   "metadata": {},
   "outputs": [],
   "source": [
    "data1.columns"
   ]
  },
  {
   "cell_type": "markdown",
   "metadata": {},
   "source": [
    "Before we can perform some model validations, we need to estimate a few models to validate (isn't that surprising?) We will fit three different models: an **Ordinary Least Squared (OLS) regression** (linear model), a **Random Forests (RF) model**, and an **Artificial Neural Networks (ANN) model**. First we scale all the data using min-max normalization. We can apply min-max normalization to the entire dataframe. "
   ]
  },
  {
   "cell_type": "code",
   "execution_count": null,
   "metadata": {},
   "outputs": [],
   "source": [
    "data1 = (data1 - data1.min()) / (data1.max() - data1.min())"
   ]
  },
  {
   "cell_type": "markdown",
   "metadata": {},
   "source": [
    "## 3. Training the models\n",
    "<hr>"
   ]
  },
  {
   "cell_type": "markdown",
   "metadata": {},
   "source": [
    "Now we separate the data into *training* and *testing* datasets and start running the models and making some predictions (just like we did in the past). We will select four variables as explanantory variables in the models. "
   ]
  },
  {
   "cell_type": "code",
   "execution_count": null,
   "metadata": {},
   "outputs": [],
   "source": [
    "training_data, testing_data = train_test_split(data1, test_size=0.3, random_state=25) \n",
    "\n",
    "x_train = training_data[['DENSITY', 'PROPINSR', 'ROOMS', 'BUILTYR2']]\n",
    "y_train = training_data[['COSTENERGY']]\n",
    "\n",
    "x_test = testing_data[['DENSITY', 'PROPINSR', 'ROOMS', 'BUILTYR2']]\n",
    "y_test = testing_data[['COSTENERGY']]"
   ]
  },
  {
   "cell_type": "markdown",
   "metadata": {},
   "source": [
    "First we estimate a simple linear regression model using the statsmodels library: "
   ]
  },
  {
   "cell_type": "code",
   "execution_count": null,
   "metadata": {},
   "outputs": [],
   "source": [
    "OLSregression = sm.OLS(y_train, x_train)\n",
    "OLSresults = OLSregression.fit()\n",
    "print(OLSresults.summary())"
   ]
  },
  {
   "cell_type": "markdown",
   "metadata": {},
   "source": [
    "Then we estimate a Random Forest model using the scikit learn library (takes a few seconds): "
   ]
  },
  {
   "cell_type": "code",
   "execution_count": null,
   "metadata": {},
   "outputs": [],
   "source": [
    "RFmodel = RandomForestRegressor(n_estimators = 100, max_features = 'sqrt', max_depth = 4, random_state = 18).fit(x_train, y_train)"
   ]
  },
  {
   "cell_type": "markdown",
   "metadata": {},
   "source": [
    "Then we build and compile a neural network model using the tensorflow library: "
   ]
  },
  {
   "cell_type": "code",
   "execution_count": null,
   "metadata": {},
   "outputs": [],
   "source": [
    "ANNmodel = keras.Sequential([\n",
    "      keras.layers.Dense(64, activation='relu', input_shape = (x_train.shape[1],)),\n",
    "      keras.layers.Dense(64, activation='relu'),\n",
    "      keras.layers.Dense(1)\n",
    "  ])\n",
    "\n",
    "\n",
    "ANNmodel.summary()\n",
    "\n",
    "ANNmodel.compile(loss='mean_squared_error',\n",
    "              optimizer=tf.keras.optimizers.Adam(learning_rate=0.0000005),\n",
    "              metrics=['mean_absolute_error'])"
   ]
  },
  {
   "cell_type": "markdown",
   "metadata": {},
   "source": [
    "Next we fit the ANN model: "
   ]
  },
  {
   "cell_type": "code",
   "execution_count": null,
   "metadata": {},
   "outputs": [],
   "source": [
    "history = ANNmodel.fit(x_train, y_train['COSTENERGY'], epochs=15, validation_split=0.2)"
   ]
  },
  {
   "cell_type": "markdown",
   "metadata": {},
   "source": [
    "   \n",
    "   <div class=\"alert alert-block alert-success\">\n",
    "<b>Question 1:</b> Based on the learning progress printed above, what do you think of the number of epochs? <br> \n",
    "        A. I would decrease the number of epochs to 10<br>\n",
    "        B. The number of epochs is fine<br>\n",
    "        C. I would increase the number of epochs to 20<br>\n",
    "    \n",
    "</div>"
   ]
  },
  {
   "cell_type": "markdown",
   "metadata": {},
   "source": [
    "## 4. Model validation: \"basic\" methods\n",
    "<hr>"
   ]
  },
  {
   "cell_type": "markdown",
   "metadata": {},
   "source": [
    "Using the three models, we are going to predict ENERGYCOST in the testing dataset. We print out the first 10 values of ENERGYCOST in the test set. "
   ]
  },
  {
   "cell_type": "code",
   "execution_count": null,
   "metadata": {},
   "outputs": [],
   "source": [
    "OLS_pred = OLSresults.predict(x_test)\n",
    "RF_pred = RFmodel.predict(x_test)\n",
    "ANN_pred = ANNmodel.predict(x_test)\n",
    "\n",
    "test = np.column_stack((y_test[0:10], OLS_pred[0:10], RF_pred[0:10], ANN_pred[0:10]))\n",
    "print(np.column_stack((y_test[0:10], OLS_pred[0:10], RF_pred[0:10], ANN_pred[0:10])))\n"
   ]
  },
  {
   "cell_type": "markdown",
   "metadata": {},
   "source": [
    "There are several metrics that can be used for model validation. For now, we are going to focus on some of the most straightforward of them:\n",
    "\n",
    "1.  **Root Mean Squared Error (RMSE):** As the name suggests it is the square root of the averaged squared difference between the actual value and the predicted value of the target variable. It returns the average prediction error made by the model, thus the *lower* the RMSE value is, the better the model performed.\n",
    "\n",
    "2.  **Mean Absolute Error (MAE):** This metric gives the absolute difference between the actual values and the values predicted by the model for the target variable. If outliers are not a significant issue, the MAE can be used to evaluate the performance of the model. Again, the *lower* MAE value is, the better the model performed.\n",
    "\n",
    "3.  **R^2^ Error:** You may be already familiar with this metric. It indicates how much percentage of variance in the dependent variable is explained collectively by the independent variables. In other words, it reflects the relationship strength between the target variable and the model on a scale of 0 to 1 (or 0% to 100%). In this case, the *higher* the R-squared Error value is, the better the model performed."
   ]
  },
  {
   "cell_type": "markdown",
   "metadata": {},
   "source": [
    "<div class=\"alert alert-block alert-success\">\n",
    "<b>Question 2:</b> Provide an example of another validation method that can be used to evaluate model performance and explain how it works, in your own words. \n",
    "</div>"
   ]
  },
  {
   "cell_type": "markdown",
   "metadata": {},
   "source": [
    "We use the scikit learn library to compute the three metrics on the predicted ENERGYCOST. "
   ]
  },
  {
   "cell_type": "code",
   "execution_count": null,
   "metadata": {},
   "outputs": [],
   "source": [
    "ols_rmse = np.sqrt(mean_squared_error(OLS_pred, y_test['COSTENERGY']))\n",
    "rf_rmse = np.sqrt(mean_squared_error(RF_pred, y_test['COSTENERGY']))\n",
    "ann_rmse = np.sqrt(mean_squared_error(ANN_pred, y_test['COSTENERGY']))\n",
    "print(ols_rmse, rf_rmse, ann_rmse)"
   ]
  },
  {
   "cell_type": "code",
   "execution_count": null,
   "metadata": {},
   "outputs": [],
   "source": [
    "ols_mae = mean_absolute_error(OLS_pred, y_test['COSTENERGY'])\n",
    "rf_mae = mean_absolute_error(RF_pred, y_test['COSTENERGY'])\n",
    "ann_mae = mean_absolute_error(ANN_pred, y_test['COSTENERGY'])\n",
    "print(ols_mae, rf_mae, ann_mae)"
   ]
  },
  {
   "cell_type": "code",
   "execution_count": null,
   "metadata": {},
   "outputs": [],
   "source": [
    "ols_r2 = r2_score(y_test['COSTENERGY'], OLS_pred)\n",
    "rf_r2 = r2_score(y_test['COSTENERGY'], RF_pred)\n",
    "ann_r2 = r2_score(y_test['COSTENERGY'], ANN_pred)\n",
    "print(ols_r2, rf_r2, ann_r2)"
   ]
  },
  {
   "cell_type": "markdown",
   "metadata": {},
   "source": [
    "<div class=\"alert alert-block alert-success\">\n",
    "<b>Question 3:</b> (1) Which model performed the better based on the validation metrics discussed above? (2) Search for an additional validation method available in Python and use it to evaluate the models. Add the results you get from the new metric on *Canvas* and identify which model was the most accurate according to that metric.\n",
    "</div>"
   ]
  },
  {
   "cell_type": "markdown",
   "metadata": {},
   "source": [
    "Now we would like to see if you can create better models than the ones you have used so far in this tutorial. Use a different combination of variables, model settings, etc., and construct at least one new OLS, RF, and ANN model (one of each). (Note that the more complex your model is, and the more data it uses for training, the more time the training will take. Also note that you will be asked to submit a PDF version of your *notebook* with your new models on *Canvas.*)"
   ]
  },
  {
   "cell_type": "code",
   "execution_count": null,
   "metadata": {},
   "outputs": [],
   "source": []
  },
  {
   "cell_type": "markdown",
   "metadata": {},
   "source": [
    "There is a lot more that you can do with outputs (such as including interactive outputs)\n",
    "with your book. For more information about this, see [the Jupyter Book documentation](https://jupyterbook.org)"
   ]
  },
  {
   "cell_type": "markdown",
   "metadata": {},
   "source": [
    "<div class=\"alert alert-block alert-success\">\n",
    "<b>Question 4:</b> (1) Which of your new models performed better based on the validation metrics? (2) Did your new models performed better than the ones is this tutorial? (3) Why do you think that was the case?\n",
    "</div>"
   ]
  },
  {
   "cell_type": "markdown",
   "metadata": {},
   "source": [
    "Note that there are a few advantages, as well as disadvantages, of using methods like the RMSE, MAE, and R^2^ Error to evaluate model performance:\n",
    "\n",
    "**Advantages:**\n",
    "\n",
    "-   Some most basic and simple techniques for model validation;\n",
    "\n",
    "-   Do not require complex programming steps for implementation (and can be quickly computed).\n",
    "\n",
    "**Disadvantages:**\n",
    "\n",
    "-   Model predictions (and thus accuracy) are highly dependent on the subset of observations used for *training* and *testing*.\n",
    "\n",
    "-   Not necessarily robust/consistent across different training/testing datasets [e.g., for some reason the model may achieve a good or bad validation score not because the model is necessary good or bad in general, but because it simply happens to be good (\"luckly\") or bad (\"unlucky\") given a particular set of training/testing datasets]."
   ]
  },
  {
   "cell_type": "markdown",
   "metadata": {},
   "source": [
    "## 5. Model validation: \"complex\" methods"
   ]
  },
  {
   "cell_type": "markdown",
   "metadata": {},
   "source": [
    "Now we will cover a couple of more-complex, and still very popular, validation methods, namely: **Leave One Out Cross-Validation (LOOCV)** and **K-fold Cross-Validation**.\n",
    "\n",
    "Let's start with **LOOCV**.The idea behind this method is not too complicated: the dataset is also randomly split between *training* and *testing* sets, but there is now also a validation set. Validation with LOOCV is performed in the following way: \n",
    "\n",
    "1.  The model is trained based on N-1 data points in the training dataset;\n",
    "\n",
    "2.  The model is then validated against that one data point that was left out;\n",
    "\n",
    "3.  A prediction error is calculated based on the difference between the predicted point value and its actual value;\n",
    "\n",
    "4.  Steps 1-3 are repetead until the model is *trained* and *validated* based on all data points (one at a time);\n",
    "\n",
    "5.  An overall prediction error is computed based on the average of the prediction errors that were computed each time a data point was left out of the training.\n",
    "\n",
    "6. In steps 1-5 you can try different model settings and model parameters, and the best performing model is tested on the testing dataset. \n",
    "\n",
    "Let's see an example of how to implement the LOOCV method. Note that because this procedure can take some time to completed, we will only look at a subset of our data (i.e., the first 1000 rows), and we will only use the OLS (or \"linear model\") method (because OLS models can be quickly computed):\n",
    "\n",
    "Note that we use the Linear Regression from the scikit-learn library: \n",
    "We use the same four explanantory variables as before. \n",
    "\n"
   ]
  },
  {
   "cell_type": "code",
   "execution_count": null,
   "metadata": {},
   "outputs": [],
   "source": [
    "from sklearn.model_selection import LeaveOneOut\n",
    "from sklearn.linear_model import LinearRegression\n",
    "\n",
    "# Select data\n",
    "x_train = training_data[['DENSITY', 'PROPINSR', 'ROOMS', 'BUILTYR2']]\n",
    "y_train = training_data[['COSTENERGY']]\n",
    "\n",
    "x_test = testing_data[['DENSITY', 'PROPINSR', 'ROOMS', 'BUILTYR2']]\n",
    "y_test = testing_data[['COSTENERGY']]\n",
    "\n",
    "\n",
    "X = x_train.iloc[:1000, :]\n",
    "Y = y_train.iloc[:1000, :]\n",
    "\n",
    "# Create a linear regression object\n",
    "loocv = LeaveOneOut()\n",
    "regressor = LinearRegression()\n",
    "\n",
    "# Train the model using leave-one-out cross-validation\n",
    "errors = []\n",
    "for train_index, val_index in loocv.split(X):\n",
    "    X_train, X_val = X.iloc[train_index], X.iloc[val_index]\n",
    "    Y_train, Y_val = Y.iloc[train_index], Y.iloc[val_index]\n",
    "    regressor.fit(X_train, Y_train)\n",
    "    Y_pred = regressor.predict(X_val)\n",
    "    errors.append(mean_squared_error(Y_val, Y_pred))\n",
    "\n",
    "# Print the mean squared error\n",
    "print(\"Mean Squared Error: \", sum(errors) / len(errors))"
   ]
  },
  {
   "cell_type": "markdown",
   "metadata": {},
   "source": [
    "Here are some advantages and disadvantages of using the LOOCV method:\n",
    "\n",
    "**Advantages:**\n",
    "\n",
    "-   High accuracy: LOOCV provides a high level of accuracy in evaluating model performance since each data point is used once as the validation set, effectively reducing the chances of error.\n",
    "\n",
    "-   Low Bias: LOOCV helps reduce the bias in the model evaluation since each data point gets to be the validation set at least once.\n",
    "\n",
    "-   Suitable for small sample size: LOOCV is a suitable method for evaluating models when the sample size is small, as it ensures that each data point is used as a validation set.\n",
    "\n",
    "**Disadvantages:**\n",
    "\n",
    "-   LOOCV is computationally expensive, especially when the sample size is large or models are complex.\n",
    "\n",
    "-   It can lead to high variance in the evaluation of model performance in the presence of outliers. This is because the validation set consists of only one data point, leading to a high variance in the estimated performance metrics.\n",
    "\n"
   ]
  },
  {
   "cell_type": "markdown",
   "metadata": {},
   "source": [
    "In practice, **K-fold Cross-Validation** is more often used than **LOOCV**, because **K-fold Cross-Validation** is computationally much faster than **LOOCV**.  **K-fold Cross-Validation** works by dividing the training dataset into K subsets (or *folds*) of (almost) equal size. Out of these K folds, one subset at a time is used as a *validation* set, while the rest are used to *train* the model. The computational steps are the following:\n",
    "\n",
    "1.  The training dataset is randomly splitted into K subsets;\n",
    "\n",
    "2.  K-1 subsets is used to *train* the model;\n",
    "\n",
    "3.  The trained model is *validated* against the subset that was left out and an prediction error is calculated;\n",
    "\n",
    "4.  Steps 1-3 are repetead K times, i.e., until the model has been *validated* against all subsets;\n",
    "\n",
    "5.  An overall prediction error is computed based on the average of the prediction errors that were computed each time a subset was left out of the model training.\n",
    "\n",
    "6.   In steps 1-5 you can try different model settings and model parameters, and the best performing model is tested on the testing dataset. \n"
   ]
  },
  {
   "cell_type": "markdown",
   "metadata": {},
   "source": [
    "In the next lines of code we will search for the optimal parameters of a random forest model using K-fold cross validation. Note that this will take 1 or 2 minutes to run. We use GridSearchCV to try different parameter settings. "
   ]
  },
  {
   "cell_type": "code",
   "execution_count": null,
   "metadata": {},
   "outputs": [],
   "source": [
    "from sklearn.model_selection import GridSearchCV\n",
    "import warnings\n",
    "warnings.filterwarnings(\"ignore\") #ignore all warnings in this cell\n",
    "\n",
    "parametergrid = { \n",
    "    'n_estimators': [25, 50, 100],\n",
    "    'max_features': ['sqrt'],\n",
    "    'max_depth' : [5,7,9],\n",
    "    'random_state' : [18]\n",
    "}\n",
    "\n",
    "## Grid Search function\n",
    "CV_rf = GridSearchCV(estimator=RandomForestRegressor(), param_grid=parametergrid, cv= 4, scoring = 'neg_mean_squared_error')\n",
    "CV_rf.fit(x_train, y_train)"
   ]
  },
  {
   "cell_type": "markdown",
   "metadata": {},
   "source": [
    "<div class=\"alert alert-block alert-success\">\n",
    "<b>Question 5:</b> How many models are estimated with the parameter grid given above?\n",
    "</div>"
   ]
  },
  {
   "cell_type": "markdown",
   "metadata": {},
   "source": [
    "Below we print the results of the grid search: "
   ]
  },
  {
   "cell_type": "code",
   "execution_count": null,
   "metadata": {},
   "outputs": [],
   "source": [
    "print(np.abs(CV_rf.cv_results_['mean_test_score'])) \n",
    "# we take the absolute value of the mean test score, \n",
    "# because the scoring function is specified as the negative mean squared error. \n",
    "\n",
    "\n",
    "print(CV_rf.best_estimator_)\n",
    "print(np.abs(CV_rf.best_score_)) \n",
    "print(CV_rf.best_params_)"
   ]
  },
  {
   "cell_type": "markdown",
   "metadata": {},
   "source": [
    "<div class=\"alert alert-block alert-success\">\n",
    "<b>Question 6:</b> Over how many test scores is the mean test score calculated?\n",
    "</div>"
   ]
  },
  {
   "cell_type": "markdown",
   "metadata": {},
   "source": [
    "<div class=\"alert alert-block alert-success\">\n",
    "<b>Question 7:</b> According to the results of the grid search with cross validation, which model parameters do you want to use in your final model that you test on the testing dataset? Do you think it is a good idea to use another parameter grid in the grid search? Explain. \n",
    "</div>"
   ]
  },
  {
   "cell_type": "markdown",
   "metadata": {},
   "source": [
    "Now test the model with the most optimal parameters on the testing dataset: "
   ]
  },
  {
   "cell_type": "code",
   "execution_count": null,
   "metadata": {},
   "outputs": [],
   "source": [
    "best_model = RandomForestRegressor(n_estimators=CV_rf.best_params_['n_estimators'],  \n",
    "                                   max_features=CV_rf.best_params_['max_features'],\n",
    "                                   max_depth=CV_rf.best_params_['max_depth'],\n",
    "                                   random_state = 18)\n",
    "\n",
    "# Fit the best model on the training data\n",
    "best_model.fit(x_train, y_train)\n",
    "\n",
    "# Predict on the test data\n",
    "y_pred = best_model.predict(x_test)\n",
    "\n",
    "print(mean_squared_error(y_pred, y_test))"
   ]
  },
  {
   "cell_type": "markdown",
   "metadata": {},
   "source": [
    "**Advantages:**\n",
    "\n",
    "-   By dividing the data into K folds and training the model on K-1 folds and evaluating it on the remaining fold, K-fold cross-validation provides a better estimate of the model's performance compared to training the model once on the full training dataset. \n",
    "\n",
    "-   K-fold cross-validation can be useful in handling imbalanced training/testing samples, as it allows the model to be trained and evaluated on different subsets of training data, reducing the impact of imbalanced samples in the training and evaluation process.\n",
    "\n",
    "**Disadvantages:**\n",
    "\n",
    "-   It can be computationally expensive, especially when the sample size is large or models are complex (but not as expensive as the LOOCV method).\n",
    "\n",
    "-   Dependent on a sensible selection of the number of folds."
   ]
  },
  {
   "cell_type": "markdown",
   "metadata": {},
   "source": [
    "## 6. Model validation: classification models"
   ]
  },
  {
   "cell_type": "markdown",
   "metadata": {},
   "source": [
    "You already learnt that some machine learning models are used for classification. In this final part of the tutorial, we will focus on popular validation metrics that are often used to evaluate the performance of classifiers. First we will create a binary variable that we will predict with a classifier. We will divide the households in two groups: the 50% households that have the highest energy costs are given a 1 and the other 50% of the households are given a 0. \n",
    "\n"
   ]
  },
  {
   "cell_type": "code",
   "execution_count": null,
   "metadata": {},
   "outputs": [],
   "source": [
    "data1['group'] = (data1['COSTENERGY'] >= data1['COSTENERGY'].median()).astype(int)"
   ]
  },
  {
   "cell_type": "markdown",
   "metadata": {},
   "source": [
    "The most simple evaluation metric is the accuracy of the classifier, i.e. the number of instances the classifier has correctly predicted divided by the total number of instances. Two other well-known metrics are precision and recall, which are based on the number of true positives, true negatives, false positives and false negatives. True positives are the number of 1's correctly predicted, true negatives are the number of 0's correctly predicted, false positives are the number 1's wrongly predicted (they should be 0) and false negatives are the number of 0's wrongly predicted (they should be 1). \n",
    "The precision is given by the number of true positives / (the number of true positives + the number of false positives). So when the model predicts a 1, how many of the instances are actually 1. \n",
    "Recall is given by the number of true positives / (the number of true positives + the number of false negatives). Recall is a measure of how many of the 1's is the model able to predict. \n"
   ]
  },
  {
   "cell_type": "markdown",
   "metadata": {},
   "source": [
    "<div class=\"alert alert-block alert-success\">\n",
    "<b>Question 8:</b> Let's say you have a stupid classifier that predicts all instances 1. What is your precision and recall of this model? \n",
    "</div>"
   ]
  },
  {
   "cell_type": "markdown",
   "metadata": {},
   "source": [
    "Now, let's estimate some models using a *training* dataset and use the models to classify the households in a *testing* dataset. This time, let's use a logistic regression model and an RF model to perform the classification. Let's start with the logistic regression. "
   ]
  },
  {
   "cell_type": "code",
   "execution_count": null,
   "metadata": {
    "scrolled": true
   },
   "outputs": [],
   "source": [
    "from sklearn.ensemble import RandomForestClassifier\n",
    "from sklearn.linear_model import LogisticRegression\n",
    "from sklearn.metrics import accuracy_score, precision_score, recall_score\n",
    "\n",
    "training_data, testing_data = train_test_split(data1, test_size=0.3, random_state=25) \n",
    "\n",
    "x_train = training_data[['DENSITY', 'PROPINSR', 'ROOMS', 'BUILTYR2']]\n",
    "y_train = training_data[['group']]\n",
    "\n",
    "x_test = testing_data[['DENSITY', 'PROPINSR', 'ROOMS', 'BUILTYR2']]\n",
    "y_test = testing_data[['group']]\n",
    "\n",
    "regressionLogit = LogisticRegression()\n",
    "resultsLogit = regressionLogit.fit(x_train, y_train)\n",
    "\n",
    "y_pred = resultsLogit.predict(x_test)\n",
    "\n",
    "# Evaluate the model\n",
    "accuracy = accuracy_score(y_test, y_pred)\n",
    "precision = precision_score(y_test, y_pred)\n",
    "recall = recall_score(y_test, y_pred)\n",
    "\n",
    "print(\"Logit Accuracy:\", accuracy)\n",
    "print(\"Logit Precision:\", precision)\n",
    "print(\"Logit Recall:\", recall)\n",
    "\n",
    "RFclassifier = RandomForestClassifier(n_estimators=100,  \n",
    "                                   max_features='sqrt',\n",
    "                                   max_depth=8,\n",
    "                                   random_state = 18)\n",
    "\n",
    "resultsRF = RFclassifier.fit(x_train, y_train)\n",
    "\n",
    "y_pred = resultsRF.predict(x_test)\n",
    "\n",
    "# Evaluate the model\n",
    "accuracy = accuracy_score(y_test, y_pred)\n",
    "precision = precision_score(y_test, y_pred)\n",
    "recall = recall_score(y_test, y_pred)\n",
    "\n",
    "print(\"RF Accuracy:\", accuracy)\n",
    "print(\"RF Precision:\", precision)\n",
    "print(\"RF Recall:\", recall)\n",
    "\n"
   ]
  },
  {
   "cell_type": "markdown",
   "metadata": {},
   "source": [
    "<div class=\"alert alert-block alert-success\">\n",
    "<b>Question 9:</b> What do you think of the model performance of the two models? In most cases you want to have a high precision score and a high recall score, but can you think of a classifier problem where you specifically want to have a high recall score and where a high precision score is less important?\n",
    "</div>"
   ]
  },
  {
   "cell_type": "markdown",
   "metadata": {},
   "source": [
    "<div class=\"alert alert-block alert-success\">\n",
    "<b>Question 10:</b> Can you build one Logistic model and one Random Forest classifier that perform better than the two models above? (Use a different combination of variables, model settings, etc.). You will be asked to submit a PDF version of your *notebook* with your new models on *Canvas*, along with your answers.\n",
    "</div>"
   ]
  },
  {
   "cell_type": "code",
   "execution_count": null,
   "metadata": {},
   "outputs": [],
   "source": []
  }
 ],
 "metadata": {
  "kernelspec": {
   "display_name": "Python 3 (ipykernel)",
   "language": "python",
   "name": "python3"
  },
  "language_info": {
   "codemirror_mode": {
    "name": "ipython",
    "version": 3
   },
   "file_extension": ".py",
   "mimetype": "text/x-python",
   "name": "python",
   "nbconvert_exporter": "python",
   "pygments_lexer": "ipython3",
   "version": "3.10.6"
  },
  "vscode": {
   "interpreter": {
    "hash": "f323064ae63d54ed8d769390a968e914fbf7abacffc63e116cd2e04a08ed2d24"
   }
  },
  "widgets": {
   "application/vnd.jupyter.widget-state+json": {
    "state": {},
    "version_major": 2,
    "version_minor": 0
   }
  }
 },
 "nbformat": 4,
 "nbformat_minor": 4
}
