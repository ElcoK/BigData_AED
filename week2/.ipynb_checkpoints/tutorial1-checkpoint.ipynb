{
 "cells": [
  {
   "cell_type": "markdown",
   "metadata": {},
   "source": [
    "# Tutorial 1: Data Exploration and regression analysis\n",
    "\n",
    "In this tutorial you will learn how to read and explore census data from the [IPUMS USA](https://usa.ipums.org/usa/) database. IPUMS USA collects, preserves and harmonizes U.S. census microdata and provides easy access to this data with enhanced documentation. Data includes decennial censuses from 1790 to 2010 and American Community Surveys (ACS) from 2000 to the present. \n",
    "\n",
    "IPUMS provides census and survey data from around the world integrated across time and space. IPUMS integration and documentation makes it easy to study change, conduct comparative research, merge information across data types, and analyze individuals within family and community context.\n",
    "\n",
    "In this tutorial, you will learn how to read the IPUMPS USA data, explore and manipulate it (to prepare for analysis) and how to perform a simple correlation and regression analysis. We will use the IPUMS USA database throughout the next four tutorials.\n",
    "\n",
    "### Important before we start\n",
    "---\n",
    "Make sure that you save this file before you continue, else you will lose everything. To do so, go to **Bestand/File** and click on **Een kopie opslaan in Drive/Save a Copy on Drive**!\n",
    "\n",
    "Now, rename the file into Week2_Tutorial1.ipynb. You can do so by clicking on the name in the top of this screen."
   ]
  },
  {
   "cell_type": "markdown",
   "metadata": {},
   "source": [
    "<h2>Tutorial Outline<span class=\"tocSkip\"></span></h2>\n",
    "<hr>\n",
    "<div class=\"toc\"><ul class=\"toc-item\">\n",
    "<li><span><a href=\"#1.-Introducing the packages\" data-toc-modified-id=\"1.-Introducing-the-packages-2\">1. Introducing the packages</a></span></li>\n",
    "<li><span><a href=\"#2.-\" data-toc-modified-id=\"2.-Reading-the-data-and-having-a-first-look-3\">2. Reading the data and having a first look</a></span></li>\n",
    "<li><span><a href=\"#3.-\" data-toc-modified-id=\"3.-Exploratory-data-analysis-4\">3. Exploratory data analysis</a></span></li>\n",
    "<li><span><a href=\"#4.-\" data-toc-modified-id=\"4.-Creating new variables-5\">4. Creating new variables</a></span></li>\n",
    "<li><span><a href=\"#5.-\" data-toc-modified-id=\"5.-Nonlinear-relationships-6\">5. Nonlinear relationships </a></span></li></ul></div>"
   ]
  },
  {
   "cell_type": "markdown",
   "metadata": {},
   "source": [
    "## Learning Objectives\n",
    "<hr>"
   ]
  },
  {
   "cell_type": "markdown",
   "metadata": {},
   "source": [
    "- Work with Pandas DataFrames with real-world data.\n",
    "- Introducing basic functions to explore and understand the data.\n",
    "- Learn how to Make distribution plots of the data\n",
    "- Create a correlation map\n",
    "- Create new variables\n",
    "- Set up an OLS regression"
   ]
  },
  {
   "cell_type": "markdown",
   "metadata": {},
   "source": [
    "## 1. Introducing the packages\n",
    "<hr>"
   ]
  },
  {
   "cell_type": "markdown",
   "metadata": {},
   "source": [
    "Within this tutorial, we are going to make use of the following packages: \n",
    "\n",
    "[**seaborn**](https://seaborn.pydata.org/index.html) is a Python data visualization library based on matplotlib. It provides a high-level interface for drawing attractive and informative statistical graphics.\n",
    "\n",
    "[**NumPy**](https://numpy.org/doc/stable/) is a Python library that provides a multidimensional array object, various derived objects, and an assortment of routines for fast operations on arrays.\n",
    "\n",
    "[**Pandas**](https://pandas.pydata.org/docs/) is an open source, BSD-licensed library providing high-performance, easy-to-use data structures and data analysis tools for the Python programming language.\n",
    "\n",
    "\n",
    "*We will first need to install some of these packages in the cell below. Uncomment them to make sure we can pip install them*"
   ]
  },
  {
   "cell_type": "code",
   "execution_count": null,
   "metadata": {},
   "outputs": [],
   "source": [
    "!pip install seaborn"
   ]
  },
  {
   "cell_type": "markdown",
   "metadata": {},
   "source": [
    "Now we will import these packages in the cell below:"
   ]
  },
  {
   "cell_type": "code",
   "execution_count": 44,
   "metadata": {},
   "outputs": [],
   "source": [
    "import matplotlib.pyplot as plt\n",
    "import numpy as np\n",
    "import pandas as pd\n",
    "import seaborn as sns\n",
    "import statsmodels.api as sm\n",
    "sns.set_style(\"whitegrid\",{'axes.grid' : True})"
   ]
  },
  {
   "cell_type": "markdown",
   "metadata": {},
   "source": [
    "## 2. Reading the data and having a first look\n",
    "<hr>"
   ]
  },
  {
   "cell_type": "code",
   "execution_count": 2,
   "metadata": {},
   "outputs": [],
   "source": [
    "## Read the data using the pandas package\n",
    "data = pd.read_csv(r\"usadataforweek2tut1.csv\")"
   ]
  },
  {
   "cell_type": "markdown",
   "metadata": {},
   "source": [
    "There are hundreds of variables included in the IPUMS USA database. In the next line of code we read in a file with a short description of the variables that we selected for this tutorial. The dataset contains socio-demographic variables such as age, gender, education, but also economic variables, such as income, mortgage payments, etc. There are also variables about energy cost, like electricity cost, gas costs and fuel costs, and in these tutorial we are going to work towards two machine learning models that can predict energy costs per household. "
   ]
  },
  {
   "cell_type": "code",
   "execution_count": null,
   "metadata": {},
   "outputs": [],
   "source": [
    "datadescription = pd.read_csv(r\"shortdescription_ipumsusa_variables.csv\", sep = ';', encoding = 'unicode_escape')\n",
    "print(datadescription)"
   ]
  },
  {
   "cell_type": "markdown",
   "metadata": {},
   "source": [
    "Now let’s take a look at the dataset. A useful start is to explore the first rows through the `head()` function with Pandas."
   ]
  },
  {
   "cell_type": "code",
   "execution_count": 3,
   "metadata": {},
   "outputs": [
    {
     "data": {
      "text/html": [
       "<div>\n",
       "<style scoped>\n",
       "    .dataframe tbody tr th:only-of-type {\n",
       "        vertical-align: middle;\n",
       "    }\n",
       "\n",
       "    .dataframe tbody tr th {\n",
       "        vertical-align: top;\n",
       "    }\n",
       "\n",
       "    .dataframe thead th {\n",
       "        text-align: right;\n",
       "    }\n",
       "</style>\n",
       "<table border=\"1\" class=\"dataframe\">\n",
       "  <thead>\n",
       "    <tr style=\"text-align: right;\">\n",
       "      <th></th>\n",
       "      <th>Unnamed: 0</th>\n",
       "      <th>YEAR</th>\n",
       "      <th>SAMPLE</th>\n",
       "      <th>SERIAL</th>\n",
       "      <th>HHWT</th>\n",
       "      <th>REGION</th>\n",
       "      <th>STATEFIP</th>\n",
       "      <th>COUNTYFIP</th>\n",
       "      <th>DENSITY</th>\n",
       "      <th>METRO</th>\n",
       "      <th>...</th>\n",
       "      <th>EDUC</th>\n",
       "      <th>EDUCD</th>\n",
       "      <th>DEGFIELD</th>\n",
       "      <th>EMPSTAT</th>\n",
       "      <th>EMPSTATD</th>\n",
       "      <th>LABFORCE</th>\n",
       "      <th>OCC</th>\n",
       "      <th>IND</th>\n",
       "      <th>INCTOT</th>\n",
       "      <th>POVERTY</th>\n",
       "    </tr>\n",
       "  </thead>\n",
       "  <tbody>\n",
       "    <tr>\n",
       "      <th>0</th>\n",
       "      <td>0</td>\n",
       "      <td>2019</td>\n",
       "      <td>201901</td>\n",
       "      <td>3</td>\n",
       "      <td>199.80</td>\n",
       "      <td>32</td>\n",
       "      <td>1</td>\n",
       "      <td>15</td>\n",
       "      <td>364.8</td>\n",
       "      <td>4</td>\n",
       "      <td>...</td>\n",
       "      <td>7</td>\n",
       "      <td>71</td>\n",
       "      <td>NaN</td>\n",
       "      <td>1.0</td>\n",
       "      <td>10</td>\n",
       "      <td>2</td>\n",
       "      <td>5240.0</td>\n",
       "      <td>9160.0</td>\n",
       "      <td>1400.0</td>\n",
       "      <td>NaN</td>\n",
       "    </tr>\n",
       "    <tr>\n",
       "      <th>1</th>\n",
       "      <td>1</td>\n",
       "      <td>2019</td>\n",
       "      <td>201901</td>\n",
       "      <td>13</td>\n",
       "      <td>639.36</td>\n",
       "      <td>32</td>\n",
       "      <td>1</td>\n",
       "      <td>0</td>\n",
       "      <td>129.3</td>\n",
       "      <td>0</td>\n",
       "      <td>...</td>\n",
       "      <td>6</td>\n",
       "      <td>65</td>\n",
       "      <td>NaN</td>\n",
       "      <td>3.0</td>\n",
       "      <td>30</td>\n",
       "      <td>1</td>\n",
       "      <td>NaN</td>\n",
       "      <td>NaN</td>\n",
       "      <td>0.0</td>\n",
       "      <td>NaN</td>\n",
       "    </tr>\n",
       "    <tr>\n",
       "      <th>2</th>\n",
       "      <td>2</td>\n",
       "      <td>2019</td>\n",
       "      <td>201901</td>\n",
       "      <td>23</td>\n",
       "      <td>869.13</td>\n",
       "      <td>32</td>\n",
       "      <td>1</td>\n",
       "      <td>0</td>\n",
       "      <td>2090.1</td>\n",
       "      <td>4</td>\n",
       "      <td>...</td>\n",
       "      <td>7</td>\n",
       "      <td>71</td>\n",
       "      <td>NaN</td>\n",
       "      <td>1.0</td>\n",
       "      <td>10</td>\n",
       "      <td>2</td>\n",
       "      <td>2350.0</td>\n",
       "      <td>7870.0</td>\n",
       "      <td>970.0</td>\n",
       "      <td>NaN</td>\n",
       "    </tr>\n",
       "    <tr>\n",
       "      <th>3</th>\n",
       "      <td>3</td>\n",
       "      <td>2019</td>\n",
       "      <td>201901</td>\n",
       "      <td>33</td>\n",
       "      <td>119.88</td>\n",
       "      <td>32</td>\n",
       "      <td>1</td>\n",
       "      <td>0</td>\n",
       "      <td>217.6</td>\n",
       "      <td>0</td>\n",
       "      <td>...</td>\n",
       "      <td>6</td>\n",
       "      <td>63</td>\n",
       "      <td>NaN</td>\n",
       "      <td>3.0</td>\n",
       "      <td>30</td>\n",
       "      <td>1</td>\n",
       "      <td>NaN</td>\n",
       "      <td>NaN</td>\n",
       "      <td>11100.0</td>\n",
       "      <td>84.0</td>\n",
       "    </tr>\n",
       "    <tr>\n",
       "      <th>4</th>\n",
       "      <td>4</td>\n",
       "      <td>2019</td>\n",
       "      <td>201901</td>\n",
       "      <td>43</td>\n",
       "      <td>769.23</td>\n",
       "      <td>32</td>\n",
       "      <td>1</td>\n",
       "      <td>97</td>\n",
       "      <td>2341.6</td>\n",
       "      <td>4</td>\n",
       "      <td>...</td>\n",
       "      <td>6</td>\n",
       "      <td>63</td>\n",
       "      <td>NaN</td>\n",
       "      <td>3.0</td>\n",
       "      <td>30</td>\n",
       "      <td>1</td>\n",
       "      <td>NaN</td>\n",
       "      <td>NaN</td>\n",
       "      <td>0.0</td>\n",
       "      <td>NaN</td>\n",
       "    </tr>\n",
       "  </tbody>\n",
       "</table>\n",
       "<p>5 rows × 45 columns</p>\n",
       "</div>"
      ],
      "text/plain": [
       "   Unnamed: 0  YEAR  SAMPLE  SERIAL    HHWT  REGION  STATEFIP  COUNTYFIP  \\\n",
       "0           0  2019  201901       3  199.80      32         1         15   \n",
       "1           1  2019  201901      13  639.36      32         1          0   \n",
       "2           2  2019  201901      23  869.13      32         1          0   \n",
       "3           3  2019  201901      33  119.88      32         1          0   \n",
       "4           4  2019  201901      43  769.23      32         1         97   \n",
       "\n",
       "   DENSITY  METRO  ...  EDUC  EDUCD  DEGFIELD  EMPSTAT  EMPSTATD  LABFORCE  \\\n",
       "0    364.8      4  ...     7     71       NaN      1.0        10         2   \n",
       "1    129.3      0  ...     6     65       NaN      3.0        30         1   \n",
       "2   2090.1      4  ...     7     71       NaN      1.0        10         2   \n",
       "3    217.6      0  ...     6     63       NaN      3.0        30         1   \n",
       "4   2341.6      4  ...     6     63       NaN      3.0        30         1   \n",
       "\n",
       "      OCC     IND   INCTOT  POVERTY  \n",
       "0  5240.0  9160.0   1400.0      NaN  \n",
       "1     NaN     NaN      0.0      NaN  \n",
       "2  2350.0  7870.0    970.0      NaN  \n",
       "3     NaN     NaN  11100.0     84.0  \n",
       "4     NaN     NaN      0.0      NaN  \n",
       "\n",
       "[5 rows x 45 columns]"
      ]
     },
     "execution_count": 3,
     "metadata": {},
     "output_type": "execute_result"
    }
   ],
   "source": [
    "data.head()"
   ]
  },
  {
   "cell_type": "markdown",
   "metadata": {},
   "source": [
    "And let's have a look at the total size of this dataset. To do so, we can use the `shape()` function."
   ]
  },
  {
   "cell_type": "code",
   "execution_count": 4,
   "metadata": {},
   "outputs": [
    {
     "data": {
      "text/plain": [
       "(323958, 45)"
      ]
     },
     "execution_count": 4,
     "metadata": {},
     "output_type": "execute_result"
    }
   ],
   "source": [
    "data.shape"
   ]
  },
  {
   "cell_type": "markdown",
   "metadata": {},
   "source": [
    "And some more information through the `describe()` function."
   ]
  },
  {
   "cell_type": "code",
   "execution_count": 5,
   "metadata": {},
   "outputs": [
    {
     "data": {
      "text/html": [
       "<div>\n",
       "<style scoped>\n",
       "    .dataframe tbody tr th:only-of-type {\n",
       "        vertical-align: middle;\n",
       "    }\n",
       "\n",
       "    .dataframe tbody tr th {\n",
       "        vertical-align: top;\n",
       "    }\n",
       "\n",
       "    .dataframe thead th {\n",
       "        text-align: right;\n",
       "    }\n",
       "</style>\n",
       "<table border=\"1\" class=\"dataframe\">\n",
       "  <thead>\n",
       "    <tr style=\"text-align: right;\">\n",
       "      <th></th>\n",
       "      <th>Unnamed: 0</th>\n",
       "      <th>YEAR</th>\n",
       "      <th>SAMPLE</th>\n",
       "      <th>SERIAL</th>\n",
       "      <th>HHWT</th>\n",
       "      <th>REGION</th>\n",
       "      <th>STATEFIP</th>\n",
       "      <th>COUNTYFIP</th>\n",
       "      <th>DENSITY</th>\n",
       "      <th>METRO</th>\n",
       "      <th>...</th>\n",
       "      <th>EDUC</th>\n",
       "      <th>EDUCD</th>\n",
       "      <th>DEGFIELD</th>\n",
       "      <th>EMPSTAT</th>\n",
       "      <th>EMPSTATD</th>\n",
       "      <th>LABFORCE</th>\n",
       "      <th>OCC</th>\n",
       "      <th>IND</th>\n",
       "      <th>INCTOT</th>\n",
       "      <th>POVERTY</th>\n",
       "    </tr>\n",
       "  </thead>\n",
       "  <tbody>\n",
       "    <tr>\n",
       "      <th>count</th>\n",
       "      <td>323958.000000</td>\n",
       "      <td>323958.0</td>\n",
       "      <td>323958.0</td>\n",
       "      <td>3.239580e+05</td>\n",
       "      <td>323958.000000</td>\n",
       "      <td>323958.000000</td>\n",
       "      <td>323958.000000</td>\n",
       "      <td>323958.00000</td>\n",
       "      <td>323958.000000</td>\n",
       "      <td>323958.000000</td>\n",
       "      <td>...</td>\n",
       "      <td>323958.000000</td>\n",
       "      <td>323958.000000</td>\n",
       "      <td>83072.000000</td>\n",
       "      <td>267842.000000</td>\n",
       "      <td>323958.000000</td>\n",
       "      <td>323958.00000</td>\n",
       "      <td>192319.000000</td>\n",
       "      <td>192319.000000</td>\n",
       "      <td>2.717820e+05</td>\n",
       "      <td>311123.000000</td>\n",
       "    </tr>\n",
       "    <tr>\n",
       "      <th>mean</th>\n",
       "      <td>161978.500000</td>\n",
       "      <td>2019.0</td>\n",
       "      <td>201901.0</td>\n",
       "      <td>7.128353e+05</td>\n",
       "      <td>961.079180</td>\n",
       "      <td>28.392168</td>\n",
       "      <td>27.756752</td>\n",
       "      <td>50.53811</td>\n",
       "      <td>3793.671817</td>\n",
       "      <td>2.579449</td>\n",
       "      <td>...</td>\n",
       "      <td>6.270686</td>\n",
       "      <td>65.140781</td>\n",
       "      <td>43.343100</td>\n",
       "      <td>1.829202</td>\n",
       "      <td>15.155792</td>\n",
       "      <td>1.32110</td>\n",
       "      <td>4175.474675</td>\n",
       "      <td>6411.859390</td>\n",
       "      <td>4.543959e+04</td>\n",
       "      <td>333.003998</td>\n",
       "    </tr>\n",
       "    <tr>\n",
       "      <th>std</th>\n",
       "      <td>93518.763591</td>\n",
       "      <td>0.0</td>\n",
       "      <td>0.0</td>\n",
       "      <td>4.158698e+05</td>\n",
       "      <td>837.978331</td>\n",
       "      <td>10.288047</td>\n",
       "      <td>16.110784</td>\n",
       "      <td>87.96127</td>\n",
       "      <td>9076.073757</td>\n",
       "      <td>1.418085</td>\n",
       "      <td>...</td>\n",
       "      <td>3.250351</td>\n",
       "      <td>32.342895</td>\n",
       "      <td>17.180462</td>\n",
       "      <td>0.972552</td>\n",
       "      <td>11.219777</td>\n",
       "      <td>0.75129</td>\n",
       "      <td>2702.839018</td>\n",
       "      <td>2630.050819</td>\n",
       "      <td>6.800730e+04</td>\n",
       "      <td>162.682171</td>\n",
       "    </tr>\n",
       "    <tr>\n",
       "      <th>min</th>\n",
       "      <td>0.000000</td>\n",
       "      <td>2019.0</td>\n",
       "      <td>201901.0</td>\n",
       "      <td>3.000000e+00</td>\n",
       "      <td>9.990000</td>\n",
       "      <td>11.000000</td>\n",
       "      <td>1.000000</td>\n",
       "      <td>0.00000</td>\n",
       "      <td>2.600000</td>\n",
       "      <td>0.000000</td>\n",
       "      <td>...</td>\n",
       "      <td>0.000000</td>\n",
       "      <td>1.000000</td>\n",
       "      <td>11.000000</td>\n",
       "      <td>1.000000</td>\n",
       "      <td>0.000000</td>\n",
       "      <td>0.00000</td>\n",
       "      <td>10.000000</td>\n",
       "      <td>170.000000</td>\n",
       "      <td>-9.500000e+03</td>\n",
       "      <td>1.000000</td>\n",
       "    </tr>\n",
       "    <tr>\n",
       "      <th>25%</th>\n",
       "      <td>80989.250000</td>\n",
       "      <td>2019.0</td>\n",
       "      <td>201901.0</td>\n",
       "      <td>3.479875e+05</td>\n",
       "      <td>479.520000</td>\n",
       "      <td>21.000000</td>\n",
       "      <td>12.000000</td>\n",
       "      <td>0.00000</td>\n",
       "      <td>285.200000</td>\n",
       "      <td>2.000000</td>\n",
       "      <td>...</td>\n",
       "      <td>5.000000</td>\n",
       "      <td>50.000000</td>\n",
       "      <td>24.000000</td>\n",
       "      <td>1.000000</td>\n",
       "      <td>10.000000</td>\n",
       "      <td>1.00000</td>\n",
       "      <td>2145.000000</td>\n",
       "      <td>4971.000000</td>\n",
       "      <td>9.200000e+03</td>\n",
       "      <td>193.000000</td>\n",
       "    </tr>\n",
       "    <tr>\n",
       "      <th>50%</th>\n",
       "      <td>161978.500000</td>\n",
       "      <td>2019.0</td>\n",
       "      <td>201901.0</td>\n",
       "      <td>7.104470e+05</td>\n",
       "      <td>729.270000</td>\n",
       "      <td>31.000000</td>\n",
       "      <td>27.000000</td>\n",
       "      <td>17.00000</td>\n",
       "      <td>1329.900000</td>\n",
       "      <td>3.000000</td>\n",
       "      <td>...</td>\n",
       "      <td>6.000000</td>\n",
       "      <td>64.000000</td>\n",
       "      <td>50.000000</td>\n",
       "      <td>1.000000</td>\n",
       "      <td>10.000000</td>\n",
       "      <td>1.00000</td>\n",
       "      <td>4120.000000</td>\n",
       "      <td>7390.000000</td>\n",
       "      <td>2.740000e+04</td>\n",
       "      <td>360.000000</td>\n",
       "    </tr>\n",
       "    <tr>\n",
       "      <th>75%</th>\n",
       "      <td>242967.750000</td>\n",
       "      <td>2019.0</td>\n",
       "      <td>201901.0</td>\n",
       "      <td>1.078740e+06</td>\n",
       "      <td>1148.850000</td>\n",
       "      <td>33.000000</td>\n",
       "      <td>42.000000</td>\n",
       "      <td>71.00000</td>\n",
       "      <td>3912.900000</td>\n",
       "      <td>4.000000</td>\n",
       "      <td>...</td>\n",
       "      <td>10.000000</td>\n",
       "      <td>101.000000</td>\n",
       "      <td>61.000000</td>\n",
       "      <td>3.000000</td>\n",
       "      <td>30.000000</td>\n",
       "      <td>2.00000</td>\n",
       "      <td>5740.000000</td>\n",
       "      <td>8191.000000</td>\n",
       "      <td>5.700000e+04</td>\n",
       "      <td>501.000000</td>\n",
       "    </tr>\n",
       "    <tr>\n",
       "      <th>max</th>\n",
       "      <td>323957.000000</td>\n",
       "      <td>2019.0</td>\n",
       "      <td>201901.0</td>\n",
       "      <td>1.428034e+06</td>\n",
       "      <td>15144.840000</td>\n",
       "      <td>42.000000</td>\n",
       "      <td>56.000000</td>\n",
       "      <td>810.00000</td>\n",
       "      <td>122270.700000</td>\n",
       "      <td>4.000000</td>\n",
       "      <td>...</td>\n",
       "      <td>11.000000</td>\n",
       "      <td>116.000000</td>\n",
       "      <td>64.000000</td>\n",
       "      <td>3.000000</td>\n",
       "      <td>30.000000</td>\n",
       "      <td>2.00000</td>\n",
       "      <td>9920.000000</td>\n",
       "      <td>9920.000000</td>\n",
       "      <td>1.544500e+06</td>\n",
       "      <td>501.000000</td>\n",
       "    </tr>\n",
       "  </tbody>\n",
       "</table>\n",
       "<p>8 rows × 45 columns</p>\n",
       "</div>"
      ],
      "text/plain": [
       "          Unnamed: 0      YEAR    SAMPLE        SERIAL           HHWT  \\\n",
       "count  323958.000000  323958.0  323958.0  3.239580e+05  323958.000000   \n",
       "mean   161978.500000    2019.0  201901.0  7.128353e+05     961.079180   \n",
       "std     93518.763591       0.0       0.0  4.158698e+05     837.978331   \n",
       "min         0.000000    2019.0  201901.0  3.000000e+00       9.990000   \n",
       "25%     80989.250000    2019.0  201901.0  3.479875e+05     479.520000   \n",
       "50%    161978.500000    2019.0  201901.0  7.104470e+05     729.270000   \n",
       "75%    242967.750000    2019.0  201901.0  1.078740e+06    1148.850000   \n",
       "max    323957.000000    2019.0  201901.0  1.428034e+06   15144.840000   \n",
       "\n",
       "              REGION       STATEFIP     COUNTYFIP        DENSITY  \\\n",
       "count  323958.000000  323958.000000  323958.00000  323958.000000   \n",
       "mean       28.392168      27.756752      50.53811    3793.671817   \n",
       "std        10.288047      16.110784      87.96127    9076.073757   \n",
       "min        11.000000       1.000000       0.00000       2.600000   \n",
       "25%        21.000000      12.000000       0.00000     285.200000   \n",
       "50%        31.000000      27.000000      17.00000    1329.900000   \n",
       "75%        33.000000      42.000000      71.00000    3912.900000   \n",
       "max        42.000000      56.000000     810.00000  122270.700000   \n",
       "\n",
       "               METRO  ...           EDUC          EDUCD      DEGFIELD  \\\n",
       "count  323958.000000  ...  323958.000000  323958.000000  83072.000000   \n",
       "mean        2.579449  ...       6.270686      65.140781     43.343100   \n",
       "std         1.418085  ...       3.250351      32.342895     17.180462   \n",
       "min         0.000000  ...       0.000000       1.000000     11.000000   \n",
       "25%         2.000000  ...       5.000000      50.000000     24.000000   \n",
       "50%         3.000000  ...       6.000000      64.000000     50.000000   \n",
       "75%         4.000000  ...      10.000000     101.000000     61.000000   \n",
       "max         4.000000  ...      11.000000     116.000000     64.000000   \n",
       "\n",
       "             EMPSTAT       EMPSTATD      LABFORCE            OCC  \\\n",
       "count  267842.000000  323958.000000  323958.00000  192319.000000   \n",
       "mean        1.829202      15.155792       1.32110    4175.474675   \n",
       "std         0.972552      11.219777       0.75129    2702.839018   \n",
       "min         1.000000       0.000000       0.00000      10.000000   \n",
       "25%         1.000000      10.000000       1.00000    2145.000000   \n",
       "50%         1.000000      10.000000       1.00000    4120.000000   \n",
       "75%         3.000000      30.000000       2.00000    5740.000000   \n",
       "max         3.000000      30.000000       2.00000    9920.000000   \n",
       "\n",
       "                 IND        INCTOT        POVERTY  \n",
       "count  192319.000000  2.717820e+05  311123.000000  \n",
       "mean     6411.859390  4.543959e+04     333.003998  \n",
       "std      2630.050819  6.800730e+04     162.682171  \n",
       "min       170.000000 -9.500000e+03       1.000000  \n",
       "25%      4971.000000  9.200000e+03     193.000000  \n",
       "50%      7390.000000  2.740000e+04     360.000000  \n",
       "75%      8191.000000  5.700000e+04     501.000000  \n",
       "max      9920.000000  1.544500e+06     501.000000  \n",
       "\n",
       "[8 rows x 45 columns]"
      ]
     },
     "execution_count": 5,
     "metadata": {},
     "output_type": "execute_result"
    }
   ],
   "source": [
    "data.describe()"
   ]
  },
  {
   "cell_type": "markdown",
   "metadata": {},
   "source": [
    "Let's find out the data types of the data and if there are non-null counts."
   ]
  },
  {
   "cell_type": "code",
   "execution_count": 6,
   "metadata": {},
   "outputs": [
    {
     "name": "stdout",
     "output_type": "stream",
     "text": [
      "<class 'pandas.core.frame.DataFrame'>\n",
      "RangeIndex: 323958 entries, 0 to 323957\n",
      "Data columns (total 45 columns):\n",
      " #   Column      Non-Null Count   Dtype  \n",
      "---  ------      --------------   -----  \n",
      " 0   Unnamed: 0  323958 non-null  int64  \n",
      " 1   YEAR        323958 non-null  int64  \n",
      " 2   SAMPLE      323958 non-null  int64  \n",
      " 3   SERIAL      323958 non-null  int64  \n",
      " 4   HHWT        323958 non-null  float64\n",
      " 5   REGION      323958 non-null  int64  \n",
      " 6   STATEFIP    323958 non-null  int64  \n",
      " 7   COUNTYFIP   323958 non-null  int64  \n",
      " 8   DENSITY     323958 non-null  float64\n",
      " 9   METRO       323958 non-null  int64  \n",
      " 10  FARM        323958 non-null  int64  \n",
      " 11  OWNERSHP    308813 non-null  float64\n",
      " 12  OWNERSHPD   308813 non-null  float64\n",
      " 13  MORTGAGE    226643 non-null  float64\n",
      " 14  MORTGAG2    147006 non-null  float64\n",
      " 15  PROPINSR    226643 non-null  float64\n",
      " 16  RENT        77317 non-null   float64\n",
      " 17  COSTELEC    308813 non-null  float64\n",
      " 18  COSTGAS     308813 non-null  float64\n",
      " 19  COSTFUEL    308813 non-null  float64\n",
      " 20  HHINCOME    308813 non-null  float64\n",
      " 21  ROOMS       308813 non-null  float64\n",
      " 22  BUILTYR2    308813 non-null  float64\n",
      " 23  UNITSSTR    308813 non-null  float64\n",
      " 24  BEDROOMS    308813 non-null  float64\n",
      " 25  FUELHEAT    308813 non-null  float64\n",
      " 26  VEHICLES    308813 non-null  float64\n",
      " 27  PERWT       323958 non-null  float64\n",
      " 28  RELATE      323958 non-null  int64  \n",
      " 29  RELATED     323958 non-null  int64  \n",
      " 30  SEX         323958 non-null  int64  \n",
      " 31  AGE         323958 non-null  int64  \n",
      " 32  MARST       323958 non-null  int64  \n",
      " 33  RACE        323958 non-null  int64  \n",
      " 34  RACED       323958 non-null  int64  \n",
      " 35  EDUC        323958 non-null  int64  \n",
      " 36  EDUCD       323958 non-null  int64  \n",
      " 37  DEGFIELD    83072 non-null   float64\n",
      " 38  EMPSTAT     267842 non-null  float64\n",
      " 39  EMPSTATD    323958 non-null  int64  \n",
      " 40  LABFORCE    323958 non-null  int64  \n",
      " 41  OCC         192319 non-null  float64\n",
      " 42  IND         192319 non-null  float64\n",
      " 43  INCTOT      271782 non-null  float64\n",
      " 44  POVERTY     311123 non-null  float64\n",
      "dtypes: float64(25), int64(20)\n",
      "memory usage: 111.2 MB\n"
     ]
    }
   ],
   "source": [
    "data.info()"
   ]
  },
  {
   "cell_type": "markdown",
   "metadata": {},
   "source": [
    "Another way to check if there are missing values by using the following line of code. "
   ]
  },
  {
   "cell_type": "code",
   "execution_count": 7,
   "metadata": {},
   "outputs": [
    {
     "data": {
      "text/plain": [
       "RENT          246641\n",
       "DEGFIELD      240886\n",
       "MORTGAG2      176952\n",
       "IND           131639\n",
       "OCC           131639\n",
       "MORTGAGE       97315\n",
       "PROPINSR       97315\n",
       "EMPSTAT        56116\n",
       "INCTOT         52176\n",
       "BUILTYR2       15145\n",
       "COSTFUEL       15145\n",
       "COSTGAS        15145\n",
       "COSTELEC       15145\n",
       "UNITSSTR       15145\n",
       "OWNERSHPD      15145\n",
       "OWNERSHP       15145\n",
       "ROOMS          15145\n",
       "BEDROOMS       15145\n",
       "FUELHEAT       15145\n",
       "VEHICLES       15145\n",
       "HHINCOME       15145\n",
       "POVERTY        12835\n",
       "YEAR               0\n",
       "RACED              0\n",
       "SAMPLE             0\n",
       "SERIAL             0\n",
       "HHWT               0\n",
       "LABFORCE           0\n",
       "EMPSTATD           0\n",
       "REGION             0\n",
       "STATEFIP           0\n",
       "EDUCD              0\n",
       "EDUC               0\n",
       "RACE               0\n",
       "FARM               0\n",
       "MARST              0\n",
       "AGE                0\n",
       "SEX                0\n",
       "RELATED            0\n",
       "RELATE             0\n",
       "PERWT              0\n",
       "COUNTYFIP          0\n",
       "DENSITY            0\n",
       "METRO              0\n",
       "Unnamed: 0         0\n",
       "dtype: int64"
      ]
     },
     "execution_count": 7,
     "metadata": {},
     "output_type": "execute_result"
    }
   ],
   "source": [
    "data.isnull().sum().sort_values(ascending = False)"
   ]
  },
  {
   "cell_type": "markdown",
   "metadata": {},
   "source": [
    "## 3. Exploratory data analysis\n",
    "<hr>"
   ]
  },
  {
   "cell_type": "markdown",
   "metadata": {},
   "source": [
    "Now we are going to take a look at some specific variables. We want to see how variables are distributed and how they are related to each other, and specifically how they are related to energy costs. We can do this in several ways. "
   ]
  },
  {
   "cell_type": "markdown",
   "metadata": {},
   "source": [
    "Here we see the different values in the variable OWNERSHIP and how many times each value occurs. "
   ]
  },
  {
   "cell_type": "code",
   "execution_count": 8,
   "metadata": {},
   "outputs": [
    {
     "data": {
      "text/plain": [
       "1.0    226643\n",
       "2.0     82170\n",
       "NaN     15145\n",
       "Name: OWNERSHP, dtype: int64"
      ]
     },
     "execution_count": 8,
     "metadata": {},
     "output_type": "execute_result"
    }
   ],
   "source": [
    "data['OWNERSHP'].value_counts(dropna = False)"
   ]
  },
  {
   "cell_type": "code",
   "execution_count": 9,
   "metadata": {},
   "outputs": [
    {
     "data": {
      "text/plain": [
       "NaN         15145\n",
       "100000.0     2290\n",
       "60000.0      2285\n",
       "0.0          2173\n",
       "50000.0      2167\n",
       "            ...  \n",
       "127720.0        1\n",
       "145450.0        1\n",
       "72410.0         1\n",
       "349050.0        1\n",
       "5070.0          1\n",
       "Name: HHINCOME, Length: 12286, dtype: int64"
      ]
     },
     "execution_count": 9,
     "metadata": {},
     "output_type": "execute_result"
    }
   ],
   "source": [
    "data['HHINCOME'].value_counts(dropna = False)"
   ]
  },
  {
   "cell_type": "markdown",
   "metadata": {},
   "source": [
    "The function `value_counts()` is especially useful when the number of values in a variable is limited. For example, for income, which contains a lot of different values, value_counts is not so useful and a plot of the distribution would be more insightful. We can use the **seaborn** package to easily plot the distribution of the income.   "
   ]
  },
  {
   "cell_type": "code",
   "execution_count": 17,
   "metadata": {},
   "outputs": [
    {
     "data": {
      "text/plain": [
       "<seaborn.axisgrid.FacetGrid at 0x17c8c33fa30>"
      ]
     },
     "execution_count": 17,
     "metadata": {},
     "output_type": "execute_result"
    }
   ],
   "source": [
    "sns.displot(data['HHINCOME'], bins=50,kde=False)"
   ]
  },
  {
   "cell_type": "code",
   "execution_count": 18,
   "metadata": {},
   "outputs": [
    {
     "data": {
      "text/plain": [
       "<seaborn.axisgrid.FacetGrid at 0x17c8a79c3d0>"
      ]
     },
     "execution_count": 18,
     "metadata": {},
     "output_type": "execute_result"
    }
   ],
   "source": [
    "# Less bins\n",
    "sns.displot(data['HHINCOME'], bins=20,kde=False)"
   ]
  },
  {
   "cell_type": "markdown",
   "metadata": {},
   "source": [
    "And we can also include the kernel density, by setting the `kde` parameter to **True**. Kernel Density Estimation (KDE) is a technique that let’s you create a smooth curve given a set of data. This can be useful if you want to visualize just the “shape” of some data, as a kind of continuous replacement for the discrete histogram. "
   ]
  },
  {
   "cell_type": "code",
   "execution_count": 19,
   "metadata": {},
   "outputs": [
    {
     "data": {
      "text/plain": [
       "<seaborn.axisgrid.FacetGrid at 0x17c8dc9ca30>"
      ]
     },
     "execution_count": 19,
     "metadata": {},
     "output_type": "execute_result"
    }
   ],
   "source": [
    "sns.displot(data['HHINCOME'], bins=50,kde=True)"
   ]
  },
  {
   "cell_type": "markdown",
   "metadata": {},
   "source": [
    "Now we are going to take a look at energy costs. The total costs of energy are given by electricity costs, gas costs and fuel costs. Before summing the three variables to obtain the total energy costs, we take a look at the three individual variables. "
   ]
  },
  {
   "cell_type": "code",
   "execution_count": 13,
   "metadata": {},
   "outputs": [
    {
     "data": {
      "text/plain": [
       "<seaborn.axisgrid.FacetGrid at 0x17c8a79c0d0>"
      ]
     },
     "execution_count": 13,
     "metadata": {},
     "output_type": "execute_result"
    }
   ],
   "source": [
    "sns.displot(data['COSTELEC'], bins=50,kde=False)"
   ]
  },
  {
   "cell_type": "markdown",
   "metadata": {},
   "source": [
    "There appears to be a strange value around 10000. Find out about this value with a line of code. You can find on the IPUMS USA [website](https://usa.ipums.org/usa/) what the value indicates."
   ]
  },
  {
   "cell_type": "code",
   "execution_count": null,
   "metadata": {},
   "outputs": [],
   "source": [
    "# Answer. "
   ]
  },
  {
   "cell_type": "markdown",
   "metadata": {},
   "source": [
    "Anyhow, we should replace this value around 10000. Fill in the dots in the line of code below. The number you fill in is going to be replaced by 0.    "
   ]
  },
  {
   "cell_type": "code",
   "execution_count": 20,
   "metadata": {},
   "outputs": [],
   "source": [
    "data['COSTELEC'] = data['COSTELEC'].replace(9997, 0) #data['COSTELEC'] = data['COSTELEC'].replace(..., 0)"
   ]
  },
  {
   "cell_type": "markdown",
   "metadata": {},
   "source": [
    "Do the same for COSTFUEL and COSTGAS. The value to replace is the same as for COSTELEC. "
   ]
  },
  {
   "cell_type": "code",
   "execution_count": 21,
   "metadata": {},
   "outputs": [],
   "source": [
    "data['COSTFUEL'] = data['COSTFUEL'].replace(9997, 0) \n"
   ]
  },
  {
   "cell_type": "code",
   "execution_count": 22,
   "metadata": {},
   "outputs": [],
   "source": [
    "data['COSTGAS'] = data['COSTGAS'].replace(9997, 0) "
   ]
  },
  {
   "cell_type": "markdown",
   "metadata": {},
   "source": [
    "The total cost of energy is given by the sum of electricity, gas and fuel costs. The next line of code creates a new column in the dataframe called COSTENERGY, which is the sum of three columns. "
   ]
  },
  {
   "cell_type": "code",
   "execution_count": 23,
   "metadata": {},
   "outputs": [],
   "source": [
    "data['COSTENERGY'] = data['COSTELEC'] + data['COSTGAS'] + data['COSTFUEL']"
   ]
  },
  {
   "cell_type": "markdown",
   "metadata": {},
   "source": [
    "Next we want to see how variables are related to each other. We can for example do this with a correlation matrix. You can add a few variables you are interested in yourself.\n",
    "As you can see, there are several options in the seaborn (imported as sns) heatmap. We have annot = True which makes sure that we include the numbers in the heatmap (try switching it off), fmt = .2f specifies that we want to have 2 decimals, with cmap we can specify the color palette and with center = 0, we scale the colors in such a way that a correlation of 0 corresponds to white color.   \n"
   ]
  },
  {
   "cell_type": "code",
   "execution_count": 24,
   "metadata": {},
   "outputs": [
    {
     "data": {
      "text/plain": [
       "<AxesSubplot:>"
      ]
     },
     "execution_count": 24,
     "metadata": {},
     "output_type": "execute_result"
    }
   ],
   "source": [
    " sns.heatmap(data[[\"COSTENERGY\", \"ROOMS\", \"RENT\", \"INCTOT\", \"HHINCOME\", \"BUILTYR2\", \"VEHICLES\", \"BEDROOMS\", \"FARM\", \"OWNERSHP\", \"MORTGAGE\", \"AGE\", \"SEX\"]].corr(),\n",
    "                           annot=True, fmt = \".2f\", center=0, cmap = \"RdBu\")"
   ]
  },
  {
   "cell_type": "code",
   "execution_count": null,
   "metadata": {},
   "outputs": [],
   "source": [
    "# Answer"
   ]
  },
  {
   "cell_type": "markdown",
   "metadata": {},
   "source": [
    "## 4. Creating new variables\n",
    "<hr>"
   ]
  },
  {
   "cell_type": "markdown",
   "metadata": {},
   "source": [
    "The dataset consists of households and individuals. Energy costs are a household variable, i.e. all members of the household have the same energy costs. Age and sex are individual variables, so the relationship between age or sex with energy costs is likely to be low. Think of a family with children, where a 3-year old daughter has the same energy costs as the 40-year old father. But maybe we can use these two variables, AGE and SEX in another way to make them useful. We can for example create a variable with number of children in a household, or number of women, age of the oldest person in the household etc. To create these variables, we need to know which individuals belong to the same household and luckily this is exactly what the column SERIAL indicates. \n",
    "\n",
    "Before we go into the variables SEX and AGE, we are going to create a new variable household size based on the variable SERIAL."
   ]
  },
  {
   "cell_type": "code",
   "execution_count": 25,
   "metadata": {},
   "outputs": [],
   "source": [
    "serialcount = data['SERIAL'].value_counts(dropna = False).reset_index()"
   ]
  },
  {
   "cell_type": "code",
   "execution_count": 26,
   "metadata": {},
   "outputs": [
    {
     "name": "stdout",
     "output_type": "stream",
     "text": [
      "          index  SERIAL\n",
      "0        163320      20\n",
      "1        625037      20\n",
      "2       1310431      18\n",
      "3        759363      18\n",
      "4        411531      18\n",
      "...         ...     ...\n",
      "142942   979822       1\n",
      "142943   979832       1\n",
      "142944   979842       1\n",
      "142945   979852       1\n",
      "142946        3       1\n",
      "\n",
      "[142947 rows x 2 columns]\n"
     ]
    }
   ],
   "source": [
    "print(serialcount)"
   ]
  },
  {
   "cell_type": "markdown",
   "metadata": {},
   "source": [
    "The names of the dataframe *serialcount* are a bit confusing, because the **index** column corresponds to the **SERIAL** number and the column **SERIAL** corresponds to the *household size*, so let's rename the **SERIAL** column to **HHSIZE** and the **index** column to **SERIAL**."
   ]
  },
  {
   "cell_type": "code",
   "execution_count": 27,
   "metadata": {},
   "outputs": [],
   "source": [
    "serialcount = serialcount.rename(columns = {'SERIAL':'HHSIZE', 'index':'SERIAL'})"
   ]
  },
  {
   "cell_type": "markdown",
   "metadata": {},
   "source": [
    "Then we add the column **HHSIZE** (household) size to our data using the `.merge()` function. Within the `merge()` function, you have to define on which column you want to merge them, through the `on` argument.  "
   ]
  },
  {
   "cell_type": "code",
   "execution_count": null,
   "metadata": {},
   "outputs": [],
   "source": [
    "data = data.merge(serialcount, on = 'SERIAL', how = 'left')"
   ]
  },
  {
   "cell_type": "markdown",
   "metadata": {},
   "source": [
    "Next we will use the variable SEX to create a new variable. It is possible that women use more energy than men, or the other way around, so the number of women (or men) could be a useful variable for predicting energy costs. To obtain the household size, we simply counted the number of occurances of each serial number, but to obtain the number of women per household, we also need the column SEX. The variable SEX has two values, 1 represents a male and 2 represents a female. "
   ]
  },
  {
   "cell_type": "markdown",
   "metadata": {},
   "source": [
    "We use the function `value_count()` to obtain the number of women and men per serial number (household). "
   ]
  },
  {
   "cell_type": "code",
   "execution_count": 31,
   "metadata": {},
   "outputs": [
    {
     "name": "stdout",
     "output_type": "stream",
     "text": [
      "         SERIAL  SEX   0\n",
      "0        625037    2  13\n",
      "1       1310431    2  13\n",
      "2        163320    2  12\n",
      "3        542360    2  12\n",
      "4        777814    2  11\n",
      "...         ...  ...  ..\n",
      "227109   563059    2   1\n",
      "227110   563069    1   1\n",
      "227111   563069    2   1\n",
      "227112   563079    1   1\n",
      "227113  1428034    2   1\n",
      "\n",
      "[227114 rows x 3 columns]\n"
     ]
    }
   ],
   "source": [
    "gendercount = data[['SERIAL', 'SEX']].value_counts(dropna = False).reset_index()\n",
    "print(gendercount)"
   ]
  },
  {
   "cell_type": "markdown",
   "metadata": {},
   "source": [
    "It is always good to realize that in many causes, multiple ways exist to obtain the same result. The following line of code produces the same results:"
   ]
  },
  {
   "cell_type": "code",
   "execution_count": 32,
   "metadata": {},
   "outputs": [
    {
     "name": "stdout",
     "output_type": "stream",
     "text": [
      "         SERIAL  SEX  0\n",
      "0             3    1  1\n",
      "1            13    2  1\n",
      "2            23    2  1\n",
      "3            33    1  1\n",
      "4            43    2  1\n",
      "...         ...  ... ..\n",
      "227109  1428004    2  1\n",
      "227110  1428014    1  1\n",
      "227111  1428024    2  2\n",
      "227112  1428034    1  1\n",
      "227113  1428034    2  1\n",
      "\n",
      "[227114 rows x 3 columns]\n"
     ]
    }
   ],
   "source": [
    "gendercount = data[['SERIAL','SEX']].groupby(['SERIAL','SEX']).size().reset_index()\n",
    "print(gendercount)"
   ]
  },
  {
   "cell_type": "markdown",
   "metadata": {},
   "source": [
    "In the next steps you are going to write code that merges a new variable called **'NR_OF_WOMEN'** (number of women) to the existing dataframe. The following hints guide you through the steps. \n",
    "\n",
    "*Three lines of code is sufficient. Hint 1 is given for the first line of code, Hint 2 for the second line, and Hint 3a, 3b, 3c for the third line of code.*\n",
    "\n",
    "- **Hint 1**: You want to create a variable/column with number of women using the dataframe gendercount. The only thing you have to do is keep the number of the women in the dataframe gendercount, i.e. use SEX == 2. Store this dataframe as a new dataframe named womencount, hence your first line of code starts with womencount = .  \n",
    "\n",
    "- **Hint 2**: Change the variable name of 0 to NR_OF_WOMEN in the dataframe womencount. 0 is not a string (so it's not '0').  \n",
    "\n",
    "- **Hint 3a**: In the third line of code you merge the dataframe womencount women to the dataframe data.\n",
    "- **Hint 3b**: See the line of code where we merged serialcount to data. \n",
    "- **Hint 3c**: Think about the column SEX. It has no meaning anymore, since you only kept the women. Hence, you can either drop it from the dataframe or not include it in the merge. If you choose to drop SEX from womencount, this would be your third line of code and the merge would be the fourth line of code.  "
   ]
  },
  {
   "cell_type": "code",
   "execution_count": 33,
   "metadata": {},
   "outputs": [],
   "source": [
    "womencount = gendercount[gendercount['SEX'] == 2]\n",
    "womencount = womencount.rename(columns = {0:'NR_OF_WOMEN'})\n",
    "data  = data.merge(womencount[['SERIAL', 'NR_OF_WOMEN']], on = 'SERIAL', how = 'left')"
   ]
  },
  {
   "cell_type": "markdown",
   "metadata": {},
   "source": [
    "When you succesfully merged the number of women the dataframe, what do you do with the nan values? Fill in the dots."
   ]
  },
  {
   "cell_type": "code",
   "execution_count": 35,
   "metadata": {},
   "outputs": [],
   "source": [
    "data['NR_OF_WOMEN'] = data['NR_OF_WOMEN'].fillna(0) # data['NR_OF_WOMEN'] = data['NR_OF_WOMEN'].replace(np.nan, ...) "
   ]
  },
  {
   "cell_type": "markdown",
   "metadata": {},
   "source": [
    "## 5. Nonlinear relationships\n",
    "<hr>"
   ]
  },
  {
   "cell_type": "markdown",
   "metadata": {},
   "source": [
    "We are going to create two new variables based on age. First we want to create a variable with the age of the oldest person."
   ]
  },
  {
   "cell_type": "code",
   "execution_count": 45,
   "metadata": {},
   "outputs": [],
   "source": [
    "oldest = data[['SERIAL', 'AGE']].groupby('SERIAL').max().reset_index()"
   ]
  },
  {
   "cell_type": "markdown",
   "metadata": {},
   "source": [
    "We want to change the name of the column AGE to OLDEST, because we already have a column AGE in the dataframe data. Then we merge it to the dataframe. "
   ]
  },
  {
   "cell_type": "code",
   "execution_count": 37,
   "metadata": {},
   "outputs": [],
   "source": [
    "oldest = oldest.rename(columns = {'AGE':'OLDEST'})\n",
    "data = data.merge(oldest, on = 'SERIAL', how = 'left')"
   ]
  },
  {
   "cell_type": "markdown",
   "metadata": {},
   "source": [
    "QUESTION: Now create a variable yourself with the age of the youngest person, named YOUNGEST, and add it to the dataframe data. "
   ]
  },
  {
   "cell_type": "code",
   "execution_count": 38,
   "metadata": {},
   "outputs": [],
   "source": [
    "# Answer. \n",
    "youngest = data[['SERIAL', 'AGE']].groupby('SERIAL').min().reset_index()\n",
    "youngest = youngest.rename(columns = {'AGE':'YOUNGEST'})\n",
    "data = data.merge(youngest, on = 'SERIAL', how = 'left')"
   ]
  },
  {
   "cell_type": "markdown",
   "metadata": {},
   "source": [
    "Let's check if the correlation of the oldest and youngest person with energy costs is higher than the correlation of age with energy costs."
   ]
  },
  {
   "cell_type": "code",
   "execution_count": 41,
   "metadata": {},
   "outputs": [
    {
     "data": {
      "text/plain": [
       "<AxesSubplot:>"
      ]
     },
     "execution_count": 41,
     "metadata": {},
     "output_type": "execute_result"
    }
   ],
   "source": [
    "sns.heatmap(data[[\"COSTENERGY\",\"YOUNGEST\", \"OLDEST\", \"AGE\"]].corr(),\n",
    "                           annot=True, fmt = \".2f\", center=0, cmap = \"RdBu\")"
   ]
  },
  {
   "cell_type": "markdown",
   "metadata": {},
   "source": [
    "A possible explanation for the low correlation could be that the relationship between age and energy costs is not linear. Let's see the average energy costs over the age of the oldest person in the household in a barplot. "
   ]
  },
  {
   "cell_type": "code",
   "execution_count": null,
   "metadata": {},
   "outputs": [],
   "source": [
    "sns.barplot(x = 'OLDEST', y = 'COSTENERGY', data = data, errorbar = None)\n",
    "plt.xticks([0, 5, 10, 15, 20, 25, 30, 35, 40, 45, 50, 55, 60, 65, 70, 75, 80, 85, 90, 95]) #position of xticks. "
   ]
  },
  {
   "cell_type": "markdown",
   "metadata": {},
   "source": [
    "In the graph we see that especially households where the oldest member is young, energy costs are relatively low. Then energy costs increase until the age of 45-50 (maybe these are families with children) and then slowly decrease. We can add confidence intervals to the barplot with errorbar = 'ci' to see if the differences in energy costs over age of the oldest household member are significantly different. "
   ]
  },
  {
   "cell_type": "code",
   "execution_count": null,
   "metadata": {},
   "outputs": [],
   "source": [
    "sns.barplot(x = 'OLDEST', y = 'COSTENERGY', data = data, errorbar = 'ci')\n",
    "plt.xticks([15, 20, 25, 30, 35, 40, 45, 50, 55, 60, 65, 70, 75, 80, 85, 90, 95]) #position of xticks. "
   ]
  },
  {
   "cell_type": "markdown",
   "metadata": {},
   "source": [
    "Next we take a look at the barplot for age of the youngest person in the household."
   ]
  },
  {
   "cell_type": "code",
   "execution_count": null,
   "metadata": {},
   "outputs": [],
   "source": [
    "sns.barplot(x = 'YOUNGEST', y = 'COSTENERGY', data = data, errorbar = 'ci')\n",
    "plt.xticks([0, 5, 10, 15, 20, 25, 30, 35, 40, 45, 50, 55, 60, 65, 70, 75, 80, 85, 90, 95]) #position of xticks."
   ]
  },
  {
   "cell_type": "markdown",
   "metadata": {},
   "source": [
    "## 6. Regression analysis\n",
    "<hr>"
   ]
  },
  {
   "cell_type": "markdown",
   "metadata": {},
   "source": [
    "In the last part we are going to estimate a first model to predict energy costs of households. We will use a simple Ordinary Least Squares regression model. To  make life a bit easier, download the dataset for the OLS regression in the following line of code (it includes the new variables you created and it deals with missing values). We use the package statsmodels to estimate the OLS regression. We could also use the sklearn library, but the statsmodels package has the advantage that it includes standard errors of the coefficient estimates. This means that we can say something about the significance of the explanantory variables and the causality between the explanatory variables and the dependent variable, something which is not possible with a machine learning model.  "
   ]
  },
  {
   "cell_type": "code",
   "execution_count": null,
   "metadata": {},
   "outputs": [],
   "source": [
    "dataOLS = pd.read_csv(r\"usadataforOLS.csv\", sep = ',', encoding = 'unicode_escape')"
   ]
  },
  {
   "cell_type": "code",
   "execution_count": null,
   "metadata": {},
   "outputs": [],
   "source": [
    "Y = dataOLS[['COSTENERGY']]"
   ]
  },
  {
   "cell_type": "code",
   "execution_count": null,
   "metadata": {},
   "outputs": [],
   "source": [
    "X = dataOLS[[\"ROOMS\", \"HHINCOME\", \"BUILTYR2\", \"VEHICLES\", \"FARM\", \"OWNERSHP\", \"MORTGAGE\", \"YOUNGEST\", \"OLDEST\", \"HHSIZE\", \"NR_OF_WOMEN\"]]\n",
    "X['Constant'] = 1"
   ]
  },
  {
   "cell_type": "code",
   "execution_count": null,
   "metadata": {},
   "outputs": [],
   "source": [
    "regressionOLS = sm.OLS(Y, X)\n",
    "resultsOLS = regressionOLS.fit()\n",
    "print(resultsOLS.summary())"
   ]
  },
  {
   "cell_type": "markdown",
   "metadata": {},
   "source": [
    "Interpret the results of the OLS regression. Make another correlation heatmap to support your explanation. "
   ]
  },
  {
   "cell_type": "code",
   "execution_count": null,
   "metadata": {},
   "outputs": [],
   "source": [
    "# code for correlation heatmap. "
   ]
  }
 ],
 "metadata": {
  "kernelspec": {
   "display_name": "Python 3 (ipykernel)",
   "language": "python",
   "name": "python3"
  },
  "language_info": {
   "codemirror_mode": {
    "name": "ipython",
    "version": 3
   },
   "file_extension": ".py",
   "mimetype": "text/x-python",
   "name": "python",
   "nbconvert_exporter": "python",
   "pygments_lexer": "ipython3",
   "version": "3.10.6"
  },
  "vscode": {
   "interpreter": {
    "hash": "f323064ae63d54ed8d769390a968e914fbf7abacffc63e116cd2e04a08ed2d24"
   }
  },
  "widgets": {
   "application/vnd.jupyter.widget-state+json": {
    "state": {},
    "version_major": 2,
    "version_minor": 0
   }
  }
 },
 "nbformat": 4,
 "nbformat_minor": 4
}
