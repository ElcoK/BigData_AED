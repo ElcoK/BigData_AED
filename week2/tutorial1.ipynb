{
 "cells": [
  {
   "cell_type": "markdown",
   "metadata": {
    "id": "uWC4rptzkYkI"
   },
   "source": [
    "# Tutorial 1: Data Exploration and regression analysis\n",
    "\n",
    "In this tutorial you will learn how to read and explore census data from the [IPUMS USA](https://usa.ipums.org/usa/) database. IPUMS USA collects, preserves and harmonizes U.S. census microdata and provides easy access to this data with enhanced documentation. Data includes decennial censuses from 1790 to 2010 and American Community Surveys (ACS) from 2000 to the present.\n",
    "\n",
    "IPUMS provides census and survey data from around the world integrated across time and space. IPUMS integration and documentation makes it easy to study change, conduct comparative research, merge information across data types, and analyze individuals within family and community context.\n",
    "\n",
    "In this tutorial, you will learn how to read the IPUMPS USA data, explore and manipulate it (to prepare for analysis) and how to perform a simple correlation and regression analysis. We will use the IPUMS USA database throughout the next four tutorials.\n",
    "\n",
    "### Important before we start\n",
    "---\n",
    "Make sure that you save this file before you continue, else you will lose everything. To do so, go to **Bestand/File** and click on **Een kopie opslaan in Drive/Save a Copy on Drive**!\n",
    "\n",
    "Now, rename the file into Week2_Tutorial1.ipynb. You can do so by clicking on the name in the top of this screen."
   ]
  },
  {
   "cell_type": "markdown",
   "metadata": {
    "id": "si8XPsJVkYkN"
   },
   "source": [
    "<h2>Tutorial Outline<span class=\"tocSkip\"></span></h2>\n",
    "<hr>\n",
    "<div class=\"toc\"><ul class=\"toc-item\">\n",
    "<li><span><a href=\"#introducing-the-packages\" data-toc-modified-id=\"1.-Introducing-the-packages-2\">1. Introducing the packages</a></span></li>\n",
    "<li><span><a href=\"#reading-the-data-and-having-a-first-look\" data-toc-modified-id=\"2.-Reading-the-data-and-having-a-first-look-3\">2. Reading the data and having a first look</a></span></li>\n",
    "<li><span><a href=\"#exploratory-data-analysis\" data-toc-modified-id=\"3.-Exploratory-data-analysis-4\">3. Exploratory data analysis</a></span></li>\n",
    "<li><span><a href=\"#creating-new-variables\" data-toc-modified-id=\"4.-Creating new variables-5\">4. Creating new variables</a></span></li>\n",
    "<li><span><a href=\"#nonlinear-relationships\" data-toc-modified-id=\"5.-Nonlinear-relationships-6\">5. Nonlinear relationships </a></span></li></ul></div>"
   ]
  },
  {
   "cell_type": "markdown",
   "metadata": {
    "id": "z6YIFcOVkYkO"
   },
   "source": [
    "## Learning Objectives\n",
    "<hr>"
   ]
  },
  {
   "cell_type": "markdown",
   "metadata": {
    "id": "bedYbW7PkYkP"
   },
   "source": [
    "- Work with Pandas DataFrames with real-world data.\n",
    "- Introducing basic functions to explore and understand the data.\n",
    "- Learn how to Make distribution plots of the data\n",
    "- Create a correlation map\n",
    "- Create new variables\n",
    "- Set up an OLS regression"
   ]
  },
  {
   "cell_type": "markdown",
   "metadata": {
    "id": "s1CyoIv4kYkP"
   },
   "source": [
    "## 1. Introducing the packages\n",
    "<hr>"
   ]
  },
  {
   "cell_type": "markdown",
   "metadata": {
    "id": "Cua_uDTHkYkQ"
   },
   "source": [
    "Within this tutorial, we are going to make use of the following packages:\n",
    "\n",
    "[**seaborn**](https://seaborn.pydata.org/index.html) is a Python data visualization library based on matplotlib. It provides a high-level interface for drawing attractive and informative statistical graphics.\n",
    "\n",
    "[**NumPy**](https://numpy.org/doc/stable/) is a Python library that provides a multidimensional array object, various derived objects, and an assortment of routines for fast operations on arrays.\n",
    "\n",
    "[**Pandas**](https://pandas.pydata.org/docs/) is an open source, BSD-licensed library providing high-performance, easy-to-use data structures and data analysis tools for the Python programming language.\n",
    "\n",
    "[**statsmodels**](https://www.statsmodels.org/) is a Python module that provides classes and functions for the estimation of many different statistical models, as well as for conducting statistical tests, and statistical data exploration."
   ]
  },
  {
   "cell_type": "markdown",
   "metadata": {
    "id": "9sLC9IB2kYkT"
   },
   "source": [
    "Now we will import these packages in the cell below:"
   ]
  },
  {
   "cell_type": "code",
   "execution_count": 1,
   "metadata": {
    "id": "ks-i9aC0kYkT"
   },
   "outputs": [],
   "source": [
    "import matplotlib.pyplot as plt\n",
    "import numpy as np\n",
    "import pandas as pd\n",
    "import seaborn as sns\n",
    "import statsmodels.api as sm\n",
    "\n",
    "sns.set_style(\"whitegrid\",{'axes.grid' : True})\n",
    "pd.options.mode.chained_assignment = None"
   ]
  },
  {
   "cell_type": "markdown",
   "metadata": {
    "id": "-jcL-MqgkYkU"
   },
   "source": [
    "## 2. Reading the data and having a first look\n",
    "<hr>"
   ]
  },
  {
   "cell_type": "code",
   "execution_count": 2,
   "metadata": {
    "id": "K20OnXYFkYkV"
   },
   "outputs": [],
   "source": [
    "## Read the data using the pandas package\n",
    "data = pd.read_csv(r\"https://github.com/ElcoK/BigData_AED/raw/main/week2/usadataforweek2tut1.csv\")"
   ]
  },
  {
   "cell_type": "markdown",
   "metadata": {
    "id": "uLNoPY0KkYkV"
   },
   "source": [
    "There are hundreds of variables included in the IPUMS USA database. In the next line of code we read in a file with a short description of the variables that we selected for this tutorial. The dataset contains socio-demographic variables such as age, gender, education, but also economic variables, such as income, mortgage payments, energy costs, etc. In these two weeks we are going to work towards two machine learning models that can predict energy costs per household."
   ]
  },
  {
   "cell_type": "code",
   "execution_count": null,
   "metadata": {
    "colab": {
     "base_uri": "https://localhost:8080/"
    },
    "id": "z6Ed5z6AkYkW",
    "outputId": "9858e000-4e5e-4cc9-f0b4-a74b90b2a5d2"
   },
   "outputs": [],
   "source": [
    "datadescription = pd.read_csv(r\"https://github.com/ElcoK/BigData_AED/raw/main/week2/shortdescription_ipumsusa_variables.csv\", sep = ';', encoding = 'unicode_escape')\n",
    "print(datadescription[['Variable_name','Short_description']])"
   ]
  },
  {
   "cell_type": "markdown",
   "metadata": {
    "id": "5bLby1XrkYkW"
   },
   "source": [
    "Now let’s take a look at the dataset. A useful start is to explore the first rows through the `head()` function with Pandas."
   ]
  },
  {
   "cell_type": "code",
   "execution_count": null,
   "metadata": {
    "colab": {
     "base_uri": "https://localhost:8080/",
     "height": 236
    },
    "id": "HK9eNsk_kYkX",
    "outputId": "016024d1-cc03-490b-ca5b-b2cebf3540bc"
   },
   "outputs": [],
   "source": [
    "data.head()"
   ]
  },
  {
   "cell_type": "markdown",
   "metadata": {
    "id": "aDxYNQfwkYkX"
   },
   "source": [
    "And let's have a look at the total size of this dataset. To do so, we can use the `shape()` function."
   ]
  },
  {
   "cell_type": "code",
   "execution_count": null,
   "metadata": {
    "id": "PrGXtSs3kYkY"
   },
   "outputs": [],
   "source": [
    "data.shape"
   ]
  },
  {
   "cell_type": "markdown",
   "metadata": {
    "id": "N0OEQbLskYkY"
   },
   "source": [
    "And some more information through the `describe()` function."
   ]
  },
  {
   "cell_type": "code",
   "execution_count": null,
   "metadata": {
    "id": "g9kMFdAnkYkY"
   },
   "outputs": [],
   "source": [
    "data.describe()"
   ]
  },
  {
   "cell_type": "markdown",
   "metadata": {
    "id": "0vXGOlUEkYkZ"
   },
   "source": [
    "<div class=\"alert alert-block alert-success\">\n",
    "<b>Question 1:</b> What information do the functions .shape() and .describe() give you about the data?\n",
    "</div>"
   ]
  },
  {
   "cell_type": "markdown",
   "metadata": {
    "id": "kn4BwUG6kYkZ"
   },
   "source": [
    "Let's find out the data types of the data and if there are non-null counts."
   ]
  },
  {
   "cell_type": "code",
   "execution_count": null,
   "metadata": {
    "id": "2e-wS5q2kYkZ"
   },
   "outputs": [],
   "source": [
    "data.info()"
   ]
  },
  {
   "cell_type": "markdown",
   "metadata": {
    "id": "dtC5Yt6akYka"
   },
   "source": [
    "Another way to check if there are missing values by using the following line of code."
   ]
  },
  {
   "cell_type": "code",
   "execution_count": null,
   "metadata": {
    "colab": {
     "base_uri": "https://localhost:8080/"
    },
    "id": "LXabn4ixkYka",
    "outputId": "f35e332f-07f8-486a-bace-44447f305a04"
   },
   "outputs": [],
   "source": [
    "data.isnull().sum().sort_values(ascending = False)"
   ]
  },
  {
   "cell_type": "markdown",
   "metadata": {
    "id": "rELKVPGdkYka"
   },
   "source": [
    "<div class=\"alert alert-block alert-success\">\n",
    "<b>Question 2:</b> <br>\n",
    "    \n",
    "- Please describe what the following line of Python code does:\n",
    "<br>\n",
    "    <b>data.isnull().sum().sort_values(ascending = False)</b>\n",
    "<br>\n",
    "Hint: Every dot (.) indicates a new function.\n",
    "<br>\n",
    "- Also describe what you see in the data. What does the output mean? Do you notice any surprises?\n",
    "</div>"
   ]
  },
  {
   "cell_type": "markdown",
   "metadata": {
    "id": "0yOner1XkYkb"
   },
   "source": [
    "## 3. Exploratory data analysis\n",
    "<hr>"
   ]
  },
  {
   "cell_type": "markdown",
   "metadata": {
    "id": "-qKw69t7kYkb"
   },
   "source": [
    "Now we are going to take a look at some specific variables. We want to see how variables are distributed and how they are related to each other, and specifically how they are related to energy costs. We can do this in several ways."
   ]
  },
  {
   "cell_type": "markdown",
   "metadata": {
    "id": "vIW9uRVkkYkb"
   },
   "source": [
    "Here we see the different values in the variable OWNERSHIP and how many times each value occurs. If you want to know what the values mean, you can search the variable on the ipums usa website."
   ]
  },
  {
   "cell_type": "code",
   "execution_count": null,
   "metadata": {
    "colab": {
     "base_uri": "https://localhost:8080/"
    },
    "id": "VjexcsBGkYkb",
    "outputId": "b52591f2-31a1-4a8c-c31f-8140714889a8"
   },
   "outputs": [],
   "source": [
    "data['OWNERSHP'].value_counts(dropna = False)"
   ]
  },
  {
   "cell_type": "code",
   "execution_count": null,
   "metadata": {
    "colab": {
     "base_uri": "https://localhost:8080/"
    },
    "id": "rQT7_acHkYkb",
    "outputId": "47ab5a18-0da0-4eb9-d60e-d112e5ed2e76"
   },
   "outputs": [],
   "source": [
    "data['HHINCOME'].value_counts(dropna = False)"
   ]
  },
  {
   "cell_type": "markdown",
   "metadata": {
    "id": "JIuc6ddBkYkc"
   },
   "source": [
    "The function `value_counts()` is especially useful when the number of values in a variable is limited. For example, for income, which contains a lot of different values, value_counts is not so useful and a plot of the distribution would be more insightful. We can use the **seaborn** package to easily plot the distribution of the income.   "
   ]
  },
  {
   "cell_type": "code",
   "execution_count": null,
   "metadata": {
    "colab": {
     "base_uri": "https://localhost:8080/",
     "height": 523
    },
    "id": "v5aDo2sqkYkc",
    "outputId": "a434e586-486b-403e-d0db-815719193fce"
   },
   "outputs": [],
   "source": [
    "%matplotlib inline\n",
    "sns.displot(data['HHINCOME'], bins=50,kde=False)"
   ]
  },
  {
   "cell_type": "code",
   "execution_count": null,
   "metadata": {
    "colab": {
     "base_uri": "https://localhost:8080/",
     "height": 523
    },
    "id": "CA3N-3D_kYkc",
    "outputId": "ce50a59e-42aa-4d60-e947-6180ce5e5047"
   },
   "outputs": [],
   "source": [
    "%matplotlib inline\n",
    "# Less bins\n",
    "sns.displot(data['HHINCOME'], bins=20,kde=False)"
   ]
  },
  {
   "cell_type": "markdown",
   "metadata": {
    "id": "pXYiwLDNkYkc"
   },
   "source": [
    "And we can also include the kernel density, by setting the `kde` parameter to **True**. Kernel Density Estimation (KDE) is a technique that let’s you create a smooth curve given a set of data. This can be useful if you want to visualize just the “shape” of some data, as a kind of continuous replacement for the discrete histogram."
   ]
  },
  {
   "cell_type": "code",
   "execution_count": null,
   "metadata": {
    "colab": {
     "base_uri": "https://localhost:8080/",
     "height": 523
    },
    "id": "tMQEAQetkYkd",
    "outputId": "86bc96c4-f2d8-49c7-ef63-7b5d291983b5"
   },
   "outputs": [],
   "source": [
    "%matplotlib inline\n",
    "sns.displot(data['HHINCOME'], bins=50,kde=True)"
   ]
  },
  {
   "cell_type": "code",
   "execution_count": null,
   "metadata": {
    "id": "0A7N1tM-kYkd"
   },
   "outputs": [],
   "source": [
    "# code block to create your own plot of a distribution of a variable. "
   ]
  },
  {
   "cell_type": "markdown",
   "metadata": {
    "id": "0K30W0NTkYkd"
   },
   "source": [
    "Now we are going to take a look at the variable we want to predict in a later stage, energy costs."
   ]
  },
  {
   "cell_type": "code",
   "execution_count": null,
   "metadata": {
    "colab": {
     "base_uri": "https://localhost:8080/",
     "height": 523
    },
    "id": "MGeyGthWkYke",
    "outputId": "373584ad-ee4d-491d-944f-5e5bb918cc28"
   },
   "outputs": [],
   "source": [
    "%matplotlib inline\n",
    "sns.displot(data['COSTENERGY'], bins=50,kde=False)"
   ]
  },
  {
   "cell_type": "markdown",
   "metadata": {
    "id": "dH7frrphkYkf"
   },
   "source": [
    "Next we want to see how different variables are related to each other. We are specifically interested in which variables are correlated to energy costs, as we are going to predict energy costs using a simple regression model in Step 6 of this tutorial. To identify potential predictors of energy costs, we can create a correlation matrix using the code below. You can add a few variables you are interested in yourself.\n",
    "As you can see, there are several options in the seaborn (imported as sns) heatmap. We have annot = True which makes sure that we include the numbers in the heatmap (try switching it off), fmt = .2f specifies that we want to have 2 decimals, with cmap we can specify the color palette and with center = 0, we scale the colors in such a way that a correlation of 0 corresponds to white color.   \n"
   ]
  },
  {
   "cell_type": "code",
   "execution_count": null,
   "metadata": {
    "colab": {
     "base_uri": "https://localhost:8080/",
     "height": 607
    },
    "id": "5FD9ta4_kYkg",
    "outputId": "475e082e-9ba4-443b-a126-4d648fb4b564"
   },
   "outputs": [],
   "source": [
    "%matplotlib inline\n",
    "plt.figure(figsize=(8,6))\n",
    "sns.heatmap(data[[\"COSTENERGY\", \"ROOMS\", \"RENT\", \"INCTOT\", \"HHINCOME\", \"BUILTYR2\", \"VEHICLES\", \"BEDROOMS\", \"FARM\", \"OWNERSHP\", \"MORTGAGE\", \"AGE\", \"SEX\"]].corr(),\n",
    "                           annot=True, fmt = \".2f\", center=0, cmap = \"RdBu\")\n",
    "plt.show()"
   ]
  },
  {
   "cell_type": "markdown",
   "metadata": {
    "id": "yv55XfWGkYkg"
   },
   "source": [
    "<div class=\"alert alert-block alert-success\">\n",
    "    <b>Question 3:</b> Which variable is most correlated to <b>COSTENERGY</b> and which variable the least?  \n",
    "</div>"
   ]
  },
  {
   "cell_type": "markdown",
   "metadata": {
    "id": "cs781VNukYkg"
   },
   "source": [
    "## 4. Creating new variables\n",
    "<hr>"
   ]
  },
  {
   "cell_type": "markdown",
   "metadata": {
    "id": "NwypAzjFkYkg"
   },
   "source": [
    "One variable that is not present in the dataset, but will most likely have a high impact on energy costs is the number of household members. We can create a new variable HHSIZE (household size) using the column SERIAL, which identifies household IDs (i.e., all members of the same household share the same ID). To create a new column HHSIZE, we will count the occurrences of each unique household ID in the SERIAL column. "
   ]
  },
  {
   "cell_type": "code",
   "execution_count": 10,
   "metadata": {
    "id": "Ow5FFfLxkYkg"
   },
   "outputs": [],
   "source": [
    "serialcount = data['SERIAL'].value_counts().reset_index()"
   ]
  },
  {
   "cell_type": "code",
   "execution_count": null,
   "metadata": {
    "id": "CDrCdLWDkYkh"
   },
   "outputs": [],
   "source": [
    "print(serialcount)"
   ]
  },
  {
   "cell_type": "markdown",
   "metadata": {
    "id": "5q9fLnlWkYkh"
   },
   "source": [
    "The column **count** indicates the number of persons in each household and each household is uniquely identified by the **SERIAL** column. Rename the column **count** to **HHSIZE** in the empty code block below.  "
   ]
  },
  {
   "cell_type": "code",
   "execution_count": null,
   "metadata": {
    "id": "wGCV5MM-kYkh"
   },
   "outputs": [],
   "source": []
  },
  {
   "cell_type": "markdown",
   "metadata": {
    "id": "-MSHB7T_kYkh"
   },
   "source": [
    "Then we add the column **HHSIZE** (household) size to our data using the `.merge()` function. Within the `merge()` function, you have to define on which column you want to merge the two dataframes using the `on` argument. Merge on the **SERIAL** column."
   ]
  },
  {
   "cell_type": "code",
   "execution_count": 11,
   "metadata": {
    "id": "LvynYPTykYkh"
   },
   "outputs": [],
   "source": [
    "data = data.merge(serialcount, on = 'SERIAL', how = 'left')"
   ]
  },
  {
   "cell_type": "markdown",
   "metadata": {
    "id": "p6TXXSpQkYki"
   },
   "source": [
    "It is important to realize that the dataset contains household variables and individual variables. Household variables have the same value for the entire household (e.g. energy costs) and individual variables differ within the household (e.g. age and gender). Individual variables are not very meaningful in predicting a household variable, such as energy costs. Think of a family with children, where a 3-year old daughter has the same energy costs as the 40-year old father. Therefore, it doesn't make sense to include AGE or SEX in the model in their current form. In this section, we will create new variables based on the variable AGE (We assume that SEX doesn't have a large effects on energy costs anyway). In the next steps, we are going to create a new variable (columns) which indicates the number of young children in a household. We hypothesize that young children will increase the household's energy bill (more dirty laundry, so increased usage of washing machine and dryer)."
   ]
  },
  {
   "cell_type": "markdown",
   "metadata": {
    "id": "rFA3Lh2LkYki"
   },
   "source": [
    "First, we create a column \"YOUNGERTHAN\". Choose an age between 1 and 8. "
   ]
  },
  {
   "cell_type": "code",
   "execution_count": 12,
   "metadata": {
    "id": "UH67KE1TkYki"
   },
   "outputs": [],
   "source": [
    "data['YOUNGERTHAN'] = data['AGE'] <= #fill in age\n"
   ]
  },
  {
   "cell_type": "markdown",
   "metadata": {
    "id": "5qffPKNekYki"
   },
   "source": [
    "This will create a new column with True and False (True for individuals younger than the given age). Let's convert this to integers because it's easier to work with numbers. "
   ]
  },
  {
   "cell_type": "code",
   "execution_count": 13,
   "metadata": {
    "id": "rCwZ8ItPkYkj"
   },
   "outputs": [],
   "source": [
    "data['YOUNGERTHAN'] = data['YOUNGERTHAN'].astype(int)"
   ]
  },
  {
   "cell_type": "markdown",
   "metadata": {
    "id": "nVjeWCw-kYkj"
   },
   "source": [
    "Now we will count the number of young children in each household. In the following line of code, we create a new dataframe, <b>childcount</b>, which gives us the number of individuals within SERIAL and YOUNGERTHAN. Specifically, this dataframe will show the count of household members younger than the given age (YOUNGERTHAN == 1) and those older than the given age (YOUNGERTHAN == 0).  "
   ]
  },
  {
   "cell_type": "code",
   "execution_count": null,
   "metadata": {
    "id": "49QIROMMkYkj"
   },
   "outputs": [],
   "source": [
    "childcount = data[['SERIAL', 'YOUNGERTHAN']].value_counts().reset_index()\n",
    "print(childcount)"
   ]
  },
  {
   "cell_type": "markdown",
   "metadata": {
    "id": "5GUTTDNgkYkk"
   },
   "source": [
    "The following line of code gives the same result. "
   ]
  },
  {
   "cell_type": "code",
   "execution_count": null,
   "metadata": {
    "id": "icrJJKKdkYkk"
   },
   "outputs": [],
   "source": [
    "childcount = data[['SERIAL','YOUNGERTHAN']].groupby(['SERIAL', 'YOUNGERTHAN']).size().reset_index()\n",
    "print(childcount)"
   ]
  },
  {
   "cell_type": "markdown",
   "metadata": {
    "id": "w9a28h2NkYkk"
   },
   "source": [
    "<div class=\"alert alert-block alert-success\">\n",
    "    <b>Question 4:</b> Please describe what the following line of Python code does:\n",
    "<br> childcount = data[['SERIAL','YOUNGERTHAN']].groupby(['SERIAL', 'YOUNGERTHAN']).size().reset_index()\n",
    "</div>"
   ]
  },
  {
   "cell_type": "markdown",
   "metadata": {
    "id": "tB-ax0z4kYkk"
   },
   "source": [
    "We want to count the number of household members that are younger than the given age, so we run:"
   ]
  },
  {
   "cell_type": "code",
   "execution_count": 16,
   "metadata": {
    "id": "fr-9BLVCkYkk"
   },
   "outputs": [],
   "source": [
    "childcount1 = childcount[childcount['YOUNGERTHAN'] == 1]"
   ]
  },
  {
   "cell_type": "markdown",
   "metadata": {
    "id": "K-o3cqeGkYkl"
   },
   "source": [
    "This creates a new dataframe, <b> childcount1 </b>, which only contains the number of household members younger than the given age for each household ID (SERIAL). We drop the column YOUNGERTHAN and we rename the remaining two columns: "
   ]
  },
  {
   "cell_type": "code",
   "execution_count": 17,
   "metadata": {
    "id": "mYWbZO8QkYkl"
   },
   "outputs": [],
   "source": [
    "childcount1 = childcount1.drop(columns = ['YOUNGERTHAN'])\n",
    "childcount1.columns = ['SERIAL', 'NR_OF_YOUNGCHILDREN']"
   ]
  },
  {
   "cell_type": "markdown",
   "metadata": {
    "id": "waddrryFkYkl"
   },
   "source": [
    "Then we merge childcount1 to data. "
   ]
  },
  {
   "cell_type": "code",
   "execution_count": 18,
   "metadata": {
    "id": "nxuzz2lOkYkl"
   },
   "outputs": [],
   "source": [
    "data = data.merge(childcount1, on = 'SERIAL', how = 'left')"
   ]
  },
  {
   "cell_type": "markdown",
   "metadata": {
    "id": "kTeLK-a4kYkl"
   },
   "source": [
    "When we inspect the values in the column YOUNGERTHAN of data, we notice something:"
   ]
  },
  {
   "cell_type": "code",
   "execution_count": null,
   "metadata": {
    "colab": {
     "base_uri": "https://localhost:8080/",
     "height": 452
    },
    "id": "sf-oPrCSkYkm",
    "outputId": "68470410-60f8-413b-84b5-a30b5471ef5e"
   },
   "outputs": [],
   "source": [
    "data['NR_OF_YOUNGCHILDREN'].value_counts(dropna = False).reset_index()"
   ]
  },
  {
   "cell_type": "markdown",
   "metadata": {
    "id": "Wwm6AqNnkYkm"
   },
   "source": [
    "<div class=\"alert alert-block alert-success\">\n",
    "    <b>Question 5:</b> Why are there so many NaN values? Use the following code block to fill in the NaN and report the line of code. \n",
    "</div>"
   ]
  },
  {
   "cell_type": "code",
   "execution_count": 20,
   "metadata": {
    "colab": {
     "base_uri": "https://localhost:8080/",
     "height": 559
    },
    "id": "0H75bHnUkYkm",
    "outputId": "9906e923-fb72-4d2e-be06-83bf796dd8ce"
   },
   "outputs": [],
   "source": [
    "# fill in the nans in column NR_OF_YOUNGCHILDREN in data"
   ]
  },
  {
   "cell_type": "markdown",
   "metadata": {},
   "source": [
    "Now we will visualize the relationship between the number of young children and energy costs. "
   ]
  },
  {
   "cell_type": "code",
   "execution_count": null,
   "metadata": {},
   "outputs": [],
   "source": [
    "plt.figure()\n",
    "sns.barplot(x = 'NR_OF_YOUNGCHILDREN', y = 'COSTENERGY', data = data)\n",
    "plt.title('Nr of young children in household vs Cost of Energy')\n",
    "plt.show()"
   ]
  },
  {
   "cell_type": "markdown",
   "metadata": {},
   "source": [
    "In the next steps, you are going to create another variable based on age. We hypothesize that older people use relative more energy than younger people, because older people are more likely to be retired and spend more time at home than younger people with a job. (The dataset dates from pre covid, so working from home was not a thing yet). We don't have information on retirement, so will proxy retirement by age."
   ]
  },
  {
   "cell_type": "markdown",
   "metadata": {
    "id": "Selw6ilEkYkm"
   },
   "source": [
    "We follow the same steps as we used to determine the number of young children. See how we can combine two lines of code in one: "
   ]
  },
  {
   "cell_type": "code",
   "execution_count": 22,
   "metadata": {},
   "outputs": [],
   "source": [
    "data['OLDERTHAN'] = (data['AGE'] >= ).astype(int) #fill in an age between 62 and 68. "
   ]
  },
  {
   "cell_type": "markdown",
   "metadata": {},
   "source": [
    "Create a dataframe, <b> eldercount </b>, that gives the number of people older than the given age and younger than the given age per household ID (SERIAL). "
   ]
  },
  {
   "cell_type": "code",
   "execution_count": 23,
   "metadata": {},
   "outputs": [],
   "source": [
    "eldercount = "
   ]
  },
  {
   "cell_type": "markdown",
   "metadata": {},
   "source": [
    "Similar as before, we are only interested in the number of household members older than the given age. "
   ]
  },
  {
   "cell_type": "code",
   "execution_count": 24,
   "metadata": {},
   "outputs": [],
   "source": [
    "eldercount1 = "
   ]
  },
  {
   "cell_type": "markdown",
   "metadata": {},
   "source": [
    "Then we drop the columns OLDERTHAN and we rename the columns. "
   ]
  },
  {
   "cell_type": "markdown",
   "metadata": {},
   "source": [
    "<div class=\"alert alert-block alert-success\">\n",
    "    <b>Question 6:</b> If you run the next two lines of code, you will get an error. Explain what goes wrong and add the missing part. \n",
    "</div>"
   ]
  },
  {
   "cell_type": "code",
   "execution_count": 25,
   "metadata": {},
   "outputs": [],
   "source": [
    "eldercount1.drop(columns = ['OLDERTHAN'])\n",
    "eldercount1.columns = ['SERIAL', 'NR_OF_ELDERLY']"
   ]
  },
  {
   "cell_type": "markdown",
   "metadata": {},
   "source": [
    "Then, we merge eldercount1 to data. Note that we create a new dataframe, <b> datatest </b>, and that we do a <b> right merge </b>. "
   ]
  },
  {
   "cell_type": "code",
   "execution_count": null,
   "metadata": {},
   "outputs": [],
   "source": [
    "datatest = data.merge(eldercount1, on = 'SERIAL', how = 'right')"
   ]
  },
  {
   "cell_type": "markdown",
   "metadata": {},
   "source": [
    "<div class=\"alert alert-block alert-success\">\n",
    "    <b>Question 7:</b> Can you explain what happens when we do a right merge? Hint: Inspect the number of rows in data, datatest and eldercount1. Additionally, describe the other options available for the how parameter in the merge function and explain how they affect the resulting dataframe (datatest). \n",
    "</div>"
   ]
  },
  {
   "cell_type": "code",
   "execution_count": null,
   "metadata": {},
   "outputs": [],
   "source": [
    "# code block to test different merges. datatest = data.merge(eldercount1, on = 'SERIAL', how = '')"
   ]
  },
  {
   "cell_type": "markdown",
   "metadata": {},
   "source": [
    "Run the following lines to merge eldercount1 to data "
   ]
  },
  {
   "cell_type": "code",
   "execution_count": 26,
   "metadata": {},
   "outputs": [],
   "source": [
    "data = data.merge(eldercount1, on = 'SERIAL', how = 'left')\n",
    "data['NR_OF_ELDERLY'] = data['NR_OF_ELDERLY'].fillna(0)"
   ]
  },
  {
   "cell_type": "code",
   "execution_count": null,
   "metadata": {},
   "outputs": [],
   "source": [
    "plt.figure()\n",
    "sns.barplot(x = 'NR_OF_ELDERLY', y = 'COSTENERGY', data = data)\n",
    "plt.title('Nr of elderly in household vs Cost of Energy')\n",
    "plt.show()"
   ]
  },
  {
   "cell_type": "markdown",
   "metadata": {},
   "source": [
    "<div class=\"alert alert-block alert-success\">\n",
    "    <b>Question 8:</b> The figure shows that there is no linear relationship between the number of elderly in a household and the household's energy costs. Therefore, we will also create a binary variable that just indicates the presence of elderly persons in the household. In the next code block, create this new variable <b> ELDERLY_PRESENT </b> and report your code. </div>"
   ]
  },
  {
   "cell_type": "code",
   "execution_count": null,
   "metadata": {},
   "outputs": [],
   "source": [
    "data['ELDERLY_PRESENT'] = "
   ]
  },
  {
   "cell_type": "markdown",
   "metadata": {
    "id": "qRD_wrUjkYkn"
   },
   "source": [
    "## 6. Regression analysis\n",
    "<hr>"
   ]
  },
  {
   "cell_type": "markdown",
   "metadata": {
    "id": "_vUMR2b4kYkn"
   },
   "source": [
    "In the last part we are going to estimate a first model to predict energy costs of households. We will use a simple Ordinary Least Squares regression model. To  make life a bit easier, download the dataset for the OLS regression in the following line of code (it includes the new variables you created and it deals with missing values). We use the package statsmodels to estimate the OLS regression. We could also use the sklearn library, but the statsmodels package has the advantage that it includes standard errors of the coefficient estimates. This means that we can say something about the significance of the explanantory variables and the causality between the explanatory variables and the dependent variable, something which is not possible with a machine learning model.  "
   ]
  },
  {
   "cell_type": "code",
   "execution_count": 28,
   "metadata": {
    "id": "LnHE5-_6kYkn"
   },
   "outputs": [],
   "source": [
    "dataOLS = pd.read_csv(r\"https://github.com/ElcoK/BigData_AED/raw/main/week2/usadataforOLS.csv\", sep = ',', encoding = 'unicode_escape')"
   ]
  },
  {
   "cell_type": "code",
   "execution_count": 30,
   "metadata": {
    "id": "BBwRaqJ_kYkn"
   },
   "outputs": [],
   "source": [
    "Y = dataOLS[['COSTENERGY']]"
   ]
  },
  {
   "cell_type": "code",
   "execution_count": 43,
   "metadata": {
    "id": "4hRMFUDvkYkn"
   },
   "outputs": [],
   "source": [
    "X = dataOLS[[\"ROOMS\", \"HHINCOME\", \"BUILTYR2\", \"VEHICLES\", \"FARM\", \"OWNERSHP\", \"HHSIZE\", \"NR_OF_ELDERLY\", \"NR_OF_YOUNGCHILDREN\"]]\n",
    "X['Constant'] = 1"
   ]
  },
  {
   "cell_type": "code",
   "execution_count": null,
   "metadata": {
    "id": "fOrBx0RXkYko"
   },
   "outputs": [],
   "source": [
    "regressionOLS = sm.OLS(Y, X)\n",
    "resultsOLS = regressionOLS.fit()\n",
    "print(resultsOLS.summary())"
   ]
  },
  {
   "cell_type": "markdown",
   "metadata": {
    "id": "ksT_I6z7kYko"
   },
   "source": [
    "<div class=\"alert alert-block alert-success\">\n",
    "    <b>Question 9:</b> Interpret the results of the OLS regression. You can discuss the following questions in your answer. 1) Do you think that the coefficient estimates are plausible? You don't need to explain all coefficient estimates, but highlight a few. 2) Would you include other variables in the regression? Or do you want to exclude variables? Explain which ones. Make another correlation heatmap to support your explanation.\n",
    "</div>"
   ]
  },
  {
   "cell_type": "markdown",
   "metadata": {
    "id": "8maQNAl8kYko"
   },
   "source": [
    "Interpret the results of the OLS regression. Make another correlation heatmap to support your explanation."
   ]
  },
  {
   "cell_type": "code",
   "execution_count": null,
   "metadata": {
    "id": "6lTpFlT9kYko"
   },
   "outputs": [],
   "source": [
    "# code for correlation heatmap."
   ]
  },
  {
   "cell_type": "code",
   "execution_count": null,
   "metadata": {
    "id": "Y5rNiv7akYkp"
   },
   "outputs": [],
   "source": []
  }
 ],
 "metadata": {
  "colab": {
   "provenance": []
  },
  "kernelspec": {
   "display_name": "Python 3 (ipykernel)",
   "language": "python",
   "name": "python3"
  },
  "language_info": {
   "codemirror_mode": {
    "name": "ipython",
    "version": 3
   },
   "file_extension": ".py",
   "mimetype": "text/x-python",
   "name": "python",
   "nbconvert_exporter": "python",
   "pygments_lexer": "ipython3",
   "version": "3.8.20"
  },
  "vscode": {
   "interpreter": {
    "hash": "f323064ae63d54ed8d769390a968e914fbf7abacffc63e116cd2e04a08ed2d24"
   }
  }
 },
 "nbformat": 4,
 "nbformat_minor": 4
}
