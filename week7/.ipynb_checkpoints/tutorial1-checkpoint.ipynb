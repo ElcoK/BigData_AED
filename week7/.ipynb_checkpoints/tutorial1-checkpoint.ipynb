{
 "cells": [
  {
   "cell_type": "markdown",
   "metadata": {},
   "source": [
    "# Tutorial: Visualizing data\n",
    "In this tutorial, we will walk you through some of the basics (and essentials) to make high-quality figures. We will tru to help you with deciding the right plot-type (and what it means if you would choose the wrong one), the right colormap and scaling (in particular very important for spatial data), and the different packages that one can use in Python to make plots. We will play around with both *static* visualisation through using **matplotlib** (the most important package for visualisation in Python) and **seaborn**, and interactive visualisation by using **plotly** and **leaflet**. \n",
    "\n",
    "\n",
    "\n",
    "### Important before we start\n",
    "---\n",
    "Make sure that you save this file before you continue, else you will lose everything. To do so, go to **Bestand/File** and click on **Een kopie opslaan in Drive/Save a Copy on Drive**!\n",
    "\n",
    "Now, rename the file into Week7_Tutorial1.ipynb. You can do so by clicking on the name in the top of this screen."
   ]
  },
  {
   "cell_type": "markdown",
   "metadata": {},
   "source": [
    "## Learning Objectives\n",
    "<hr>"
   ]
  },
  {
   "cell_type": "markdown",
   "metadata": {},
   "source": [
    "- .\n",
    "- .\n",
    "- .\n",
    "- .\n",
    "- .\n",
    "- ."
   ]
  },
  {
   "cell_type": "markdown",
   "metadata": {},
   "source": [
    "<h2>Tutorial Outline<span class=\"tocSkip\"></span></h2>\n",
    "<hr>\n",
    "<div class=\"toc\"><ul class=\"toc-item\">\n",
    "<li><span><a href=\"#1.-Introducing the packages\" data-toc-modified-id=\"1.-Introducing-the-packages-2\">1. Introducing the packages</a></span></li>\n",
    "<li><span><a href=\"#2.-\" data-toc-modified-id=\"2.-Extracting-landuse-information-3\">2. </a></span></li>\n",
    "<li><span><a href=\"#3.-\" data-toc-modified-id=\"3.-Visualize-Rasterize-4\">3. </a></span></li>\n",
    "<li><span><a href=\"#4.-\" data-toc-modified-id=\"4.-Extracting-buildings-5\">4. </a></span></li>\n",
    "<li><span><a href=\"#5.-\" data-toc-modified-id=\"5.-Analyze-buildings-6\">5. </a></span></li>\n",
    "<li><span><a href=\"#6.-\" data-toc-modified-id=\"4.-Extracting-roads-5\">6. </a></span></li>\n",
    "<li><span><a href=\"#7.-\" data-toc-modified-id=\"5.-Plot-routes-6\">7. </a></span></li></ul></div>"
   ]
  },
  {
   "cell_type": "markdown",
   "metadata": {},
   "source": [
    "## 1.Introducing the packages\n",
    "<hr>"
   ]
  },
  {
   "cell_type": "markdown",
   "metadata": {},
   "source": [
    "Within this tutorial, we are going to make use of the following packages: \n",
    "\n",
    "\n",
    "\n",
    "*We will first need to install these packages in the cell below. Uncomment them to make sure we can pip install them*"
   ]
  },
  {
   "cell_type": "code",
   "execution_count": null,
   "metadata": {},
   "outputs": [],
   "source": [
    "from matplotlib import rcParams, cycler\n",
    "import matplotlib.pyplot as plt\n",
    "import numpy as np\n",
    "plt.ion()"
   ]
  },
  {
   "cell_type": "code",
   "execution_count": null,
   "metadata": {},
   "outputs": [],
   "source": [
    "# Fixing random state for reproducibility\n",
    "np.random.seed(19680801)\n",
    "\n",
    "N = 10\n",
    "data = [np.logspace(0, 1, 100) + np.random.randn(100) + ii for ii in range(N)]\n",
    "data = np.array(data).T\n",
    "cmap = plt.cm.coolwarm\n",
    "rcParams['axes.prop_cycle'] = cycler(color=cmap(np.linspace(0, 1, N)))\n",
    "\n",
    "\n",
    "from matplotlib.lines import Line2D\n",
    "custom_lines = [Line2D([0], [0], color=cmap(0.), lw=4),\n",
    "                Line2D([0], [0], color=cmap(.5), lw=4),\n",
    "                Line2D([0], [0], color=cmap(1.), lw=4)]\n",
    "\n",
    "fig, ax = plt.subplots(figsize=(10, 5))\n",
    "lines = ax.plot(data)\n",
    "ax.legend(custom_lines, ['Cold', 'Medium', 'Hot']);"
   ]
  }
 ],
 "metadata": {
  "kernelspec": {
   "display_name": "Python 3 (ipykernel)",
   "language": "python",
   "name": "python3"
  },
  "language_info": {
   "codemirror_mode": {
    "name": "ipython",
    "version": 3
   },
   "file_extension": ".py",
   "mimetype": "text/x-python",
   "name": "python",
   "nbconvert_exporter": "python",
   "pygments_lexer": "ipython3",
   "version": "3.10.6"
  },
  "widgets": {
   "application/vnd.jupyter.widget-state+json": {
    "state": {},
    "version_major": 2,
    "version_minor": 0
   }
  }
 },
 "nbformat": 4,
 "nbformat_minor": 4
}
